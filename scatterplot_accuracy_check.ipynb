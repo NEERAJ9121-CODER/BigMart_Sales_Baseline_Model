{
 "cells": [
  {
   "cell_type": "code",
   "execution_count": 2,
   "metadata": {
    "id": "gPp_69JsyK4s"
   },
   "outputs": [],
   "source": [
    "import warnings\n",
    "import pandas as pd\n",
    "import numpy as np\n",
    "import seaborn as sns\n",
    "import matplotlib.pyplot as plt\n",
    "from tqdm import tqdm\n",
    "from datetime import datetime\n",
    "\n",
    "# Ignore warnings\n",
    "warnings.filterwarnings(\"ignore\")\n",
    "\n",
    "# Set pandas display options\n",
    "pd.set_option(\"display.max_columns\", None)\n",
    "pd.set_option(\"display.max_rows\", None)\n",
    "\n",
    "# Ensure plots are displayed inline\n",
    "%matplotlib inline\n"
   ]
  },
  {
   "cell_type": "code",
   "execution_count": 3,
   "metadata": {
    "colab": {
     "base_uri": "https://localhost:8080/"
    },
    "id": "KFxHd6cByZQ4",
    "outputId": "c2f99121-a2bb-4e7a-f680-8ab67bcdcc7e"
   },
   "outputs": [
    {
     "name": "stdout",
     "output_type": "stream",
     "text": [
      "Mounted at /content/drive\n"
     ]
    }
   ],
   "source": [
    "from google.colab import drive\n",
    "drive.mount('/content/drive')"
   ]
  },
  {
   "cell_type": "markdown",
   "metadata": {
    "id": "QmEX_-FUIVEp"
   },
   "source": [
    "Reading Data from CSV File and Inspecting Data Dimensions\n",
    "\n"
   ]
  },
  {
   "cell_type": "code",
   "execution_count": 4,
   "metadata": {
    "colab": {
     "base_uri": "https://localhost:8080/"
    },
    "id": "1bTKCIh7-qN1",
    "outputId": "8139f117-c891-45c6-a25c-7644972c4bc6"
   },
   "outputs": [
    {
     "data": {
      "text/plain": [
       "(201092, 144)"
      ]
     },
     "execution_count": 4,
     "metadata": {},
     "output_type": "execute_result"
    }
   ],
   "source": [
    "NP = pd.read_csv(\"/content/drive/My Drive/CSV/midtermgentdataFinal.csv\")\n",
    "NP.shape"
   ]
  },
  {
   "cell_type": "code",
   "execution_count": 5,
   "metadata": {
    "id": "VwXkDCrD_L7H"
   },
   "outputs": [],
   "source": [
    "NP = NP.rename(columns={\"Bedrooms\": \"Roof Material\", \"Roof Material\": \"Bedrooms\", \"Attic Type\": \"Half Baths\", \"Half Baths\": \"Attic Type\",\"Large Home Indicator\": \"Land Square Feet\", \"Land Square Feet\": \"Large Home Indicator\"})\n"
   ]
  },
  {
   "cell_type": "markdown",
   "metadata": {
    "id": "aJB3aOUlxxXQ"
   },
   "source": [
    "Analyzing the Count of Positive Differences in Certified and Mailed CCAO Values"
   ]
  },
  {
   "cell_type": "code",
   "execution_count": 6,
   "metadata": {
    "colab": {
     "base_uri": "https://localhost:8080/"
    },
    "id": "nIz_jkyNCxRI",
    "outputId": "dc472413-9bb4-4a77-cc82-c20deda73d6b"
   },
   "outputs": [
    {
     "data": {
      "text/plain": [
       "True     200949\n",
       "False       143\n",
       "Name: diff_CCAO, dtype: int64"
      ]
     },
     "execution_count": 6,
     "metadata": {},
     "output_type": "execute_result"
    }
   ],
   "source": [
    "NP['diff_CCAO'] =  NP['CCAO mailed AV'] - NP['CCAO certified AV']\n",
    "(NP['diff_CCAO']>0).value_counts()"
   ]
  },
  {
   "cell_type": "code",
   "execution_count": 7,
   "metadata": {
    "colab": {
     "base_uri": "https://localhost:8080/"
    },
    "id": "hmWSPWCGC-NY",
    "outputId": "890b4298-2d27-4755-813c-ce5a11351759"
   },
   "outputs": [
    {
     "data": {
      "text/plain": [
       "count    201092.000000\n",
       "mean       2017.735623\n",
       "std        1348.567057\n",
       "min           0.000000\n",
       "25%        1166.000000\n",
       "50%        1830.000000\n",
       "75%        2593.000000\n",
       "max      129540.000000\n",
       "Name: diff_CCAO, dtype: float64"
      ]
     },
     "execution_count": 7,
     "metadata": {},
     "output_type": "execute_result"
    }
   ],
   "source": [
    "NP['diff_CCAO'].describe()"
   ]
  },
  {
   "cell_type": "markdown",
   "metadata": {
    "id": "F6l_LawmyBjt"
   },
   "source": [
    "Selecting and Extracting Specific Columns from a DataFrame"
   ]
  },
  {
   "cell_type": "code",
   "execution_count": 8,
   "metadata": {
    "id": "nGw93tY1DUA2"
   },
   "outputs": [],
   "source": [
    "def few_columns(columns,NP):\n",
    "      NP2=NP[columns]\n",
    "      return NP2\n",
    "\n"
   ]
  },
  {
   "cell_type": "code",
   "execution_count": 9,
   "metadata": {
    "id": "u3T3WIJ8Dmyf"
   },
   "outputs": [],
   "source": [
    "some_cols = ['Full Baths','Half Baths', 'Use','Garage 1 Size','area_num_1','Repair Condition','parceltype',\n",
    "                 'Bedrooms','assessorbl','assessornb','Basement','Central Heating','Basement Finish',\n",
    "                 'Tax Rate','CCAO adjustment indicator','Township','community','staterepre', 'statesenat', 'Building Square Feet',\n",
    "            'congressio','Land Square Feet', 'Comm - Total Population','Type of Residence', 'Rooms','commission', 'censustrac','Central Air Conditioning',\n",
    "            'BOR certified AV (final)','Comm VGentIndex- 1970-2010',\n",
    "             'diff_CCAO']"
   ]
  },
  {
   "cell_type": "code",
   "execution_count": 10,
   "metadata": {
    "id": "3ygtwmx5D3CR"
   },
   "outputs": [],
   "source": [
    "new_NP = few_columns(some_cols,NP)\n"
   ]
  },
  {
   "cell_type": "markdown",
   "metadata": {
    "id": "1VHmsHo0Ita3"
   },
   "source": [
    "Creating a Copy of Data: 'imputed_NP'\n",
    "\n"
   ]
  },
  {
   "cell_type": "code",
   "execution_count": 11,
   "metadata": {
    "id": "HAA_M69zD_5x"
   },
   "outputs": [],
   "source": [
    "imputed_NP = new_NP.copy()\n"
   ]
  },
  {
   "cell_type": "markdown",
   "metadata": {
    "id": "OOWFH5xyyTQW"
   },
   "source": [
    "Imputing Missing Data in a DataFrame"
   ]
  },
  {
   "cell_type": "code",
   "execution_count": 12,
   "metadata": {
    "id": "MXh-UpgbELOJ"
   },
   "outputs": [],
   "source": [
    "for column in imputed_NP.columns:\n",
    "    if imputed_NP[column].dtypes  == 'object' or imputed_NP[column].dtype.name == 'category':\n",
    "        imputed_NP[column].fillna(imputed_NP[column].mode().iloc[0], inplace=True)\n",
    "    else:\n",
    "        median = imputed_NP[column].median()\n",
    "        if not pd.isna(median):\n",
    "            imputed_NP[column].fillna(median, inplace=True)"
   ]
  },
  {
   "cell_type": "markdown",
   "metadata": {
    "id": "44qNGk31ycco"
   },
   "source": [
    "Selecting Numeric Columns for Visualization"
   ]
  },
  {
   "cell_type": "code",
   "execution_count": 13,
   "metadata": {
    "id": "hkYQr75BFLkr"
   },
   "outputs": [],
   "source": [
    "import matplotlib.pyplot as plt\n",
    "numeric_cols = imputed_NP.select_dtypes(include=['number']).columns.tolist()"
   ]
  },
  {
   "cell_type": "markdown",
   "metadata": {
    "id": "T4AfNCwPyllx"
   },
   "source": [
    "Visualizing Correlation Matrix of Numeric Columns"
   ]
  },
  {
   "cell_type": "code",
   "execution_count": 14,
   "metadata": {
    "colab": {
     "base_uri": "https://localhost:8080/",
     "height": 437
    },
    "id": "IBoCoNBbFEJs",
    "outputId": "a7f40b23-dbcf-4630-d6c1-d740ac2af982"
   },
   "outputs": [
    {
     "data": {
      "image/png": "[encoded data removed]",
      "text/plain": [
       "<Figure size 480x480 with 1 Axes>"
      ]
     },
     "metadata": {},
     "output_type": "display_data"
    }
   ],
   "source": [
    "plt.matshow(imputed_NP[numeric_cols].corr())\n",
    "plt.show()\n"
   ]
  },
  {
   "cell_type": "markdown",
   "metadata": {
    "id": "4bOqbuv8yv1z"
   },
   "source": [
    "Calculating and Visualizing Correlation Matrix of Numeric Columns\n",
    "\n"
   ]
  },
  {
   "cell_type": "code",
   "execution_count": 15,
   "metadata": {
    "colab": {
     "base_uri": "https://localhost:8080/",
     "height": 807
    },
    "id": "4r_i75npFH5K",
    "outputId": "6ceb7702-a37a-4bf2-fc3f-3c75a1cdec10"
   },
   "outputs": [
    {
     "data": {
      "text/html": [
       "\n",
       "  <div id=\"df-b91c7816-29ac-4db6-8a51-00fbe664143f\" class=\"colab-df-container\">\n",
       "    <div>\n",
       "<style scoped>\n",
       "    .dataframe tbody tr th:only-of-type {\n",
       "        vertical-align: middle;\n",
       "    }\n",
       "\n",
       "    .dataframe tbody tr th {\n",
       "        vertical-align: top;\n",
       "    }\n",
       "\n",
       "    .dataframe thead th {\n",
       "        text-align: right;\n",
       "    }\n",
       "</style>\n",
       "<table border=\"1\" class=\"dataframe\">\n",
       "  <thead>\n",
       "    <tr style=\"text-align: right;\">\n",
       "      <th></th>\n",
       "      <th>Full Baths</th>\n",
       "      <th>area_num_1</th>\n",
       "      <th>parceltype</th>\n",
       "      <th>assessorbl</th>\n",
       "      <th>assessornb</th>\n",
       "      <th>Tax Rate</th>\n",
       "      <th>Township</th>\n",
       "      <th>staterepre</th>\n",
       "      <th>statesenat</th>\n",
       "      <th>Building Square Feet</th>\n",
       "      <th>congressio</th>\n",
       "      <th>Comm - Total Population</th>\n",
       "      <th>Rooms</th>\n",
       "      <th>commission</th>\n",
       "      <th>censustrac</th>\n",
       "      <th>BOR certified AV (final)</th>\n",
       "      <th>Comm VGentIndex- 1970-2010</th>\n",
       "      <th>diff_CCAO</th>\n",
       "    </tr>\n",
       "  </thead>\n",
       "  <tbody>\n",
       "    <tr>\n",
       "      <th>Full Baths</th>\n",
       "      <td>1.000000</td>\n",
       "      <td>-0.084080</td>\n",
       "      <td>0.002785</td>\n",
       "      <td>-0.030313</td>\n",
       "      <td>-0.020342</td>\n",
       "      <td>-0.041699</td>\n",
       "      <td>0.001716</td>\n",
       "      <td>-0.005195</td>\n",
       "      <td>-0.004816</td>\n",
       "      <td>0.419366</td>\n",
       "      <td>0.054591</td>\n",
       "      <td>0.048464</td>\n",
       "      <td>0.442632</td>\n",
       "      <td>0.036832</td>\n",
       "      <td>-0.075099</td>\n",
       "      <td>0.185093</td>\n",
       "      <td>0.064457</td>\n",
       "      <td>0.174145</td>\n",
       "    </tr>\n",
       "    <tr>\n",
       "      <th>area_num_1</th>\n",
       "      <td>-0.084080</td>\n",
       "      <td>1.000000</td>\n",
       "      <td>0.000377</td>\n",
       "      <td>-0.016104</td>\n",
       "      <td>-0.258280</td>\n",
       "      <td>0.244214</td>\n",
       "      <td>-0.009092</td>\n",
       "      <td>0.147759</td>\n",
       "      <td>0.143575</td>\n",
       "      <td>-0.179614</td>\n",
       "      <td>-0.611440</td>\n",
       "      <td>-0.452729</td>\n",
       "      <td>-0.114352</td>\n",
       "      <td>-0.211419</td>\n",
       "      <td>0.859986</td>\n",
       "      <td>-0.508416</td>\n",
       "      <td>-0.295962</td>\n",
       "      <td>-0.499727</td>\n",
       "    </tr>\n",
       "    <tr>\n",
       "      <th>parceltype</th>\n",
       "      <td>0.002785</td>\n",
       "      <td>0.000377</td>\n",
       "      <td>1.000000</td>\n",
       "      <td>-0.000021</td>\n",
       "      <td>-0.000820</td>\n",
       "      <td>0.064543</td>\n",
       "      <td>0.004744</td>\n",
       "      <td>-0.000415</td>\n",
       "      <td>-0.000433</td>\n",
       "      <td>0.003567</td>\n",
       "      <td>0.000865</td>\n",
       "      <td>0.004007</td>\n",
       "      <td>0.001692</td>\n",
       "      <td>0.000309</td>\n",
       "      <td>0.003786</td>\n",
       "      <td>0.003787</td>\n",
       "      <td>0.005934</td>\n",
       "      <td>0.002443</td>\n",
       "    </tr>\n",
       "    <tr>\n",
       "      <th>assessorbl</th>\n",
       "      <td>-0.030313</td>\n",
       "      <td>-0.016104</td>\n",
       "      <td>-0.000021</td>\n",
       "      <td>1.000000</td>\n",
       "      <td>-0.007172</td>\n",
       "      <td>0.035181</td>\n",
       "      <td>0.015057</td>\n",
       "      <td>-0.006786</td>\n",
       "      <td>-0.006800</td>\n",
       "      <td>-0.022134</td>\n",
       "      <td>0.008561</td>\n",
       "      <td>0.012813</td>\n",
       "      <td>-0.046249</td>\n",
       "      <td>0.006370</td>\n",
       "      <td>-0.013272</td>\n",
       "      <td>0.151465</td>\n",
       "      <td>0.023756</td>\n",
       "      <td>0.055617</td>\n",
       "    </tr>\n",
       "    <tr>\n",
       "      <th>assessornb</th>\n",
       "      <td>-0.020342</td>\n",
       "      <td>-0.258280</td>\n",
       "      <td>-0.000820</td>\n",
       "      <td>-0.007172</td>\n",
       "      <td>1.000000</td>\n",
       "      <td>-0.068393</td>\n",
       "      <td>-0.270860</td>\n",
       "      <td>-0.098208</td>\n",
       "      <td>-0.094663</td>\n",
       "      <td>0.024250</td>\n",
       "      <td>0.146433</td>\n",
       "      <td>-0.018265</td>\n",
       "      <td>-0.013567</td>\n",
       "      <td>0.173622</td>\n",
       "      <td>-0.266777</td>\n",
       "      <td>0.157778</td>\n",
       "      <td>0.152029</td>\n",
       "      <td>0.129309</td>\n",
       "    </tr>\n",
       "    <tr>\n",
       "      <th>Tax Rate</th>\n",
       "      <td>-0.041699</td>\n",
       "      <td>0.244214</td>\n",
       "      <td>0.064543</td>\n",
       "      <td>0.035181</td>\n",
       "      <td>-0.068393</td>\n",
       "      <td>1.000000</td>\n",
       "      <td>0.009748</td>\n",
       "      <td>-0.021239</td>\n",
       "      <td>-0.023869</td>\n",
       "      <td>-0.075492</td>\n",
       "      <td>-0.130977</td>\n",
       "      <td>-0.089454</td>\n",
       "      <td>-0.069946</td>\n",
       "      <td>0.096036</td>\n",
       "      <td>0.202626</td>\n",
       "      <td>-0.076095</td>\n",
       "      <td>-0.103817</td>\n",
       "      <td>-0.052726</td>\n",
       "    </tr>\n",
       "    <tr>\n",
       "      <th>Township</th>\n",
       "      <td>0.001716</td>\n",
       "      <td>-0.009092</td>\n",
       "      <td>0.004744</td>\n",
       "      <td>0.015057</td>\n",
       "      <td>-0.270860</td>\n",
       "      <td>0.009748</td>\n",
       "      <td>1.000000</td>\n",
       "      <td>-0.187075</td>\n",
       "      <td>-0.198333</td>\n",
       "      <td>-0.065011</td>\n",
       "      <td>0.306963</td>\n",
       "      <td>0.347827</td>\n",
       "      <td>-0.103803</td>\n",
       "      <td>-0.022095</td>\n",
       "      <td>0.095438</td>\n",
       "      <td>0.068851</td>\n",
       "      <td>0.142105</td>\n",
       "      <td>0.076144</td>\n",
       "    </tr>\n",
       "    <tr>\n",
       "      <th>staterepre</th>\n",
       "      <td>-0.005195</td>\n",
       "      <td>0.147759</td>\n",
       "      <td>-0.000415</td>\n",
       "      <td>-0.006786</td>\n",
       "      <td>-0.098208</td>\n",
       "      <td>-0.021239</td>\n",
       "      <td>-0.187075</td>\n",
       "      <td>1.000000</td>\n",
       "      <td>0.999331</td>\n",
       "      <td>0.047719</td>\n",
       "      <td>-0.312917</td>\n",
       "      <td>-0.011422</td>\n",
       "      <td>0.054030</td>\n",
       "      <td>-0.211764</td>\n",
       "      <td>0.058613</td>\n",
       "      <td>-0.116225</td>\n",
       "      <td>-0.211891</td>\n",
       "      <td>-0.143793</td>\n",
       "    </tr>\n",
       "    <tr>\n",
       "      <th>statesenat</th>\n",
       "      <td>-0.004816</td>\n",
       "      <td>0.143575</td>\n",
       "      <td>-0.000433</td>\n",
       "      <td>-0.006800</td>\n",
       "      <td>-0.094663</td>\n",
       "      <td>-0.023869</td>\n",
       "      <td>-0.198333</td>\n",
       "      <td>0.999331</td>\n",
       "      <td>1.000000</td>\n",
       "      <td>0.050471</td>\n",
       "      <td>-0.318824</td>\n",
       "      <td>-0.015475</td>\n",
       "      <td>0.055938</td>\n",
       "      <td>-0.209525</td>\n",
       "      <td>0.054429</td>\n",
       "      <td>-0.113496</td>\n",
       "      <td>-0.208593</td>\n",
       "      <td>-0.141913</td>\n",
       "    </tr>\n",
       "    <tr>\n",
       "      <th>Building Square Feet</th>\n",
       "      <td>0.419366</td>\n",
       "      <td>-0.179614</td>\n",
       "      <td>0.003567</td>\n",
       "      <td>-0.022134</td>\n",
       "      <td>0.024250</td>\n",
       "      <td>-0.075492</td>\n",
       "      <td>-0.065011</td>\n",
       "      <td>0.047719</td>\n",
       "      <td>0.050471</td>\n",
       "      <td>1.000000</td>\n",
       "      <td>0.109600</td>\n",
       "      <td>0.096446</td>\n",
       "      <td>0.626606</td>\n",
       "      <td>0.095124</td>\n",
       "      <td>-0.187082</td>\n",
       "      <td>0.339913</td>\n",
       "      <td>0.075872</td>\n",
       "      <td>0.302550</td>\n",
       "    </tr>\n",
       "    <tr>\n",
       "      <th>congressio</th>\n",
       "      <td>0.054591</td>\n",
       "      <td>-0.611440</td>\n",
       "      <td>0.000865</td>\n",
       "      <td>0.008561</td>\n",
       "      <td>0.146433</td>\n",
       "      <td>-0.130977</td>\n",
       "      <td>0.306963</td>\n",
       "      <td>-0.312917</td>\n",
       "      <td>-0.318824</td>\n",
       "      <td>0.109600</td>\n",
       "      <td>1.000000</td>\n",
       "      <td>0.427386</td>\n",
       "      <td>0.050910</td>\n",
       "      <td>0.225203</td>\n",
       "      <td>-0.534540</td>\n",
       "      <td>0.370032</td>\n",
       "      <td>0.283531</td>\n",
       "      <td>0.375266</td>\n",
       "    </tr>\n",
       "    <tr>\n",
       "      <th>Comm - Total Population</th>\n",
       "      <td>0.048464</td>\n",
       "      <td>-0.452729</td>\n",
       "      <td>0.004007</td>\n",
       "      <td>0.012813</td>\n",
       "      <td>-0.018265</td>\n",
       "      <td>-0.089454</td>\n",
       "      <td>0.347827</td>\n",
       "      <td>-0.011422</td>\n",
       "      <td>-0.015475</td>\n",
       "      <td>0.096446</td>\n",
       "      <td>0.427386</td>\n",
       "      <td>1.000000</td>\n",
       "      <td>0.046336</td>\n",
       "      <td>0.017325</td>\n",
       "      <td>-0.420360</td>\n",
       "      <td>0.223506</td>\n",
       "      <td>-0.093856</td>\n",
       "      <td>0.258894</td>\n",
       "    </tr>\n",
       "    <tr>\n",
       "      <th>Rooms</th>\n",
       "      <td>0.442632</td>\n",
       "      <td>-0.114352</td>\n",
       "      <td>0.001692</td>\n",
       "      <td>-0.046249</td>\n",
       "      <td>-0.013567</td>\n",
       "      <td>-0.069946</td>\n",
       "      <td>-0.103803</td>\n",
       "      <td>0.054030</td>\n",
       "      <td>0.055938</td>\n",
       "      <td>0.626606</td>\n",
       "      <td>0.050910</td>\n",
       "      <td>0.046336</td>\n",
       "      <td>1.000000</td>\n",
       "      <td>0.026647</td>\n",
       "      <td>-0.122536</td>\n",
       "      <td>0.205089</td>\n",
       "      <td>0.043310</td>\n",
       "      <td>0.182838</td>\n",
       "    </tr>\n",
       "    <tr>\n",
       "      <th>commission</th>\n",
       "      <td>0.036832</td>\n",
       "      <td>-0.211419</td>\n",
       "      <td>0.000309</td>\n",
       "      <td>0.006370</td>\n",
       "      <td>0.173622</td>\n",
       "      <td>0.096036</td>\n",
       "      <td>-0.022095</td>\n",
       "      <td>-0.211764</td>\n",
       "      <td>-0.209525</td>\n",
       "      <td>0.095124</td>\n",
       "      <td>0.225203</td>\n",
       "      <td>0.017325</td>\n",
       "      <td>0.026647</td>\n",
       "      <td>1.000000</td>\n",
       "      <td>-0.261274</td>\n",
       "      <td>0.462862</td>\n",
       "      <td>0.417964</td>\n",
       "      <td>0.434203</td>\n",
       "    </tr>\n",
       "    <tr>\n",
       "      <th>censustrac</th>\n",
       "      <td>-0.075099</td>\n",
       "      <td>0.859986</td>\n",
       "      <td>0.003786</td>\n",
       "      <td>-0.013272</td>\n",
       "      <td>-0.266777</td>\n",
       "      <td>0.202626</td>\n",
       "      <td>0.095438</td>\n",
       "      <td>0.058613</td>\n",
       "      <td>0.054429</td>\n",
       "      <td>-0.187082</td>\n",
       "      <td>-0.534540</td>\n",
       "      <td>-0.420360</td>\n",
       "      <td>-0.122536</td>\n",
       "      <td>-0.261274</td>\n",
       "      <td>1.000000</td>\n",
       "      <td>-0.474115</td>\n",
       "      <td>-0.270379</td>\n",
       "      <td>-0.461184</td>\n",
       "    </tr>\n",
       "    <tr>\n",
       "      <th>BOR certified AV (final)</th>\n",
       "      <td>0.185093</td>\n",
       "      <td>-0.508416</td>\n",
       "      <td>0.003787</td>\n",
       "      <td>0.151465</td>\n",
       "      <td>0.157778</td>\n",
       "      <td>-0.076095</td>\n",
       "      <td>0.068851</td>\n",
       "      <td>-0.116225</td>\n",
       "      <td>-0.113496</td>\n",
       "      <td>0.339913</td>\n",
       "      <td>0.370032</td>\n",
       "      <td>0.223506</td>\n",
       "      <td>0.205089</td>\n",
       "      <td>0.462862</td>\n",
       "      <td>-0.474115</td>\n",
       "      <td>1.000000</td>\n",
       "      <td>0.506312</td>\n",
       "      <td>0.744770</td>\n",
       "    </tr>\n",
       "    <tr>\n",
       "      <th>Comm VGentIndex- 1970-2010</th>\n",
       "      <td>0.064457</td>\n",
       "      <td>-0.295962</td>\n",
       "      <td>0.005934</td>\n",
       "      <td>0.023756</td>\n",
       "      <td>0.152029</td>\n",
       "      <td>-0.103817</td>\n",
       "      <td>0.142105</td>\n",
       "      <td>-0.211891</td>\n",
       "      <td>-0.208593</td>\n",
       "      <td>0.075872</td>\n",
       "      <td>0.283531</td>\n",
       "      <td>-0.093856</td>\n",
       "      <td>0.043310</td>\n",
       "      <td>0.417964</td>\n",
       "      <td>-0.270379</td>\n",
       "      <td>0.506312</td>\n",
       "      <td>1.000000</td>\n",
       "      <td>0.453814</td>\n",
       "    </tr>\n",
       "    <tr>\n",
       "      <th>diff_CCAO</th>\n",
       "      <td>0.174145</td>\n",
       "      <td>-0.499727</td>\n",
       "      <td>0.002443</td>\n",
       "      <td>0.055617</td>\n",
       "      <td>0.129309</td>\n",
       "      <td>-0.052726</td>\n",
       "      <td>0.076144</td>\n",
       "      <td>-0.143793</td>\n",
       "      <td>-0.141913</td>\n",
       "      <td>0.302550</td>\n",
       "      <td>0.375266</td>\n",
       "      <td>0.258894</td>\n",
       "      <td>0.182838</td>\n",
       "      <td>0.434203</td>\n",
       "      <td>-0.461184</td>\n",
       "      <td>0.744770</td>\n",
       "      <td>0.453814</td>\n",
       "      <td>1.000000</td>\n",
       "    </tr>\n",
       "  </tbody>\n",
       "</table>\n",
       "</div>\n",
       "    <div class=\"colab-df-buttons\">\n",
       "\n",
       "  <div class=\"colab-df-container\">\n",
       "    <button class=\"colab-df-convert\" onclick=\"convertToInteractive('df-b91c7816-29ac-4db6-8a51-00fbe664143f')\"\n",
       "            title=\"Convert this dataframe to an interactive table.\"\n",
       "            style=\"display:none;\">\n",
       "\n",
       "  <svg xmlns=\"http://www.w3.org/2000/svg\" height=\"24px\" viewBox=\"0 -960 960 960\">\n",
       "    <path d=\"M120-120v-720h720v720H120Zm60-500h600v-160H180v160Zm220 220h160v-160H400v160Zm0 220h160v-160H400v160ZM180-400h160v-160H180v160Zm440 0h160v-160H620v160ZM180-180h160v-160H180v160Zm440 0h160v-160H620v160Z\"/>\n",
       "  </svg>\n",
       "    </button>\n",
       "\n",
       "  <style>\n",
       "    .colab-df-container {\n",
       "      display:flex;\n",
       "      gap: 12px;\n",
       "    }\n",
       "\n",
       "    .colab-df-convert {\n",
       "      background-color: #E8F0FE;\n",
       "      border: none;\n",
       "      border-radius: 50%;\n",
       "      cursor: pointer;\n",
       "      display: none;\n",
       "      fill: #1967D2;\n",
       "      height: 32px;\n",
       "      padding: 0 0 0 0;\n",
       "      width: 32px;\n",
       "    }\n",
       "\n",
       "    .colab-df-convert:hover {\n",
       "      background-color: #E2EBFA;\n",
       "      box-shadow: 0px 1px 2px rgba(60, 64, 67, 0.3), 0px 1px 3px 1px rgba(60, 64, 67, 0.15);\n",
       "      fill: #174EA6;\n",
       "    }\n",
       "\n",
       "    .colab-df-buttons div {\n",
       "      margin-bottom: 4px;\n",
       "    }\n",
       "\n",
       "    [theme=dark] .colab-df-convert {\n",
       "      background-color: #3B4455;\n",
       "      fill: #D2E3FC;\n",
       "    }\n",
       "\n",
       "    [theme=dark] .colab-df-convert:hover {\n",
       "      background-color: #434B5C;\n",
       "      box-shadow: 0px 1px 3px 1px rgba(0, 0, 0, 0.15);\n",
       "      filter: drop-shadow(0px 1px 2px rgba(0, 0, 0, 0.3));\n",
       "      fill: #FFFFFF;\n",
       "    }\n",
       "  </style>\n",
       "\n",
       "    <script>\n",
       "      const buttonEl =\n",
       "        document.querySelector('#df-b91c7816-29ac-4db6-8a51-00fbe664143f button.colab-df-convert');\n",
       "      buttonEl.style.display =\n",
       "        google.colab.kernel.accessAllowed ? 'block' : 'none';\n",
       "\n",
       "      async function convertToInteractive(key) {\n",
       "        const element = document.querySelector('#df-b91c7816-29ac-4db6-8a51-00fbe664143f');\n",
       "        const dataTable =\n",
       "          await google.colab.kernel.invokeFunction('convertToInteractive',\n",
       "                                                    [key], {});\n",
       "        if (!dataTable) return;\n",
       "\n",
       "        const docLinkHtml = 'Like what you see? Visit the ' +\n",
       "          '<a target=\"_blank\" href=https://colab.research.google.com/notebooks/data_table.ipynb>data table notebook</a>'\n",
       "          + ' to learn more about interactive tables.';\n",
       "        element.innerHTML = '';\n",
       "        dataTable['output_type'] = 'display_data';\n",
       "        await google.colab.output.renderOutput(dataTable, element);\n",
       "        const docLink = document.createElement('div');\n",
       "        docLink.innerHTML = docLinkHtml;\n",
       "        element.appendChild(docLink);\n",
       "      }\n",
       "    </script>\n",
       "  </div>\n",
       "\n",
       "\n",
       "<div id=\"df-b5529e5c-6d5e-499d-9336-afa74fc2f8a7\">\n",
       "  <button class=\"colab-df-quickchart\" onclick=\"quickchart('df-b5529e5c-6d5e-499d-9336-afa74fc2f8a7')\"\n",
       "            title=\"Suggest charts\"\n",
       "            style=\"display:none;\">\n",
       "\n",
       "<svg xmlns=\"http://www.w3.org/2000/svg\" height=\"24px\"viewBox=\"0 0 24 24\"\n",
       "     width=\"24px\">\n",
       "    <g>\n",
       "        <path d=\"M19 3H5c-1.1 0-2 .9-2 2v14c0 1.1.9 2 2 2h14c1.1 0 2-.9 2-2V5c0-1.1-.9-2-2-2zM9 17H7v-7h2v7zm4 0h-2V7h2v10zm4 0h-2v-4h2v4z\"/>\n",
       "    </g>\n",
       "</svg>\n",
       "  </button>\n",
       "\n",
       "<style>\n",
       "  .colab-df-quickchart {\n",
       "      --bg-color: #E8F0FE;\n",
       "      --fill-color: #1967D2;\n",
       "      --hover-bg-color: #E2EBFA;\n",
       "      --hover-fill-color: #174EA6;\n",
       "      --disabled-fill-color: #AAA;\n",
       "      --disabled-bg-color: #DDD;\n",
       "  }\n",
       "\n",
       "  [theme=dark] .colab-df-quickchart {\n",
       "      --bg-color: #3B4455;\n",
       "      --fill-color: #D2E3FC;\n",
       "      --hover-bg-color: #434B5C;\n",
       "      --hover-fill-color: #FFFFFF;\n",
       "      --disabled-bg-color: #3B4455;\n",
       "      --disabled-fill-color: #666;\n",
       "  }\n",
       "\n",
       "  .colab-df-quickchart {\n",
       "    background-color: var(--bg-color);\n",
       "    border: none;\n",
       "    border-radius: 50%;\n",
       "    cursor: pointer;\n",
       "    display: none;\n",
       "    fill: var(--fill-color);\n",
       "    height: 32px;\n",
       "    padding: 0;\n",
       "    width: 32px;\n",
       "  }\n",
       "\n",
       "  .colab-df-quickchart:hover {\n",
       "    background-color: var(--hover-bg-color);\n",
       "    box-shadow: 0 1px 2px rgba(60, 64, 67, 0.3), 0 1px 3px 1px rgba(60, 64, 67, 0.15);\n",
       "    fill: var(--button-hover-fill-color);\n",
       "  }\n",
       "\n",
       "  .colab-df-quickchart-complete:disabled,\n",
       "  .colab-df-quickchart-complete:disabled:hover {\n",
       "    background-color: var(--disabled-bg-color);\n",
       "    fill: var(--disabled-fill-color);\n",
       "    box-shadow: none;\n",
       "  }\n",
       "\n",
       "  .colab-df-spinner {\n",
       "    border: 2px solid var(--fill-color);\n",
       "    border-color: transparent;\n",
       "    border-bottom-color: var(--fill-color);\n",
       "    animation:\n",
       "      spin 1s steps(1) infinite;\n",
       "  }\n",
       "\n",
       "  @keyframes spin {\n",
       "    0% {\n",
       "      border-color: transparent;\n",
       "      border-bottom-color: var(--fill-color);\n",
       "      border-left-color: var(--fill-color);\n",
       "    }\n",
       "    20% {\n",
       "      border-color: transparent;\n",
       "      border-left-color: var(--fill-color);\n",
       "      border-top-color: var(--fill-color);\n",
       "    }\n",
       "    30% {\n",
       "      border-color: transparent;\n",
       "      border-left-color: var(--fill-color);\n",
       "      border-top-color: var(--fill-color);\n",
       "      border-right-color: var(--fill-color);\n",
       "    }\n",
       "    40% {\n",
       "      border-color: transparent;\n",
       "      border-right-color: var(--fill-color);\n",
       "      border-top-color: var(--fill-color);\n",
       "    }\n",
       "    60% {\n",
       "      border-color: transparent;\n",
       "      border-right-color: var(--fill-color);\n",
       "    }\n",
       "    80% {\n",
       "      border-color: transparent;\n",
       "      border-right-color: var(--fill-color);\n",
       "      border-bottom-color: var(--fill-color);\n",
       "    }\n",
       "    90% {\n",
       "      border-color: transparent;\n",
       "      border-bottom-color: var(--fill-color);\n",
       "    }\n",
       "  }\n",
       "</style>\n",
       "\n",
       "  <script>\n",
       "    async function quickchart(key) {\n",
       "      const quickchartButtonEl =\n",
       "        document.querySelector('#' + key + ' button');\n",
       "      quickchartButtonEl.disabled = true;  // To prevent multiple clicks.\n",
       "      quickchartButtonEl.classList.add('colab-df-spinner');\n",
       "      try {\n",
       "        const charts = await google.colab.kernel.invokeFunction(\n",
       "            'suggestCharts', [key], {});\n",
       "      } catch (error) {\n",
       "        console.error('Error during call to suggestCharts:', error);\n",
       "      }\n",
       "      quickchartButtonEl.classList.remove('colab-df-spinner');\n",
       "      quickchartButtonEl.classList.add('colab-df-quickchart-complete');\n",
       "    }\n",
       "    (() => {\n",
       "      let quickchartButtonEl =\n",
       "        document.querySelector('#df-b5529e5c-6d5e-499d-9336-afa74fc2f8a7 button');\n",
       "      quickchartButtonEl.style.display =\n",
       "        google.colab.kernel.accessAllowed ? 'block' : 'none';\n",
       "    })();\n",
       "  </script>\n",
       "</div>\n",
       "\n",
       "  <div id=\"id_072ec8d9-2084-45f5-8673-d503e1fb82e2\">\n",
       "    <style>\n",
       "      .colab-df-generate {\n",
       "        background-color: #E8F0FE;\n",
       "        border: none;\n",
       "        border-radius: 50%;\n",
       "        cursor: pointer;\n",
       "        display: none;\n",
       "        fill: #1967D2;\n",
       "        height: 32px;\n",
       "        padding: 0 0 0 0;\n",
       "        width: 32px;\n",
       "      }\n",
       "\n",
       "      .colab-df-generate:hover {\n",
       "        background-color: #E2EBFA;\n",
       "        box-shadow: 0px 1px 2px rgba(60, 64, 67, 0.3), 0px 1px 3px 1px rgba(60, 64, 67, 0.15);\n",
       "        fill: #174EA6;\n",
       "      }\n",
       "\n",
       "      [theme=dark] .colab-df-generate {\n",
       "        background-color: #3B4455;\n",
       "        fill: #D2E3FC;\n",
       "      }\n",
       "\n",
       "      [theme=dark] .colab-df-generate:hover {\n",
       "        background-color: #434B5C;\n",
       "        box-shadow: 0px 1px 3px 1px rgba(0, 0, 0, 0.15);\n",
       "        filter: drop-shadow(0px 1px 2px rgba(0, 0, 0, 0.3));\n",
       "        fill: #FFFFFF;\n",
       "      }\n",
       "    </style>\n",
       "    <button class=\"colab-df-generate\" onclick=\"generateWithVariable('corr')\"\n",
       "            title=\"Generate code using this dataframe.\"\n",
       "            style=\"display:none;\">\n",
       "\n",
       "  <svg xmlns=\"http://www.w3.org/2000/svg\" height=\"24px\"viewBox=\"0 0 24 24\"\n",
       "       width=\"24px\">\n",
       "    <path d=\"M7,19H8.4L18.45,9,17,7.55,7,17.6ZM5,21V16.75L18.45,3.32a2,2,0,0,1,2.83,0l1.4,1.43a1.91,1.91,0,0,1,.58,1.4,1.91,1.91,0,0,1-.58,1.4L9.25,21ZM18.45,9,17,7.55Zm-12,3A5.31,5.31,0,0,0,4.9,8.1,5.31,5.31,0,0,0,1,6.5,5.31,5.31,0,0,0,4.9,4.9,5.31,5.31,0,0,0,6.5,1,5.31,5.31,0,0,0,8.1,4.9,5.31,5.31,0,0,0,12,6.5,5.46,5.46,0,0,0,6.5,12Z\"/>\n",
       "  </svg>\n",
       "    </button>\n",
       "    <script>\n",
       "      (() => {\n",
       "      const buttonEl =\n",
       "        document.querySelector('#id_072ec8d9-2084-45f5-8673-d503e1fb82e2 button.colab-df-generate');\n",
       "      buttonEl.style.display =\n",
       "        google.colab.kernel.accessAllowed ? 'block' : 'none';\n",
       "\n",
       "      buttonEl.onclick = () => {\n",
       "        google.colab.notebook.generateWithVariable('corr');\n",
       "      }\n",
       "      })();\n",
       "    </script>\n",
       "  </div>\n",
       "\n",
       "    </div>\n",
       "  </div>\n"
      ],
      "text/plain": [
       "                            Full Baths  area_num_1  parceltype  assessorbl  \\\n",
       "Full Baths                    1.000000   -0.084080    0.002785   -0.030313   \n",
       "area_num_1                   -0.084080    1.000000    0.000377   -0.016104   \n",
       "parceltype                    0.002785    0.000377    1.000000   -0.000021   \n",
       "assessorbl                   -0.030313   -0.016104   -0.000021    1.000000   \n",
       "assessornb                   -0.020342   -0.258280   -0.000820   -0.007172   \n",
       "Tax Rate                     -0.041699    0.244214    0.064543    0.035181   \n",
       "Township                      0.001716   -0.009092    0.004744    0.015057   \n",
       "staterepre                   -0.005195    0.147759   -0.000415   -0.006786   \n",
       "statesenat                   -0.004816    0.143575   -0.000433   -0.006800   \n",
       "Building Square Feet          0.419366   -0.179614    0.003567   -0.022134   \n",
       "congressio                    0.054591   -0.611440    0.000865    0.008561   \n",
       "Comm - Total Population       0.048464   -0.452729    0.004007    0.012813   \n",
       "Rooms                         0.442632   -0.114352    0.001692   -0.046249   \n",
       "commission                    0.036832   -0.211419    0.000309    0.006370   \n",
       "censustrac                   -0.075099    0.859986    0.003786   -0.013272   \n",
       "BOR certified AV (final)      0.185093   -0.508416    0.003787    0.151465   \n",
       "Comm VGentIndex- 1970-2010    0.064457   -0.295962    0.005934    0.023756   \n",
       "diff_CCAO                     0.174145   -0.499727    0.002443    0.055617   \n",
       "\n",
       "                            assessornb  Tax Rate  Township  staterepre  \\\n",
       "Full Baths                   -0.020342 -0.041699  0.001716   -0.005195   \n",
       "area_num_1                   -0.258280  0.244214 -0.009092    0.147759   \n",
       "parceltype                   -0.000820  0.064543  0.004744   -0.000415   \n",
       "assessorbl                   -0.007172  0.035181  0.015057   -0.006786   \n",
       "assessornb                    1.000000 -0.068393 -0.270860   -0.098208   \n",
       "Tax Rate                     -0.068393  1.000000  0.009748   -0.021239   \n",
       "Township                     -0.270860  0.009748  1.000000   -0.187075   \n",
       "staterepre                   -0.098208 -0.021239 -0.187075    1.000000   \n",
       "statesenat                   -0.094663 -0.023869 -0.198333    0.999331   \n",
       "Building Square Feet          0.024250 -0.075492 -0.065011    0.047719   \n",
       "congressio                    0.146433 -0.130977  0.306963   -0.312917   \n",
       "Comm - Total Population      -0.018265 -0.089454  0.347827   -0.011422   \n",
       "Rooms                        -0.013567 -0.069946 -0.103803    0.054030   \n",
       "commission                    0.173622  0.096036 -0.022095   -0.211764   \n",
       "censustrac                   -0.266777  0.202626  0.095438    0.058613   \n",
       "BOR certified AV (final)      0.157778 -0.076095  0.068851   -0.116225   \n",
       "Comm VGentIndex- 1970-2010    0.152029 -0.103817  0.142105   -0.211891   \n",
       "diff_CCAO                     0.129309 -0.052726  0.076144   -0.143793   \n",
       "\n",
       "                            statesenat  Building Square Feet  congressio  \\\n",
       "Full Baths                   -0.004816              0.419366    0.054591   \n",
       "area_num_1                    0.143575             -0.179614   -0.611440   \n",
       "parceltype                   -0.000433              0.003567    0.000865   \n",
       "assessorbl                   -0.006800             -0.022134    0.008561   \n",
       "assessornb                   -0.094663              0.024250    0.146433   \n",
       "Tax Rate                     -0.023869             -0.075492   -0.130977   \n",
       "Township                     -0.198333             -0.065011    0.306963   \n",
       "staterepre                    0.999331              0.047719   -0.312917   \n",
       "statesenat                    1.000000              0.050471   -0.318824   \n",
       "Building Square Feet          0.050471              1.000000    0.109600   \n",
       "congressio                   -0.318824              0.109600    1.000000   \n",
       "Comm - Total Population      -0.015475              0.096446    0.427386   \n",
       "Rooms                         0.055938              0.626606    0.050910   \n",
       "commission                   -0.209525              0.095124    0.225203   \n",
       "censustrac                    0.054429             -0.187082   -0.534540   \n",
       "BOR certified AV (final)     -0.113496              0.339913    0.370032   \n",
       "Comm VGentIndex- 1970-2010   -0.208593              0.075872    0.283531   \n",
       "diff_CCAO                    -0.141913              0.302550    0.375266   \n",
       "\n",
       "                            Comm - Total Population     Rooms  commission  \\\n",
       "Full Baths                                 0.048464  0.442632    0.036832   \n",
       "area_num_1                                -0.452729 -0.114352   -0.211419   \n",
       "parceltype                                 0.004007  0.001692    0.000309   \n",
       "assessorbl                                 0.012813 -0.046249    0.006370   \n",
       "assessornb                                -0.018265 -0.013567    0.173622   \n",
       "Tax Rate                                  -0.089454 -0.069946    0.096036   \n",
       "Township                                   0.347827 -0.103803   -0.022095   \n",
       "staterepre                                -0.011422  0.054030   -0.211764   \n",
       "statesenat                                -0.015475  0.055938   -0.209525   \n",
       "Building Square Feet                       0.096446  0.626606    0.095124   \n",
       "congressio                                 0.427386  0.050910    0.225203   \n",
       "Comm - Total Population                    1.000000  0.046336    0.017325   \n",
       "Rooms                                      0.046336  1.000000    0.026647   \n",
       "commission                                 0.017325  0.026647    1.000000   \n",
       "censustrac                                -0.420360 -0.122536   -0.261274   \n",
       "BOR certified AV (final)                   0.223506  0.205089    0.462862   \n",
       "Comm VGentIndex- 1970-2010                -0.093856  0.043310    0.417964   \n",
       "diff_CCAO                                  0.258894  0.182838    0.434203   \n",
       "\n",
       "                            censustrac  BOR certified AV (final)  \\\n",
       "Full Baths                   -0.075099                  0.185093   \n",
       "area_num_1                    0.859986                 -0.508416   \n",
       "parceltype                    0.003786                  0.003787   \n",
       "assessorbl                   -0.013272                  0.151465   \n",
       "assessornb                   -0.266777                  0.157778   \n",
       "Tax Rate                      0.202626                 -0.076095   \n",
       "Township                      0.095438                  0.068851   \n",
       "staterepre                    0.058613                 -0.116225   \n",
       "statesenat                    0.054429                 -0.113496   \n",
       "Building Square Feet         -0.187082                  0.339913   \n",
       "congressio                   -0.534540                  0.370032   \n",
       "Comm - Total Population      -0.420360                  0.223506   \n",
       "Rooms                        -0.122536                  0.205089   \n",
       "commission                   -0.261274                  0.462862   \n",
       "censustrac                    1.000000                 -0.474115   \n",
       "BOR certified AV (final)     -0.474115                  1.000000   \n",
       "Comm VGentIndex- 1970-2010   -0.270379                  0.506312   \n",
       "diff_CCAO                    -0.461184                  0.744770   \n",
       "\n",
       "                            Comm VGentIndex- 1970-2010  diff_CCAO  \n",
       "Full Baths                                    0.064457   0.174145  \n",
       "area_num_1                                   -0.295962  -0.499727  \n",
       "parceltype                                    0.005934   0.002443  \n",
       "assessorbl                                    0.023756   0.055617  \n",
       "assessornb                                    0.152029   0.129309  \n",
       "Tax Rate                                     -0.103817  -0.052726  \n",
       "Township                                      0.142105   0.076144  \n",
       "staterepre                                   -0.211891  -0.143793  \n",
       "statesenat                                   -0.208593  -0.141913  \n",
       "Building Square Feet                          0.075872   0.302550  \n",
       "congressio                                    0.283531   0.375266  \n",
       "Comm - Total Population                      -0.093856   0.258894  \n",
       "Rooms                                         0.043310   0.182838  \n",
       "commission                                    0.417964   0.434203  \n",
       "censustrac                                   -0.270379  -0.461184  \n",
       "BOR certified AV (final)                      0.506312   0.744770  \n",
       "Comm VGentIndex- 1970-2010                    1.000000   0.453814  \n",
       "diff_CCAO                                     0.453814   1.000000  "
      ]
     },
     "execution_count": 15,
     "metadata": {},
     "output_type": "execute_result"
    }
   ],
   "source": [
    "corr = imputed_NP[numeric_cols].corr()\n",
    "corr.style.background_gradient(cmap='coolwarm')\n",
    "corr.to_csv(r\"correl.csv\")\n",
    "corr"
   ]
  },
  {
   "cell_type": "markdown",
   "metadata": {
    "id": "F-HRXAdsy7Fb"
   },
   "source": [
    "Histogram of the 'Rooms' Variable"
   ]
  },
  {
   "cell_type": "code",
   "execution_count": 16,
   "metadata": {
    "colab": {
     "base_uri": "https://localhost:8080/",
     "height": 447
    },
    "id": "gqp-IxEaFoHS",
    "outputId": "b8ccca3f-dbff-4c64-9c08-8651272e93ab"
   },
   "outputs": [
    {
     "data": {
      "text/plain": [
       "<Axes: >"
      ]
     },
     "execution_count": 16,
     "metadata": {},
     "output_type": "execute_result"
    },
    {
     "data": {
      "image/png": "[encoded data removed]",
      "text/plain": [
       "<Figure size 640x480 with 1 Axes>"
      ]
     },
     "metadata": {},
     "output_type": "display_data"
    }
   ],
   "source": [
    "imputed_NP['Rooms'].hist(bins=15)\n"
   ]
  },
  {
   "cell_type": "code",
   "execution_count": 17,
   "metadata": {
    "colab": {
     "base_uri": "https://localhost:8080/"
    },
    "id": "ZFfzH5hiF7nn",
    "outputId": "8c468ee2-3cff-47da-bd45-0117fd9288bd"
   },
   "outputs": [
    {
     "name": "stdout",
     "output_type": "stream",
     "text": [
      "<class 'pandas.core.frame.DataFrame'>\n",
      "RangeIndex: 201092 entries, 0 to 201091\n",
      "Data columns (total 31 columns):\n",
      " #   Column                      Non-Null Count   Dtype  \n",
      "---  ------                      --------------   -----  \n",
      " 0   Full Baths                  201092 non-null  int64  \n",
      " 1   Half Baths                  201092 non-null  object \n",
      " 2   Use                         201092 non-null  object \n",
      " 3   Garage 1 Size               201092 non-null  object \n",
      " 4   area_num_1                  201092 non-null  int64  \n",
      " 5   Repair Condition            201092 non-null  object \n",
      " 6   parceltype                  201092 non-null  int64  \n",
      " 7   Bedrooms                    201092 non-null  object \n",
      " 8   assessorbl                  201092 non-null  float64\n",
      " 9   assessornb                  201092 non-null  float64\n",
      " 10  Basement                    201092 non-null  object \n",
      " 11  Central Heating             201092 non-null  object \n",
      " 12  Basement Finish             201092 non-null  object \n",
      " 13  Tax Rate                    201092 non-null  float64\n",
      " 14  CCAO adjustment indicator   201092 non-null  bool   \n",
      " 15  Township                    201092 non-null  int64  \n",
      " 16  community                   201092 non-null  object \n",
      " 17  staterepre                  201092 non-null  int64  \n",
      " 18  statesenat                  201092 non-null  int64  \n",
      " 19  Building Square Feet        201092 non-null  int64  \n",
      " 20  congressio                  201092 non-null  int64  \n",
      " 21  Land Square Feet            201092 non-null  bool   \n",
      " 22  Comm - Total Population     201092 non-null  int64  \n",
      " 23  Type of Residence           201092 non-null  object \n",
      " 24  Rooms                       201092 non-null  int64  \n",
      " 25  commission                  201092 non-null  int64  \n",
      " 26  censustrac                  201092 non-null  int64  \n",
      " 27  Central Air Conditioning    201092 non-null  object \n",
      " 28  BOR certified AV (final)    201092 non-null  int64  \n",
      " 29  Comm VGentIndex- 1970-2010  201092 non-null  int64  \n",
      " 30  diff_CCAO                   201092 non-null  int64  \n",
      "dtypes: bool(2), float64(3), int64(15), object(11)\n",
      "memory usage: 44.9+ MB\n"
     ]
    }
   ],
   "source": [
    "imputed_NP.info()\n"
   ]
  },
  {
   "cell_type": "markdown",
   "metadata": {
    "id": "Vfvfe553zEhH"
   },
   "source": [
    "Box Plot of the 'Rooms' Variable\n",
    "\n"
   ]
  },
  {
   "cell_type": "code",
   "execution_count": 18,
   "metadata": {
    "colab": {
     "base_uri": "https://localhost:8080/",
     "height": 447
    },
    "id": "0oIs4DimGDmO",
    "outputId": "ef468ba2-9aab-434f-edf7-1ee19f0dbcaa"
   },
   "outputs": [
    {
     "data": {
      "text/plain": [
       "<Axes: >"
      ]
     },
     "execution_count": 18,
     "metadata": {},
     "output_type": "execute_result"
    },
    {
     "data": {
      "image/png": "[encoded data removed]",
      "text/plain": [
       "<Figure size 640x480 with 1 Axes>"
      ]
     },
     "metadata": {},
     "output_type": "display_data"
    }
   ],
   "source": [
    "imputed_NP.boxplot(column='Rooms')\n"
   ]
  },
  {
   "cell_type": "markdown",
   "metadata": {
    "id": "Qn7leOhUzdP4"
   },
   "source": [
    "Scatter Plot Between 'Rooms' and 'diff_CCAO' Variables\n",
    "\n"
   ]
  },
  {
   "cell_type": "code",
   "execution_count": 19,
   "metadata": {
    "colab": {
     "base_uri": "https://localhost:8080/",
     "height": 449
    },
    "id": "HPAY7dyrG6QI",
    "outputId": "632c1b29-cfbe-44fe-e026-a37cee6b442a"
   },
   "outputs": [
    {
     "data": {
      "image/png": "[encoded data removed]",
      "text/plain": [
       "<Figure size 640x480 with 1 Axes>"
      ]
     },
     "metadata": {},
     "output_type": "display_data"
    }
   ],
   "source": [
    "from pandas.plotting import scatter_matrix\n",
    "pic = plt.figure()\n",
    "DM = pic.add_subplot(1,1,1)\n",
    "DM.scatter(imputed_NP['Rooms'],imputed_NP['diff_CCAO'])\n",
    "plt.xlabel('Rooms')\n",
    "plt.ylabel('diff_CCAO')\n",
    "plt.show()"
   ]
  },
  {
   "cell_type": "markdown",
   "metadata": {
    "id": "1-K6WQ3zzqaH"
   },
   "source": [
    "Scatter Plot Between 'assessorbl' and 'Township' Variables\n",
    "\n"
   ]
  },
  {
   "cell_type": "code",
   "execution_count": 20,
   "metadata": {
    "colab": {
     "base_uri": "https://localhost:8080/",
     "height": 449
    },
    "id": "e_1xQrwdHBEW",
    "outputId": "b245ce8d-1791-4454-d826-f746be612a03"
   },
   "outputs": [
    {
     "data": {
      "image/png": "[encoded data removed]",
      "text/plain": [
       "<Figure size 640x480 with 1 Axes>"
      ]
     },
     "metadata": {},
     "output_type": "display_data"
    }
   ],
   "source": [
    "pic = plt.figure()\n",
    "DM = pic.add_subplot(1,1,1)\n",
    "DM.scatter(imputed_NP['assessorbl'],imputed_NP['Township'])\n",
    "plt.xlabel('assessorbl')\n",
    "plt.ylabel('Township')\n",
    "plt.show()"
   ]
  },
  {
   "cell_type": "markdown",
   "metadata": {
    "id": "XeWovSluz0ev"
   },
   "source": [
    "Scatter Plot Between 'assessornb' and 'censustrac' Variables\n",
    "\n"
   ]
  },
  {
   "cell_type": "code",
   "execution_count": 21,
   "metadata": {
    "colab": {
     "base_uri": "https://localhost:8080/",
     "height": 465
    },
    "id": "0lAddZb4HtgH",
    "outputId": "245a0f21-585b-4f57-e75a-17cd92df2452"
   },
   "outputs": [
    {
     "data": {
      "image/png": "[encoded data removed]",
      "text/plain": [
       "<Figure size 640x480 with 1 Axes>"
      ]
     },
     "metadata": {},
     "output_type": "display_data"
    }
   ],
   "source": [
    "pic = plt.figure()\n",
    "DM = pic.add_subplot(1,1,1)\n",
    "DM.scatter(imputed_NP['assessornb'],imputed_NP['censustrac'])\n",
    "plt.xlabel('assessornb')\n",
    "plt.ylabel('censustrac')\n",
    "plt.show()"
   ]
  },
  {
   "cell_type": "markdown",
   "metadata": {
    "id": "yN5LkG3_0QVa"
   },
   "source": [
    "Conversion of Categorical Variables to One-Hot Encoding in 'imputed_NP'\n",
    "\n"
   ]
  },
  {
   "cell_type": "code",
   "execution_count": 22,
   "metadata": {
    "id": "WEJ_ZxciIC8k"
   },
   "outputs": [],
   "source": [
    "cat_columns = imputed_NP.select_dtypes(include=['object', 'category']).columns\n",
    "final_NP = pd.get_dummies(imputed_NP, columns=cat_columns, drop_first=True)"
   ]
  },
  {
   "cell_type": "markdown",
   "metadata": {
    "id": "wbctbQuFCqfg"
   },
   "source": [
    "# Task 1"
   ]
  },
  {
   "cell_type": "markdown",
   "metadata": {
    "id": "-EESX2jqy98o"
   },
   "source": [
    "Q1: Demonstrate four algorithmic variations of models that will predict with a high degree of accuracy and generalizability what the difference will be between the CCAO mailed and the CCAO certified results will be. Include the appropriate screenshots to verify each step. Provide a brief description for what was done at each step in the model development process. Compare each of the models and justify which is the best performing model and why"
   ]
  },
  {
   "cell_type": "markdown",
   "metadata": {
    "id": "lfCCo_s90fml"
   },
   "source": [
    "Splitting Data into Predictors (x) and Target (y)\n",
    "\n"
   ]
  },
  {
   "cell_type": "code",
   "execution_count": 23,
   "metadata": {
    "id": "C6DoaIGOISpy"
   },
   "outputs": [],
   "source": [
    "x = final_NP.drop('diff_CCAO', axis = 1)\n",
    "y = final_NP['diff_CCAO']"
   ]
  },
  {
   "cell_type": "markdown",
   "metadata": {
    "id": "-5ZAlXEo0uke"
   },
   "source": [
    "Splitting Data into Training and Testing Sets\n",
    "\n"
   ]
  },
  {
   "cell_type": "code",
   "execution_count": 24,
   "metadata": {
    "id": "qi9P7QaYIiMw"
   },
   "outputs": [],
   "source": [
    "from sklearn.model_selection import train_test_split\n",
    "X_train, X_test, y_train, y_test = train_test_split(x, y, test_size=0.25, random_state=10)"
   ]
  },
  {
   "cell_type": "code",
   "execution_count": 25,
   "metadata": {
    "id": "t-plGfaMZJJ9"
   },
   "outputs": [],
   "source": [
    "from sklearn.linear_model import Ridge, Lasso\n",
    "from sklearn.ensemble import AdaBoostRegressor, GradientBoostingRegressor\n",
    "from sklearn.metrics import mean_squared_error, r2_score\n",
    "from sklearn.preprocessing import StandardScaler"
   ]
  },
  {
   "cell_type": "code",
   "execution_count": 26,
   "metadata": {
    "id": "CiNuV_Wo2ZWD"
   },
   "outputs": [],
   "source": [
    "# Standardize features\n",
    "scaler = StandardScaler()\n",
    "X_train_scaled = scaler.fit_transform(X_train)\n",
    "X_test_scaled = scaler.transform(X_test)"
   ]
  },
  {
   "cell_type": "code",
   "execution_count": 27,
   "metadata": {
    "id": "oFdOiRxLYpvd"
   },
   "outputs": [],
   "source": [
    "# Initialize different regression models\n",
    "ridge_reg = Ridge()\n",
    "lasso_reg = Lasso()\n",
    "ada_boost = AdaBoostRegressor()\n",
    "grad_boost = GradientBoostingRegressor()"
   ]
  },
  {
   "cell_type": "markdown",
   "metadata": {
    "id": "AeYdrQKRY5g8"
   },
   "source": [
    "## Ridge regression"
   ]
  },
  {
   "cell_type": "code",
   "execution_count": 28,
   "metadata": {
    "id": "HIg4n5j6ZR1I"
   },
   "outputs": [],
   "source": [
    "ridge_reg = Ridge()\n",
    "ridge_reg.fit(X_train_scaled, y_train)\n",
    "ridge_pred = ridge_reg.predict(X_test_scaled)"
   ]
  },
  {
   "cell_type": "code",
   "execution_count": 29,
   "metadata": {
    "colab": {
     "base_uri": "https://localhost:8080/"
    },
    "id": "gxme2jNfZqQs",
    "outputId": "695c04f7-e9b9-4f89-af7c-048106c60f4d"
   },
   "outputs": [
    {
     "name": "stdout",
     "output_type": "stream",
     "text": [
      " Ridge: RMSE =  627.9980807548442\n",
      "R2_SCORE = 0.7653874591125194\n"
     ]
    }
   ],
   "source": [
    "rmse_error = np.sqrt(mean_squared_error(y_test,ridge_pred))\n",
    "rscore = r2_score(y_test,ridge_pred)\n",
    "\n",
    "print(\" Ridge: RMSE = \", rmse_error)\n",
    "print(\"R2_SCORE =\", rscore)"
   ]
  },
  {
   "cell_type": "markdown",
   "metadata": {
    "id": "LCfPczj8Z1wK"
   },
   "source": [
    "## Lasso regression"
   ]
  },
  {
   "cell_type": "code",
   "execution_count": 30,
   "metadata": {
    "colab": {
     "base_uri": "https://localhost:8080/"
    },
    "id": "3cfMszg8aA0J",
    "outputId": "a8e32629-d7a3-4e88-aeec-a935d0cfacf8"
   },
   "outputs": [
    {
     "name": "stdout",
     "output_type": "stream",
     "text": [
      " Lasso: RMSE =  626.9316377099997\n",
      "R2_SCORE = 0.7661836031746418\n"
     ]
    }
   ],
   "source": [
    "lasso_reg.fit(X_train_scaled, y_train)\n",
    "lasso_pred = lasso_reg.predict(X_test_scaled)\n",
    "\n",
    "rmse_error = np.sqrt(mean_squared_error(y_test,lasso_pred))\n",
    "rscore = r2_score(y_test,lasso_pred)\n",
    "\n",
    "print(\" Lasso: RMSE = \", rmse_error)\n",
    "print(\"R2_SCORE =\", rscore)"
   ]
  },
  {
   "cell_type": "markdown",
   "metadata": {
    "id": "4z-X7b1faFYu"
   },
   "source": [
    "## AdaBoostRegressor"
   ]
  },
  {
   "cell_type": "code",
   "execution_count": 31,
   "metadata": {
    "colab": {
     "base_uri": "https://localhost:8080/"
    },
    "id": "703EE2ldaApH",
    "outputId": "ff0a80e6-db33-4cff-decd-4cf38e8cc993"
   },
   "outputs": [
    {
     "name": "stdout",
     "output_type": "stream",
     "text": [
      " Ada boost: RMSE =  1756.4951594999998\n",
      "R2_SCORE = -0.8353906065722194\n"
     ]
    }
   ],
   "source": [
    "ada_boost.fit(X_train_scaled, y_train)\n",
    "ada_boost_pred = ada_boost.predict(X_test_scaled)\n",
    "\n",
    "rmse_error = np.sqrt(mean_squared_error(y_test,ada_boost_pred))\n",
    "rscore = r2_score(y_test,ada_boost_pred)\n",
    "\n",
    "print(\" Ada boost: RMSE = \", rmse_error)\n",
    "print(\"R2_SCORE =\", rscore)"
   ]
  },
  {
   "cell_type": "markdown",
   "metadata": {
    "id": "cEaajupkaQrX"
   },
   "source": [
    "## GradientBoostingRegressor"
   ]
  },
  {
   "cell_type": "code",
   "execution_count": 32,
   "metadata": {
    "colab": {
     "base_uri": "https://localhost:8080/"
    },
    "id": "lIUYpRWkaWwM",
    "outputId": "40a235b0-eda2-488b-9fce-19262fabb3b0"
   },
   "outputs": [
    {
     "name": "stdout",
     "output_type": "stream",
     "text": [
      " Gradient boost: RMSE =  458.21748159116356\n",
      "R2_SCORE = 0.8750955537888433\n"
     ]
    }
   ],
   "source": [
    "grad_boost.fit(X_train_scaled, y_train)\n",
    "grad_boost_pred = grad_boost.predict(X_test_scaled)\n",
    "\n",
    "rmse_error = np.sqrt(mean_squared_error(y_test,grad_boost_pred))\n",
    "rscore = r2_score(y_test,grad_boost_pred)\n",
    "\n",
    "print(\" Gradient boost: RMSE = \", rmse_error)\n",
    "print(\"R2_SCORE =\", rscore)"
   ]
  },
  {
   "cell_type": "markdown",
   "metadata": {
    "id": "gYpML79rov4q"
   },
   "source": [
    "# Comparision\n",
    "\n",
    "Gradient Boosting has the lowest RMSE (459.8230), indicating better accuracy in predicting the target variable compared to the other models.\n",
    "\n",
    "R2 Score for Gradient Boosting is also the highest (0.8742), suggesting that a larger proportion of the variance in the target variable is explained by the model.\n",
    "\n",
    "Based on both RMSE and R2 Score, it seems that Gradient Boosting is the best-performing model among the ones evaluated. It demonstrates lower prediction errors and a higher ability to explain the variance in the target variable."
   ]
  },
  {
   "cell_type": "markdown",
   "metadata": {
    "id": "bDWOD4M3Cx1h"
   },
   "source": [
    "# Task 2"
   ]
  },
  {
   "cell_type": "markdown",
   "metadata": {
    "id": "DDYrYABH0X2U"
   },
   "source": [
    "\n",
    "Q2: Demonstrate four algorithmic variations of models that will predict with a high degree of accuracy and generalizability whether or not the CCAO adjustment indicator is true. Provide a brief description for what was done at each step in the model development process. Include the appropriate screenshots to verify each step. Compare each of the models and justify which is the best performing model and why\n",
    "\n"
   ]
  },
  {
   "cell_type": "code",
   "execution_count": 48,
   "metadata": {
    "id": "n9Ni92VXcfDN"
   },
   "outputs": [],
   "source": [
    "x = final_NP.drop('CCAO adjustment indicator', axis=1)\n",
    "y = final_NP['CCAO adjustment indicator']\n"
   ]
  },
  {
   "cell_type": "code",
   "execution_count": 43,
   "metadata": {
    "id": "Pj7MMGcUci3f"
   },
   "outputs": [],
   "source": [
    "from sklearn.model_selection import train_test_split\n",
    "from sklearn.preprocessing import StandardScaler\n",
    "from sklearn.linear_model import LogisticRegression\n",
    "from sklearn.tree import DecisionTreeClassifier\n",
    "from sklearn.ensemble import RandomForestClassifier\n",
    "from sklearn.naive_bayes import GaussianNB\n",
    "from sklearn.metrics import accuracy_score, classification_report, confusion_matrix\n",
    "\n",
    "#Split the data into training and testing sets\n",
    "x_train, x_test, y_train, y_test = train_test_split(x, y, test_size=0.2, random_state=42)\n",
    "\n",
    "#Standardize the features\n",
    "scaler = StandardScaler()\n",
    "x_train_scaled = scaler.fit_transform(x_train)\n",
    "x_test_scaled = scaler.transform(x_test)\n"
   ]
  },
  {
   "cell_type": "code",
   "execution_count": 44,
   "metadata": {
    "colab": {
     "base_uri": "https://localhost:8080/"
    },
    "id": "uXrihuo2oBP-",
    "outputId": "a0fa8e41-19c2-4573-b57f-f2ae27a14a0c"
   },
   "outputs": [
    {
     "name": "stdout",
     "output_type": "stream",
     "text": [
      "Logistic Regression:\n",
      "Accuracy: 0.9973147020065143\n",
      "Confusion Matrix:\n",
      " [[39883    15]\n",
      " [   93   228]]\n",
      "Classification Report:\n",
      "               precision    recall  f1-score   support\n",
      "\n",
      "       False       1.00      1.00      1.00     39898\n",
      "        True       0.94      0.71      0.81       321\n",
      "\n",
      "    accuracy                           1.00     40219\n",
      "   macro avg       0.97      0.85      0.90     40219\n",
      "weighted avg       1.00      1.00      1.00     40219\n",
      "\n"
     ]
    }
   ],
   "source": [
    "#Fit and evaluate Logistic Regression model\n",
    "lr_model = LogisticRegression()\n",
    "lr_model.fit(x_train_scaled, y_train)\n",
    "lr_predictions = lr_model.predict(x_test_scaled)\n",
    "\n",
    "# Print results for Logistic Regression\n",
    "print(\"Logistic Regression:\")\n",
    "print(\"Accuracy:\", accuracy_score(y_test, lr_predictions))\n",
    "print(\"Confusion Matrix:\\n\", confusion_matrix(y_test, lr_predictions))\n",
    "print(\"Classification Report:\\n\", classification_report(y_test, lr_predictions))\n"
   ]
  },
  {
   "cell_type": "code",
   "execution_count": 45,
   "metadata": {
    "colab": {
     "base_uri": "https://localhost:8080/"
    },
    "id": "yzuPiYwXoGrw",
    "outputId": "828e2239-a945-4f17-e654-91fd2e0c05b6"
   },
   "outputs": [
    {
     "name": "stdout",
     "output_type": "stream",
     "text": [
      "\n",
      "Decision Tree:\n",
      "Accuracy: 0.9968422884706233\n",
      "Confusion Matrix:\n",
      " [[39845    53]\n",
      " [   74   247]]\n",
      "Classification Report:\n",
      "               precision    recall  f1-score   support\n",
      "\n",
      "       False       1.00      1.00      1.00     39898\n",
      "        True       0.82      0.77      0.80       321\n",
      "\n",
      "    accuracy                           1.00     40219\n",
      "   macro avg       0.91      0.88      0.90     40219\n",
      "weighted avg       1.00      1.00      1.00     40219\n",
      "\n"
     ]
    }
   ],
   "source": [
    "# Decision Tree\n",
    "dt_model = DecisionTreeClassifier()\n",
    "dt_model.fit(x_train_scaled, y_train)\n",
    "dt_predictions = dt_model.predict(x_test_scaled)\n",
    "print(\"\\nDecision Tree:\")\n",
    "print(\"Accuracy:\", accuracy_score(y_test, dt_predictions))\n",
    "print(\"Confusion Matrix:\\n\", confusion_matrix(y_test, dt_predictions))\n",
    "print(\"Classification Report:\\n\", classification_report(y_test, dt_predictions))\n"
   ]
  },
  {
   "cell_type": "code",
   "execution_count": 49,
   "metadata": {
    "colab": {
     "base_uri": "https://localhost:8080/"
    },
    "id": "nkhqOJGLoMyl",
    "outputId": "f72422a4-5f93-4de3-b755-fe9c926f445f"
   },
   "outputs": [
    {
     "name": "stdout",
     "output_type": "stream",
     "text": [
      "\n",
      "Random Forest:\n",
      "Accuracy: 0.9952012730301599\n",
      "Confusion Matrix:\n",
      " [[39897     1]\n",
      " [  192   129]]\n",
      "Classification Report:\n",
      "               precision    recall  f1-score   support\n",
      "\n",
      "       False       1.00      1.00      1.00     39898\n",
      "        True       0.99      0.40      0.57       321\n",
      "\n",
      "    accuracy                           1.00     40219\n",
      "   macro avg       0.99      0.70      0.78     40219\n",
      "weighted avg       1.00      1.00      0.99     40219\n",
      "\n"
     ]
    }
   ],
   "source": [
    "# Random Forest\n",
    "rf_model = RandomForestClassifier()\n",
    "rf_model.fit(x_train_scaled, y_train)\n",
    "rf_predictions = rf_model.predict(x_test_scaled)\n",
    "print(\"\\nRandom Forest:\")\n",
    "print(\"Accuracy:\", accuracy_score(y_test, rf_predictions))\n",
    "print(\"Confusion Matrix:\\n\", confusion_matrix(y_test, rf_predictions))\n",
    "print(\"Classification Report:\\n\", classification_report(y_test, rf_predictions))\n"
   ]
  },
  {
   "cell_type": "code",
   "execution_count": 47,
   "metadata": {
    "colab": {
     "base_uri": "https://localhost:8080/"
    },
    "id": "6x_pWoiaoOIz",
    "outputId": "eae4a3c9-7b0d-422f-f695-43fe82699176"
   },
   "outputs": [
    {
     "metadata": {
      "tags": null
     },
     "name": "stdout",
     "output_type": "stream",
     "text": [
      "\n",
      "Bayesian Classifier:\n",
      "Accuracy: 0.14311643750466196\n",
      "Confusion Matrix:\n",
      " [[ 5445 34453]\n",
      " [   10   311]]\n",
      "Classification Report:\n",
      "               precision    recall  f1-score   support\n",
      "\n",
      "       False       1.00      0.14      0.24     39898\n",
      "        True       0.01      0.97      0.02       321\n",
      "\n",
      "    accuracy                           0.14     40219\n",
      "   macro avg       0.50      0.55      0.13     40219\n",
      "weighted avg       0.99      0.14      0.24     40219\n",
      "\n"
     ]
    }
   ],
   "source": [
    "# Bayesian Classifier (Gaussian Naive Bayes)\n",
    "bayes_model = GaussianNB()\n",
    "bayes_model.fit(x_train_scaled, y_train)\n",
    "bayes_predictions = bayes_model.predict(x_test_scaled)\n",
    "\n",
    "# Print metrics\n",
    "print(\"\\nBayesian Classifier:\")\n",
    "print(\"Accuracy:\", accuracy_score(y_test, bayes_predictions))\n",
    "print(\"Confusion Matrix:\\n\", confusion_matrix(y_test, bayes_predictions))\n",
    "print(\"Classification Report:\\n\", classification_report(y_test, bayes_predictions))\n"
   ]
  },
  {
   "cell_type": "markdown",
   "metadata": {
    "id": "qohnP2Cvno7t"
   },
   "source": [
    "## Conclusion:\n",
    "\n",
    "Logistic Regression or Decision Tree may be preferable depending on the specific requirements.\n",
    "Random Forest may be suitable if avoiding false positives is critical.\n",
    "The Bayesian Classifier appears to perform poorly in this context."
   ]
  },
  {
   "cell_type": "markdown",
   "metadata": {
    "id": "MFTiV-rDC2Hb"
   },
   "source": [
    "# Task 3\n",
    "\n",
    "Q3.Re-run all the models for part1 using Auto-ML.  Provide a chart that compares the results of Auto-ML versus the results you created in the previous questions.  Explain what the results indicate."
   ]
  },
  {
   "cell_type": "markdown",
   "metadata": {
    "id": "DcDAJ0nrij9q"
   },
   "source": [
    "## Q3.1"
   ]
  },
  {
   "cell_type": "code",
   "execution_count": 36,
   "metadata": {
    "colab": {
     "base_uri": "https://localhost:8080/"
    },
    "id": "QGY3WOpniG4X",
    "outputId": "edadc433-ede4-4273-d2b2-c6eff82e78c0"
   },
   "outputs": [
    {
     "name": "stdout",
     "output_type": "stream",
     "text": [
      "Requirement already satisfied: pycaret in /usr/local/lib/python3.10/dist-packages (3.2.0)\n",
      "Requirement already satisfied: category-encoders>=2.4.0 in /usr/local/lib/python3.10/dist-packages (from pycaret) (2.6.3)\n",
      "Requirement already satisfied: cloudpickle in /usr/local/lib/python3.10/dist-packages (from pycaret) (2.2.1)\n",
      "Requirement already satisfied: deprecation>=2.1.0 in /usr/local/lib/python3.10/dist-packages (from pycaret) (2.1.0)\n",
      "Requirement already satisfied: imbalanced-learn>=0.8.1 in /usr/local/lib/python3.10/dist-packages (from pycaret) (0.10.1)\n",
      "Requirement already satisfied: importlib-metadata>=4.12.0 in /usr/local/lib/python3.10/dist-packages (from pycaret) (7.0.0)\n",
      "Requirement already satisfied: ipython>=5.5.0 in /usr/local/lib/python3.10/dist-packages (from pycaret) (7.34.0)\n",
      "Requirement already satisfied: ipywidgets>=7.6.5 in /usr/local/lib/python3.10/dist-packages (from pycaret) (7.7.1)\n",
      "Requirement already satisfied: jinja2>=1.2 in /usr/local/lib/python3.10/dist-packages (from pycaret) (3.1.2)\n",
      "Requirement already satisfied: joblib>=1.2.0 in /usr/local/lib/python3.10/dist-packages (from pycaret) (1.3.2)\n",
      "Requirement already satisfied: kaleido>=0.2.1 in /usr/local/lib/python3.10/dist-packages (from pycaret) (0.2.1)\n",
      "Requirement already satisfied: lightgbm>=3.0.0 in /usr/local/lib/python3.10/dist-packages (from pycaret) (4.1.0)\n",
      "Requirement already satisfied: markupsafe>=2.0.1 in /usr/local/lib/python3.10/dist-packages (from pycaret) (2.1.3)\n",
      "Requirement already satisfied: matplotlib<=3.6,>=3.3.0 in /usr/local/lib/python3.10/dist-packages (from pycaret) (3.6.0)\n",
      "Requirement already satisfied: nbformat>=4.2.0 in /usr/local/lib/python3.10/dist-packages (from pycaret) (5.9.2)\n",
      "Requirement already satisfied: numba>=0.55.0 in /usr/local/lib/python3.10/dist-packages (from pycaret) (0.58.1)\n",
      "Requirement already satisfied: numpy<1.27,>=1.21 in /usr/local/lib/python3.10/dist-packages (from pycaret) (1.23.5)\n",
      "Requirement already satisfied: pandas<2.0.0,>=1.3.0 in /usr/local/lib/python3.10/dist-packages (from pycaret) (1.5.3)\n",
      "Requirement already satisfied: plotly-resampler>=0.8.3.1 in /usr/local/lib/python3.10/dist-packages (from pycaret) (0.9.1)\n",
      "Requirement already satisfied: plotly>=5.0.0 in /usr/local/lib/python3.10/dist-packages (from pycaret) (5.15.0)\n",
      "Requirement already satisfied: pmdarima!=1.8.1,<3.0.0,>=1.8.0 in /usr/local/lib/python3.10/dist-packages (from pycaret) (2.0.4)\n",
      "Requirement already satisfied: psutil>=5.9.0 in /usr/local/lib/python3.10/dist-packages (from pycaret) (5.9.5)\n",
      "Requirement already satisfied: pyod>=1.0.8 in /usr/local/lib/python3.10/dist-packages (from pycaret) (1.1.2)\n",
      "Requirement already satisfied: requests>=2.27.1 in /usr/local/lib/python3.10/dist-packages (from pycaret) (2.31.0)\n",
      "Requirement already satisfied: schemdraw==0.15 in /usr/local/lib/python3.10/dist-packages (from pycaret) (0.15)\n",
      "Requirement already satisfied: scikit-learn<1.3.0,>=1.0 in /usr/local/lib/python3.10/dist-packages (from pycaret) (1.2.2)\n",
      "Requirement already satisfied: scikit-plot>=0.3.7 in /usr/local/lib/python3.10/dist-packages (from pycaret) (0.3.7)\n",
      "Requirement already satisfied: scipy~=1.10.1 in /usr/local/lib/python3.10/dist-packages (from pycaret) (1.10.1)\n",
      "Requirement already satisfied: sktime!=0.17.1,!=0.17.2,!=0.18.0,<0.22.0,>=0.16.1 in /usr/local/lib/python3.10/dist-packages (from pycaret) (0.21.1)\n",
      "Requirement already satisfied: statsmodels>=0.12.1 in /usr/local/lib/python3.10/dist-packages (from pycaret) (0.14.0)\n",
      "Requirement already satisfied: tbats>=1.1.3 in /usr/local/lib/python3.10/dist-packages (from pycaret) (1.1.3)\n",
      "Requirement already satisfied: tqdm>=4.62.0 in /usr/local/lib/python3.10/dist-packages (from pycaret) (4.66.1)\n",
      "Requirement already satisfied: xxhash in /usr/local/lib/python3.10/dist-packages (from pycaret) (3.4.1)\n",
      "Requirement already satisfied: yellowbrick>=1.4 in /usr/local/lib/python3.10/dist-packages (from pycaret) (1.5)\n",
      "Requirement already satisfied: wurlitzer in /usr/local/lib/python3.10/dist-packages (from pycaret) (3.0.3)\n",
      "Requirement already satisfied: patsy>=0.5.1 in /usr/local/lib/python3.10/dist-packages (from category-encoders>=2.4.0->pycaret) (0.5.4)\n",
      "Requirement already satisfied: packaging in /usr/local/lib/python3.10/dist-packages (from deprecation>=2.1.0->pycaret) (23.2)\n",
      "Requirement already satisfied: threadpoolctl>=2.0.0 in /usr/local/lib/python3.10/dist-packages (from imbalanced-learn>=0.8.1->pycaret) (3.2.0)\n",
      "Requirement already satisfied: zipp>=0.5 in /usr/local/lib/python3.10/dist-packages (from importlib-metadata>=4.12.0->pycaret) (3.17.0)\n",
      "Requirement already satisfied: setuptools>=18.5 in /usr/local/lib/python3.10/dist-packages (from ipython>=5.5.0->pycaret) (67.7.2)\n",
      "Requirement already satisfied: jedi>=0.16 in /usr/local/lib/python3.10/dist-packages (from ipython>=5.5.0->pycaret) (0.19.1)\n",
      "Requirement already satisfied: decorator in /usr/local/lib/python3.10/dist-packages (from ipython>=5.5.0->pycaret) (4.4.2)\n",
      "Requirement already satisfied: pickleshare in /usr/local/lib/python3.10/dist-packages (from ipython>=5.5.0->pycaret) (0.7.5)\n",
      "Requirement already satisfied: traitlets>=4.2 in /usr/local/lib/python3.10/dist-packages (from ipython>=5.5.0->pycaret) (5.7.1)\n",
      "Requirement already satisfied: prompt-toolkit!=3.0.0,!=3.0.1,<3.1.0,>=2.0.0 in /usr/local/lib/python3.10/dist-packages (from ipython>=5.5.0->pycaret) (3.0.41)\n",
      "Requirement already satisfied: pygments in /usr/local/lib/python3.10/dist-packages (from ipython>=5.5.0->pycaret) (2.16.1)\n",
      "Requirement already satisfied: backcall in /usr/local/lib/python3.10/dist-packages (from ipython>=5.5.0->pycaret) (0.2.0)\n",
      "Requirement already satisfied: matplotlib-inline in /usr/local/lib/python3.10/dist-packages (from ipython>=5.5.0->pycaret) (0.1.6)\n",
      "Requirement already satisfied: pexpect>4.3 in /usr/local/lib/python3.10/dist-packages (from ipython>=5.5.0->pycaret) (4.9.0)\n",
      "Requirement already satisfied: ipykernel>=4.5.1 in /usr/local/lib/python3.10/dist-packages (from ipywidgets>=7.6.5->pycaret) (5.5.6)\n",
      "Requirement already satisfied: ipython-genutils~=0.2.0 in /usr/local/lib/python3.10/dist-packages (from ipywidgets>=7.6.5->pycaret) (0.2.0)\n",
      "Requirement already satisfied: widgetsnbextension~=3.6.0 in /usr/local/lib/python3.10/dist-packages (from ipywidgets>=7.6.5->pycaret) (3.6.6)\n",
      "Requirement already satisfied: jupyterlab-widgets>=1.0.0 in /usr/local/lib/python3.10/dist-packages (from ipywidgets>=7.6.5->pycaret) (3.0.9)\n",
      "Requirement already satisfied: contourpy>=1.0.1 in /usr/local/lib/python3.10/dist-packages (from matplotlib<=3.6,>=3.3.0->pycaret) (1.2.0)\n",
      "Requirement already satisfied: cycler>=0.10 in /usr/local/lib/python3.10/dist-packages (from matplotlib<=3.6,>=3.3.0->pycaret) (0.12.1)\n",
      "Requirement already satisfied: fonttools>=4.22.0 in /usr/local/lib/python3.10/dist-packages (from matplotlib<=3.6,>=3.3.0->pycaret) (4.46.0)\n",
      "Requirement already satisfied: kiwisolver>=1.0.1 in /usr/local/lib/python3.10/dist-packages (from matplotlib<=3.6,>=3.3.0->pycaret) (1.4.5)\n",
      "Requirement already satisfied: pillow>=6.2.0 in /usr/local/lib/python3.10/dist-packages (from matplotlib<=3.6,>=3.3.0->pycaret) (9.4.0)\n",
      "Requirement already satisfied: pyparsing>=2.2.1 in /usr/local/lib/python3.10/dist-packages (from matplotlib<=3.6,>=3.3.0->pycaret) (3.1.1)\n",
      "Requirement already satisfied: python-dateutil>=2.7 in /usr/local/lib/python3.10/dist-packages (from matplotlib<=3.6,>=3.3.0->pycaret) (2.8.2)\n",
      "Requirement already satisfied: fastjsonschema in /usr/local/lib/python3.10/dist-packages (from nbformat>=4.2.0->pycaret) (2.19.0)\n",
      "Requirement already satisfied: jsonschema>=2.6 in /usr/local/lib/python3.10/dist-packages (from nbformat>=4.2.0->pycaret) (4.19.2)\n",
      "Requirement already satisfied: jupyter-core in /usr/local/lib/python3.10/dist-packages (from nbformat>=4.2.0->pycaret) (5.5.0)\n",
      "Requirement already satisfied: llvmlite<0.42,>=0.41.0dev0 in /usr/local/lib/python3.10/dist-packages (from numba>=0.55.0->pycaret) (0.41.1)\n",
      "Requirement already satisfied: pytz>=2020.1 in /usr/local/lib/python3.10/dist-packages (from pandas<2.0.0,>=1.3.0->pycaret) (2023.3.post1)\n",
      "Requirement already satisfied: tenacity>=6.2.0 in /usr/local/lib/python3.10/dist-packages (from plotly>=5.0.0->pycaret) (8.2.3)\n",
      "Requirement already satisfied: dash<3.0.0,>=2.11.0 in /usr/local/lib/python3.10/dist-packages (from plotly-resampler>=0.8.3.1->pycaret) (2.14.2)\n",
      "Requirement already satisfied: orjson<4.0.0,>=3.8.0 in /usr/local/lib/python3.10/dist-packages (from plotly-resampler>=0.8.3.1->pycaret) (3.9.10)\n",
      "Requirement already satisfied: trace-updater>=0.0.8 in /usr/local/lib/python3.10/dist-packages (from plotly-resampler>=0.8.3.1->pycaret) (0.0.9.1)\n",
      "Requirement already satisfied: tsdownsample==0.1.2 in /usr/local/lib/python3.10/dist-packages (from plotly-resampler>=0.8.3.1->pycaret) (0.1.2)\n",
      "Requirement already satisfied: Cython!=0.29.18,!=0.29.31,>=0.29 in /usr/local/lib/python3.10/dist-packages (from pmdarima!=1.8.1,<3.0.0,>=1.8.0->pycaret) (3.0.6)\n",
      "Requirement already satisfied: urllib3 in /usr/local/lib/python3.10/dist-packages (from pmdarima!=1.8.1,<3.0.0,>=1.8.0->pycaret) (2.0.7)\n",
      "Requirement already satisfied: six in /usr/local/lib/python3.10/dist-packages (from pyod>=1.0.8->pycaret) (1.16.0)\n",
      "Requirement already satisfied: charset-normalizer<4,>=2 in /usr/local/lib/python3.10/dist-packages (from requests>=2.27.1->pycaret) (3.3.2)\n",
      "Requirement already satisfied: idna<4,>=2.5 in /usr/local/lib/python3.10/dist-packages (from requests>=2.27.1->pycaret) (3.6)\n",
      "Requirement already satisfied: certifi>=2017.4.17 in /usr/local/lib/python3.10/dist-packages (from requests>=2.27.1->pycaret) (2023.11.17)\n",
      "Requirement already satisfied: deprecated>=1.2.13 in /usr/local/lib/python3.10/dist-packages (from sktime!=0.17.1,!=0.17.2,!=0.18.0,<0.22.0,>=0.16.1->pycaret) (1.2.14)\n",
      "Requirement already satisfied: scikit-base<0.6.0 in /usr/local/lib/python3.10/dist-packages (from sktime!=0.17.1,!=0.17.2,!=0.18.0,<0.22.0,>=0.16.1->pycaret) (0.5.2)\n",
      "Requirement already satisfied: Flask<3.1,>=1.0.4 in /usr/local/lib/python3.10/dist-packages (from dash<3.0.0,>=2.11.0->plotly-resampler>=0.8.3.1->pycaret) (2.2.5)\n",
      "Requirement already satisfied: Werkzeug<3.1 in /usr/local/lib/python3.10/dist-packages (from dash<3.0.0,>=2.11.0->plotly-resampler>=0.8.3.1->pycaret) (3.0.1)\n",
      "Requirement already satisfied: dash-html-components==2.0.0 in /usr/local/lib/python3.10/dist-packages (from dash<3.0.0,>=2.11.0->plotly-resampler>=0.8.3.1->pycaret) (2.0.0)\n",
      "Requirement already satisfied: dash-core-components==2.0.0 in /usr/local/lib/python3.10/dist-packages (from dash<3.0.0,>=2.11.0->plotly-resampler>=0.8.3.1->pycaret) (2.0.0)\n",
      "Requirement already satisfied: dash-table==5.0.0 in /usr/local/lib/python3.10/dist-packages (from dash<3.0.0,>=2.11.0->plotly-resampler>=0.8.3.1->pycaret) (5.0.0)\n",
      "Requirement already satisfied: typing-extensions>=4.1.1 in /usr/local/lib/python3.10/dist-packages (from dash<3.0.0,>=2.11.0->plotly-resampler>=0.8.3.1->pycaret) (4.5.0)\n",
      "Requirement already satisfied: retrying in /usr/local/lib/python3.10/dist-packages (from dash<3.0.0,>=2.11.0->plotly-resampler>=0.8.3.1->pycaret) (1.3.4)\n",
      "Requirement already satisfied: ansi2html in /usr/local/lib/python3.10/dist-packages (from dash<3.0.0,>=2.11.0->plotly-resampler>=0.8.3.1->pycaret) (1.9.1)\n",
      "Requirement already satisfied: nest-asyncio in /usr/local/lib/python3.10/dist-packages (from dash<3.0.0,>=2.11.0->plotly-resampler>=0.8.3.1->pycaret) (1.5.8)\n",
      "Requirement already satisfied: wrapt<2,>=1.10 in /usr/local/lib/python3.10/dist-packages (from deprecated>=1.2.13->sktime!=0.17.1,!=0.17.2,!=0.18.0,<0.22.0,>=0.16.1->pycaret) (1.14.1)\n",
      "Requirement already satisfied: jupyter-client in /usr/local/lib/python3.10/dist-packages (from ipykernel>=4.5.1->ipywidgets>=7.6.5->pycaret) (6.1.12)\n",
      "Requirement already satisfied: tornado>=4.2 in /usr/local/lib/python3.10/dist-packages (from ipykernel>=4.5.1->ipywidgets>=7.6.5->pycaret) (6.3.2)\n",
      "Requirement already satisfied: parso<0.9.0,>=0.8.3 in /usr/local/lib/python3.10/dist-packages (from jedi>=0.16->ipython>=5.5.0->pycaret) (0.8.3)\n",
      "Requirement already satisfied: attrs>=22.2.0 in /usr/local/lib/python3.10/dist-packages (from jsonschema>=2.6->nbformat>=4.2.0->pycaret) (23.1.0)\n",
      "Requirement already satisfied: jsonschema-specifications>=2023.03.6 in /usr/local/lib/python3.10/dist-packages (from jsonschema>=2.6->nbformat>=4.2.0->pycaret) (2023.11.2)\n",
      "Requirement already satisfied: referencing>=0.28.4 in /usr/local/lib/python3.10/dist-packages (from jsonschema>=2.6->nbformat>=4.2.0->pycaret) (0.31.1)\n",
      "Requirement already satisfied: rpds-py>=0.7.1 in /usr/local/lib/python3.10/dist-packages (from jsonschema>=2.6->nbformat>=4.2.0->pycaret) (0.13.2)\n",
      "Requirement already satisfied: ptyprocess>=0.5 in /usr/local/lib/python3.10/dist-packages (from pexpect>4.3->ipython>=5.5.0->pycaret) (0.7.0)\n",
      "Requirement already satisfied: wcwidth in /usr/local/lib/python3.10/dist-packages (from prompt-toolkit!=3.0.0,!=3.0.1,<3.1.0,>=2.0.0->ipython>=5.5.0->pycaret) (0.2.12)\n",
      "Requirement already satisfied: notebook>=4.4.1 in /usr/local/lib/python3.10/dist-packages (from widgetsnbextension~=3.6.0->ipywidgets>=7.6.5->pycaret) (6.5.5)\n",
      "Requirement already satisfied: platformdirs>=2.5 in /usr/local/lib/python3.10/dist-packages (from jupyter-core->nbformat>=4.2.0->pycaret) (4.1.0)\n",
      "Requirement already satisfied: itsdangerous>=2.0 in /usr/local/lib/python3.10/dist-packages (from Flask<3.1,>=1.0.4->dash<3.0.0,>=2.11.0->plotly-resampler>=0.8.3.1->pycaret) (2.1.2)\n",
      "Requirement already satisfied: click>=8.0 in /usr/local/lib/python3.10/dist-packages (from Flask<3.1,>=1.0.4->dash<3.0.0,>=2.11.0->plotly-resampler>=0.8.3.1->pycaret) (8.1.7)\n",
      "Requirement already satisfied: pyzmq<25,>=17 in /usr/local/lib/python3.10/dist-packages (from notebook>=4.4.1->widgetsnbextension~=3.6.0->ipywidgets>=7.6.5->pycaret) (23.2.1)\n",
      "Requirement already satisfied: argon2-cffi in /usr/local/lib/python3.10/dist-packages (from notebook>=4.4.1->widgetsnbextension~=3.6.0->ipywidgets>=7.6.5->pycaret) (23.1.0)\n",
      "Requirement already satisfied: nbconvert>=5 in /usr/local/lib/python3.10/dist-packages (from notebook>=4.4.1->widgetsnbextension~=3.6.0->ipywidgets>=7.6.5->pycaret) (6.5.4)\n",
      "Requirement already satisfied: Send2Trash>=1.8.0 in /usr/local/lib/python3.10/dist-packages (from notebook>=4.4.1->widgetsnbextension~=3.6.0->ipywidgets>=7.6.5->pycaret) (1.8.2)\n",
      "Requirement already satisfied: terminado>=0.8.3 in /usr/local/lib/python3.10/dist-packages (from notebook>=4.4.1->widgetsnbextension~=3.6.0->ipywidgets>=7.6.5->pycaret) (0.18.0)\n",
      "Requirement already satisfied: prometheus-client in /usr/local/lib/python3.10/dist-packages (from notebook>=4.4.1->widgetsnbextension~=3.6.0->ipywidgets>=7.6.5->pycaret) (0.19.0)\n",
      "Requirement already satisfied: nbclassic>=0.4.7 in /usr/local/lib/python3.10/dist-packages (from notebook>=4.4.1->widgetsnbextension~=3.6.0->ipywidgets>=7.6.5->pycaret) (1.0.0)\n",
      "Requirement already satisfied: jupyter-server>=1.8 in /usr/local/lib/python3.10/dist-packages (from nbclassic>=0.4.7->notebook>=4.4.1->widgetsnbextension~=3.6.0->ipywidgets>=7.6.5->pycaret) (1.24.0)\n",
      "Requirement already satisfied: notebook-shim>=0.2.3 in /usr/local/lib/python3.10/dist-packages (from nbclassic>=0.4.7->notebook>=4.4.1->widgetsnbextension~=3.6.0->ipywidgets>=7.6.5->pycaret) (0.2.3)\n",
      "Requirement already satisfied: lxml in /usr/local/lib/python3.10/dist-packages (from nbconvert>=5->notebook>=4.4.1->widgetsnbextension~=3.6.0->ipywidgets>=7.6.5->pycaret) (4.9.3)\n",
      "Requirement already satisfied: beautifulsoup4 in /usr/local/lib/python3.10/dist-packages (from nbconvert>=5->notebook>=4.4.1->widgetsnbextension~=3.6.0->ipywidgets>=7.6.5->pycaret) (4.11.2)\n",
      "Requirement already satisfied: bleach in /usr/local/lib/python3.10/dist-packages (from nbconvert>=5->notebook>=4.4.1->widgetsnbextension~=3.6.0->ipywidgets>=7.6.5->pycaret) (6.1.0)\n",
      "Requirement already satisfied: defusedxml in /usr/local/lib/python3.10/dist-packages (from nbconvert>=5->notebook>=4.4.1->widgetsnbextension~=3.6.0->ipywidgets>=7.6.5->pycaret) (0.7.1)\n",
      "Requirement already satisfied: entrypoints>=0.2.2 in /usr/local/lib/python3.10/dist-packages (from nbconvert>=5->notebook>=4.4.1->widgetsnbextension~=3.6.0->ipywidgets>=7.6.5->pycaret) (0.4)\n",
      "Requirement already satisfied: jupyterlab-pygments in /usr/local/lib/python3.10/dist-packages (from nbconvert>=5->notebook>=4.4.1->widgetsnbextension~=3.6.0->ipywidgets>=7.6.5->pycaret) (0.3.0)\n",
      "Requirement already satisfied: mistune<2,>=0.8.1 in /usr/local/lib/python3.10/dist-packages (from nbconvert>=5->notebook>=4.4.1->widgetsnbextension~=3.6.0->ipywidgets>=7.6.5->pycaret) (0.8.4)\n",
      "Requirement already satisfied: nbclient>=0.5.0 in /usr/local/lib/python3.10/dist-packages (from nbconvert>=5->notebook>=4.4.1->widgetsnbextension~=3.6.0->ipywidgets>=7.6.5->pycaret) (0.9.0)\n",
      "Requirement already satisfied: pandocfilters>=1.4.1 in /usr/local/lib/python3.10/dist-packages (from nbconvert>=5->notebook>=4.4.1->widgetsnbextension~=3.6.0->ipywidgets>=7.6.5->pycaret) (1.5.0)\n",
      "Requirement already satisfied: tinycss2 in /usr/local/lib/python3.10/dist-packages (from nbconvert>=5->notebook>=4.4.1->widgetsnbextension~=3.6.0->ipywidgets>=7.6.5->pycaret) (1.2.1)\n",
      "Requirement already satisfied: argon2-cffi-bindings in /usr/local/lib/python3.10/dist-packages (from argon2-cffi->notebook>=4.4.1->widgetsnbextension~=3.6.0->ipywidgets>=7.6.5->pycaret) (21.2.0)\n",
      "Requirement already satisfied: anyio<4,>=3.1.0 in /usr/local/lib/python3.10/dist-packages (from jupyter-server>=1.8->nbclassic>=0.4.7->notebook>=4.4.1->widgetsnbextension~=3.6.0->ipywidgets>=7.6.5->pycaret) (3.7.1)\n",
      "Requirement already satisfied: websocket-client in /usr/local/lib/python3.10/dist-packages (from jupyter-server>=1.8->nbclassic>=0.4.7->notebook>=4.4.1->widgetsnbextension~=3.6.0->ipywidgets>=7.6.5->pycaret) (1.7.0)\n",
      "Requirement already satisfied: cffi>=1.0.1 in /usr/local/lib/python3.10/dist-packages (from argon2-cffi-bindings->argon2-cffi->notebook>=4.4.1->widgetsnbextension~=3.6.0->ipywidgets>=7.6.5->pycaret) (1.16.0)\n",
      "Requirement already satisfied: soupsieve>1.2 in /usr/local/lib/python3.10/dist-packages (from beautifulsoup4->nbconvert>=5->notebook>=4.4.1->widgetsnbextension~=3.6.0->ipywidgets>=7.6.5->pycaret) (2.5)\n",
      "Requirement already satisfied: webencodings in /usr/local/lib/python3.10/dist-packages (from bleach->nbconvert>=5->notebook>=4.4.1->widgetsnbextension~=3.6.0->ipywidgets>=7.6.5->pycaret) (0.5.1)\n",
      "Requirement already satisfied: sniffio>=1.1 in /usr/local/lib/python3.10/dist-packages (from anyio<4,>=3.1.0->jupyter-server>=1.8->nbclassic>=0.4.7->notebook>=4.4.1->widgetsnbextension~=3.6.0->ipywidgets>=7.6.5->pycaret) (1.3.0)\n",
      "Requirement already satisfied: exceptiongroup in /usr/local/lib/python3.10/dist-packages (from anyio<4,>=3.1.0->jupyter-server>=1.8->nbclassic>=0.4.7->notebook>=4.4.1->widgetsnbextension~=3.6.0->ipywidgets>=7.6.5->pycaret) (1.2.0)\n",
      "Requirement already satisfied: pycparser in /usr/local/lib/python3.10/dist-packages (from cffi>=1.0.1->argon2-cffi-bindings->argon2-cffi->notebook>=4.4.1->widgetsnbextension~=3.6.0->ipywidgets>=7.6.5->pycaret) (2.21)\n"
     ]
    }
   ],
   "source": [
    "pip install pycaret\n"
   ]
  },
  {
   "cell_type": "code",
   "execution_count": 39,
   "metadata": {
    "colab": {
     "base_uri": "https://localhost:8080/",
     "height": 708
    },
    "id": "qrxwuGjMlO-j",
    "outputId": "d13c9106-ce62-4249-984b-c2c54fe58ab5"
   },
   "outputs": [
    {
     "data": {
      "text/html": [
       "<style type=\"text/css\">\n",
       "#T_a3b1c_row8_col1, #T_a3b1c_row12_col1 {\n",
       "  background-color: lightgreen;\n",
       "}\n",
       "</style>\n",
       "<table id=\"T_a3b1c\" class=\"dataframe\">\n",
       "  <thead>\n",
       "    <tr>\n",
       "      <th class=\"blank level0\" >&nbsp;</th>\n",
       "      <th id=\"T_a3b1c_level0_col0\" class=\"col_heading level0 col0\" >Description</th>\n",
       "      <th id=\"T_a3b1c_level0_col1\" class=\"col_heading level0 col1\" >Value</th>\n",
       "    </tr>\n",
       "  </thead>\n",
       "  <tbody>\n",
       "    <tr>\n",
       "      <th id=\"T_a3b1c_level0_row0\" class=\"row_heading level0 row0\" >0</th>\n",
       "      <td id=\"T_a3b1c_row0_col0\" class=\"data row0 col0\" >Session id</td>\n",
       "      <td id=\"T_a3b1c_row0_col1\" class=\"data row0 col1\" >123</td>\n",
       "    </tr>\n",
       "    <tr>\n",
       "      <th id=\"T_a3b1c_level0_row1\" class=\"row_heading level0 row1\" >1</th>\n",
       "      <td id=\"T_a3b1c_row1_col0\" class=\"data row1 col0\" >Target</td>\n",
       "      <td id=\"T_a3b1c_row1_col1\" class=\"data row1 col1\" >diff_CCAO</td>\n",
       "    </tr>\n",
       "    <tr>\n",
       "      <th id=\"T_a3b1c_level0_row2\" class=\"row_heading level0 row2\" >2</th>\n",
       "      <td id=\"T_a3b1c_row2_col0\" class=\"data row2 col0\" >Target type</td>\n",
       "      <td id=\"T_a3b1c_row2_col1\" class=\"data row2 col1\" >Regression</td>\n",
       "    </tr>\n",
       "    <tr>\n",
       "      <th id=\"T_a3b1c_level0_row3\" class=\"row_heading level0 row3\" >3</th>\n",
       "      <td id=\"T_a3b1c_row3_col0\" class=\"data row3 col0\" >Original data shape</td>\n",
       "      <td id=\"T_a3b1c_row3_col1\" class=\"data row3 col1\" >(201092, 128)</td>\n",
       "    </tr>\n",
       "    <tr>\n",
       "      <th id=\"T_a3b1c_level0_row4\" class=\"row_heading level0 row4\" >4</th>\n",
       "      <td id=\"T_a3b1c_row4_col0\" class=\"data row4 col0\" >Transformed data shape</td>\n",
       "      <td id=\"T_a3b1c_row4_col1\" class=\"data row4 col1\" >(201092, 128)</td>\n",
       "    </tr>\n",
       "    <tr>\n",
       "      <th id=\"T_a3b1c_level0_row5\" class=\"row_heading level0 row5\" >5</th>\n",
       "      <td id=\"T_a3b1c_row5_col0\" class=\"data row5 col0\" >Transformed train set shape</td>\n",
       "      <td id=\"T_a3b1c_row5_col1\" class=\"data row5 col1\" >(160873, 128)</td>\n",
       "    </tr>\n",
       "    <tr>\n",
       "      <th id=\"T_a3b1c_level0_row6\" class=\"row_heading level0 row6\" >6</th>\n",
       "      <td id=\"T_a3b1c_row6_col0\" class=\"data row6 col0\" >Transformed test set shape</td>\n",
       "      <td id=\"T_a3b1c_row6_col1\" class=\"data row6 col1\" >(40219, 128)</td>\n",
       "    </tr>\n",
       "    <tr>\n",
       "      <th id=\"T_a3b1c_level0_row7\" class=\"row_heading level0 row7\" >7</th>\n",
       "      <td id=\"T_a3b1c_row7_col0\" class=\"data row7 col0\" >Numeric features</td>\n",
       "      <td id=\"T_a3b1c_row7_col1\" class=\"data row7 col1\" >125</td>\n",
       "    </tr>\n",
       "    <tr>\n",
       "      <th id=\"T_a3b1c_level0_row8\" class=\"row_heading level0 row8\" >8</th>\n",
       "      <td id=\"T_a3b1c_row8_col0\" class=\"data row8 col0\" >Preprocess</td>\n",
       "      <td id=\"T_a3b1c_row8_col1\" class=\"data row8 col1\" >True</td>\n",
       "    </tr>\n",
       "    <tr>\n",
       "      <th id=\"T_a3b1c_level0_row9\" class=\"row_heading level0 row9\" >9</th>\n",
       "      <td id=\"T_a3b1c_row9_col0\" class=\"data row9 col0\" >Imputation type</td>\n",
       "      <td id=\"T_a3b1c_row9_col1\" class=\"data row9 col1\" >simple</td>\n",
       "    </tr>\n",
       "    <tr>\n",
       "      <th id=\"T_a3b1c_level0_row10\" class=\"row_heading level0 row10\" >10</th>\n",
       "      <td id=\"T_a3b1c_row10_col0\" class=\"data row10 col0\" >Numeric imputation</td>\n",
       "      <td id=\"T_a3b1c_row10_col1\" class=\"data row10 col1\" >mean</td>\n",
       "    </tr>\n",
       "    <tr>\n",
       "      <th id=\"T_a3b1c_level0_row11\" class=\"row_heading level0 row11\" >11</th>\n",
       "      <td id=\"T_a3b1c_row11_col0\" class=\"data row11 col0\" >Categorical imputation</td>\n",
       "      <td id=\"T_a3b1c_row11_col1\" class=\"data row11 col1\" >mode</td>\n",
       "    </tr>\n",
       "    <tr>\n",
       "      <th id=\"T_a3b1c_level0_row12\" class=\"row_heading level0 row12\" >12</th>\n",
       "      <td id=\"T_a3b1c_row12_col0\" class=\"data row12 col0\" >Normalize</td>\n",
       "      <td id=\"T_a3b1c_row12_col1\" class=\"data row12 col1\" >True</td>\n",
       "    </tr>\n",
       "    <tr>\n",
       "      <th id=\"T_a3b1c_level0_row13\" class=\"row_heading level0 row13\" >13</th>\n",
       "      <td id=\"T_a3b1c_row13_col0\" class=\"data row13 col0\" >Normalize method</td>\n",
       "      <td id=\"T_a3b1c_row13_col1\" class=\"data row13 col1\" >zscore</td>\n",
       "    </tr>\n",
       "    <tr>\n",
       "      <th id=\"T_a3b1c_level0_row14\" class=\"row_heading level0 row14\" >14</th>\n",
       "      <td id=\"T_a3b1c_row14_col0\" class=\"data row14 col0\" >Fold Generator</td>\n",
       "      <td id=\"T_a3b1c_row14_col1\" class=\"data row14 col1\" >KFold</td>\n",
       "    </tr>\n",
       "    <tr>\n",
       "      <th id=\"T_a3b1c_level0_row15\" class=\"row_heading level0 row15\" >15</th>\n",
       "      <td id=\"T_a3b1c_row15_col0\" class=\"data row15 col0\" >Fold Number</td>\n",
       "      <td id=\"T_a3b1c_row15_col1\" class=\"data row15 col1\" >10</td>\n",
       "    </tr>\n",
       "    <tr>\n",
       "      <th id=\"T_a3b1c_level0_row16\" class=\"row_heading level0 row16\" >16</th>\n",
       "      <td id=\"T_a3b1c_row16_col0\" class=\"data row16 col0\" >CPU Jobs</td>\n",
       "      <td id=\"T_a3b1c_row16_col1\" class=\"data row16 col1\" >-1</td>\n",
       "    </tr>\n",
       "    <tr>\n",
       "      <th id=\"T_a3b1c_level0_row17\" class=\"row_heading level0 row17\" >17</th>\n",
       "      <td id=\"T_a3b1c_row17_col0\" class=\"data row17 col0\" >Use GPU</td>\n",
       "      <td id=\"T_a3b1c_row17_col1\" class=\"data row17 col1\" >False</td>\n",
       "    </tr>\n",
       "    <tr>\n",
       "      <th id=\"T_a3b1c_level0_row18\" class=\"row_heading level0 row18\" >18</th>\n",
       "      <td id=\"T_a3b1c_row18_col0\" class=\"data row18 col0\" >Log Experiment</td>\n",
       "      <td id=\"T_a3b1c_row18_col1\" class=\"data row18 col1\" >False</td>\n",
       "    </tr>\n",
       "    <tr>\n",
       "      <th id=\"T_a3b1c_level0_row19\" class=\"row_heading level0 row19\" >19</th>\n",
       "      <td id=\"T_a3b1c_row19_col0\" class=\"data row19 col0\" >Experiment Name</td>\n",
       "      <td id=\"T_a3b1c_row19_col1\" class=\"data row19 col1\" >reg-default-name</td>\n",
       "    </tr>\n",
       "    <tr>\n",
       "      <th id=\"T_a3b1c_level0_row20\" class=\"row_heading level0 row20\" >20</th>\n",
       "      <td id=\"T_a3b1c_row20_col0\" class=\"data row20 col0\" >USI</td>\n",
       "      <td id=\"T_a3b1c_row20_col1\" class=\"data row20 col1\" >f88d</td>\n",
       "    </tr>\n",
       "  </tbody>\n",
       "</table>\n"
      ],
      "text/plain": [
       "<pandas.io.formats.style.Styler at 0x7a23ad0cc5e0>"
      ]
     },
     "metadata": {},
     "output_type": "display_data"
    }
   ],
   "source": [
    "from pycaret.regression import *\n",
    "\n",
    "# Combine features and target variable into a single DataFrame\n",
    "data = pd.concat([x, y], axis=1)\n",
    "\n",
    "# Set up PyCaret\n",
    "caret_setup = setup(data, target='diff_CCAO', session_id=123, normalize=True, train_size=0.8)\n",
    "\n"
   ]
  },
  {
   "cell_type": "code",
   "execution_count": 51,
   "metadata": {
    "colab": {
     "base_uri": "https://localhost:8080/",
     "height": 175,
     "referenced_widgets": [
      "16a16d36a00048739a7bd92a29f75138",
      "e534fa3f9ee04ad9b7950518fa6138d3",
      "7b19451f010c47f2905ff28fba9cc694",
      "75bb777bc9404c75adab1a126db6e842",
      "a21f463855b242a9b9008dba664c0343",
      "19066966f02d4c51a46b0280c9a9d32a",
      "49e48e474f744bc68be5d45fe4349a8a",
      "e47a7e637244478dab019c766eddca70",
      "533b00991aa947a9834f8dc0f1f9490f",
      "d1a28978c0754beca1a75716630f5751",
      "d00a186d5d8d4e6782304e66afd4236b"
     ]
    },
    "id": "zzhd2JfH2BCh",
    "outputId": "c7713d4f-efbf-4d6b-e702-00d468165d61"
   },
   "outputs": [
    {
     "data": {
      "text/html": [],
      "text/plain": [
       "<IPython.core.display.HTML object>"
      ]
     },
     "metadata": {},
     "output_type": "display_data"
    },
    {
     "data": {
      "text/html": [
       "<style type=\"text/css\">\n",
       "#T_42238 th {\n",
       "  text-align: left;\n",
       "}\n",
       "#T_42238_row0_col0, #T_42238_row1_col0, #T_42238_row1_col1, #T_42238_row1_col2, #T_42238_row1_col3, #T_42238_row1_col4, #T_42238_row1_col5, #T_42238_row1_col6, #T_42238_row2_col0, #T_42238_row2_col1, #T_42238_row2_col2, #T_42238_row2_col3, #T_42238_row2_col4, #T_42238_row2_col5, #T_42238_row2_col6, #T_42238_row3_col0, #T_42238_row3_col1, #T_42238_row3_col2, #T_42238_row3_col3, #T_42238_row3_col4, #T_42238_row3_col5, #T_42238_row3_col6 {\n",
       "  text-align: left;\n",
       "}\n",
       "#T_42238_row0_col1, #T_42238_row0_col2, #T_42238_row0_col3, #T_42238_row0_col4, #T_42238_row0_col5, #T_42238_row0_col6 {\n",
       "  text-align: left;\n",
       "  background-color: yellow;\n",
       "}\n",
       "#T_42238_row0_col7, #T_42238_row2_col7, #T_42238_row3_col7 {\n",
       "  text-align: left;\n",
       "  background-color: lightgrey;\n",
       "}\n",
       "#T_42238_row1_col7 {\n",
       "  text-align: left;\n",
       "  background-color: yellow;\n",
       "  background-color: lightgrey;\n",
       "}\n",
       "</style>\n",
       "<table id=\"T_42238\" class=\"dataframe\">\n",
       "  <thead>\n",
       "    <tr>\n",
       "      <th class=\"blank level0\" >&nbsp;</th>\n",
       "      <th id=\"T_42238_level0_col0\" class=\"col_heading level0 col0\" >Model</th>\n",
       "      <th id=\"T_42238_level0_col1\" class=\"col_heading level0 col1\" >MAE</th>\n",
       "      <th id=\"T_42238_level0_col2\" class=\"col_heading level0 col2\" >MSE</th>\n",
       "      <th id=\"T_42238_level0_col3\" class=\"col_heading level0 col3\" >RMSE</th>\n",
       "      <th id=\"T_42238_level0_col4\" class=\"col_heading level0 col4\" >R2</th>\n",
       "      <th id=\"T_42238_level0_col5\" class=\"col_heading level0 col5\" >RMSLE</th>\n",
       "      <th id=\"T_42238_level0_col6\" class=\"col_heading level0 col6\" >MAPE</th>\n",
       "      <th id=\"T_42238_level0_col7\" class=\"col_heading level0 col7\" >TT (Sec)</th>\n",
       "    </tr>\n",
       "  </thead>\n",
       "  <tbody>\n",
       "    <tr>\n",
       "      <th id=\"T_42238_level0_row0\" class=\"row_heading level0 row0\" >gbr</th>\n",
       "      <td id=\"T_42238_row0_col0\" class=\"data row0 col0\" >Gradient Boosting Regressor</td>\n",
       "      <td id=\"T_42238_row0_col1\" class=\"data row0 col1\" >122.2641</td>\n",
       "      <td id=\"T_42238_row0_col2\" class=\"data row0 col2\" >346954.8193</td>\n",
       "      <td id=\"T_42238_row0_col3\" class=\"data row0 col3\" >559.7858</td>\n",
       "      <td id=\"T_42238_row0_col4\" class=\"data row0 col4\" >0.8252</td>\n",
       "      <td id=\"T_42238_row0_col5\" class=\"data row0 col5\" >0.2153</td>\n",
       "      <td id=\"T_42238_row0_col6\" class=\"data row0 col6\" >0.0613</td>\n",
       "      <td id=\"T_42238_row0_col7\" class=\"data row0 col7\" >67.5790</td>\n",
       "    </tr>\n",
       "    <tr>\n",
       "      <th id=\"T_42238_level0_row1\" class=\"row_heading level0 row1\" >ridge</th>\n",
       "      <td id=\"T_42238_row1_col0\" class=\"data row1 col0\" >Ridge Regression</td>\n",
       "      <td id=\"T_42238_row1_col1\" class=\"data row1 col1\" >213.5875</td>\n",
       "      <td id=\"T_42238_row1_col2\" class=\"data row1 col2\" >699116.7326</td>\n",
       "      <td id=\"T_42238_row1_col3\" class=\"data row1 col3\" >782.9261</td>\n",
       "      <td id=\"T_42238_row1_col4\" class=\"data row1 col4\" >0.6159</td>\n",
       "      <td id=\"T_42238_row1_col5\" class=\"data row1 col5\" >0.2600</td>\n",
       "      <td id=\"T_42238_row1_col6\" class=\"data row1 col6\" >0.1167</td>\n",
       "      <td id=\"T_42238_row1_col7\" class=\"data row1 col7\" >6.0890</td>\n",
       "    </tr>\n",
       "    <tr>\n",
       "      <th id=\"T_42238_level0_row2\" class=\"row_heading level0 row2\" >lasso</th>\n",
       "      <td id=\"T_42238_row2_col0\" class=\"data row2 col0\" >Lasso Regression</td>\n",
       "      <td id=\"T_42238_row2_col1\" class=\"data row2 col1\" >211.6027</td>\n",
       "      <td id=\"T_42238_row2_col2\" class=\"data row2 col2\" >700385.3109</td>\n",
       "      <td id=\"T_42238_row2_col3\" class=\"data row2 col3\" >782.8104</td>\n",
       "      <td id=\"T_42238_row2_col4\" class=\"data row2 col4\" >0.6150</td>\n",
       "      <td id=\"T_42238_row2_col5\" class=\"data row2 col5\" >0.2588</td>\n",
       "      <td id=\"T_42238_row2_col6\" class=\"data row2 col6\" >0.1153</td>\n",
       "      <td id=\"T_42238_row2_col7\" class=\"data row2 col7\" >22.0090</td>\n",
       "    </tr>\n",
       "    <tr>\n",
       "      <th id=\"T_42238_level0_row3\" class=\"row_heading level0 row3\" >ada</th>\n",
       "      <td id=\"T_42238_row3_col0\" class=\"data row3 col0\" >AdaBoost Regressor</td>\n",
       "      <td id=\"T_42238_row3_col1\" class=\"data row3 col1\" >1437.9593</td>\n",
       "      <td id=\"T_42238_row3_col2\" class=\"data row3 col2\" >3549778.5006</td>\n",
       "      <td id=\"T_42238_row3_col3\" class=\"data row3 col3\" >1768.3613</td>\n",
       "      <td id=\"T_42238_row3_col4\" class=\"data row3 col4\" >-0.8286</td>\n",
       "      <td id=\"T_42238_row3_col5\" class=\"data row3 col5\" >0.7844</td>\n",
       "      <td id=\"T_42238_row3_col6\" class=\"data row3 col6\" >1.1308</td>\n",
       "      <td id=\"T_42238_row3_col7\" class=\"data row3 col7\" >81.9460</td>\n",
       "    </tr>\n",
       "  </tbody>\n",
       "</table>\n"
      ],
      "text/plain": [
       "<pandas.io.formats.style.Styler at 0x7a23ac92da50>"
      ]
     },
     "metadata": {},
     "output_type": "display_data"
    },
    {
     "data": {
      "application/vnd.jupyter.widget-view+json": {
       "model_id": "16a16d36a00048739a7bd92a29f75138",
       "version_major": 2,
       "version_minor": 0
      },
      "text/plain": [
       "Processing:   0%|          | 0/21 [00:00<?, ?it/s]"
      ]
     },
     "metadata": {
      "application/vnd.jupyter.widget-view+json": {
       "colab": {
        "custom_widget_manager": {
         "url": "https://ssl.gstatic.com/colaboratory-static/widgets/colab-cdn-widget-manager/b3e629b1971e1542/manager.min.js"
        }
       }
      }
     },
     "output_type": "display_data"
    },
    {
     "data": {
      "text/html": [],
      "text/plain": [
       "<IPython.core.display.HTML object>"
      ]
     },
     "metadata": {},
     "output_type": "display_data"
    }
   ],
   "source": [
    "from pycaret.regression import compare_models\n",
    "\n",
    "# Specify regression models to compare\n",
    "regression_models = ['ridge', 'lasso', 'ada', 'gbr']\n",
    "\n",
    "# Compare specified regression models\n",
    "automl_models = compare_models(include=regression_models)\n"
   ]
  },
  {
   "cell_type": "code",
   "execution_count": 54,
   "metadata": {
    "colab": {
     "base_uri": "https://localhost:8080/",
     "height": 407
    },
    "id": "zDPtraovCaMh",
    "outputId": "fe7eea6c-4bed-49f1-f6c0-7eee35b81201"
   },
   "outputs": [
    {
     "data": {
      "image/png": "[encoded data removed]",
      "text/plain": [
       "<Figure size 1000x400 with 2 Axes>"
      ]
     },
     "metadata": {},
     "output_type": "display_data"
    }
   ],
   "source": [
    "import matplotlib.pyplot as plt\n",
    "import seaborn as sns\n",
    "\n",
    "# Data for manual models\n",
    "manual_models = {\n",
    "    'Ridge': {'RMSE': 627.9980807548442, 'R2_SCORE': 0.7653874591125194},\n",
    "    'Lasso': {'RMSE': 626.9316377099997, 'R2_SCORE': 0.7661836031746418},\n",
    "    'AdaBoost': {'RMSE': 1756.4951594999998, 'R2_SCORE': -0.8353906065722194},\n",
    "    'GradientBoost': {'RMSE': 458.21748159116356, 'R2_SCORE': 0.8750955537888433}\n",
    "}\n",
    "\n",
    "# Data for AutoML models\n",
    "automl_models = {\n",
    "    'gbr': {'RMSE': 559.7858, 'R2_SCORE': 0.8252},\n",
    "    'ridge': {'RMSE': 782.9261, 'R2_SCORE': 0.6159},\n",
    "    'lasso': {'RMSE': 782.8104, 'R2_SCORE': 0.6150},\n",
    "    'ada': {'RMSE': 1768.3613, 'R2_SCORE': -0.8286}\n",
    "}\n",
    "\n",
    "# Convert data to pandas DataFrame for easier plotting\n",
    "import pandas as pd\n",
    "\n",
    "manual_df = pd.DataFrame(manual_models).T\n",
    "automl_df = pd.DataFrame(automl_models).T\n",
    "\n",
    "# Plotting\n",
    "plt.figure(figsize=(10, 4))\n",
    "\n",
    "# RMSE Comparison\n",
    "plt.subplot(1, 2, 1)\n",
    "sns.barplot(x=manual_df.index, y=manual_df['RMSE'], color='blue', label='Manual Models')\n",
    "sns.barplot(x=automl_df.index, y=automl_df['RMSE'], color='orange', label='AutoML Models')\n",
    "plt.title('RMSE Comparison')\n",
    "plt.ylabel('RMSE')\n",
    "plt.legend()\n",
    "\n",
    "# R2 Score Comparison\n",
    "plt.subplot(1, 2, 2)\n",
    "sns.barplot(x=manual_df.index, y=manual_df['R2_SCORE'], color='blue', label='Manual Models')\n",
    "sns.barplot(x=automl_df.index, y=automl_df['R2_SCORE'], color='orange', label='AutoML Models')\n",
    "plt.title('R2 Score Comparison')\n",
    "plt.ylabel('R2 Score')\n",
    "plt.legend()\n",
    "\n",
    "plt.tight_layout()\n",
    "plt.show()\n"
   ]
  },
  {
   "cell_type": "markdown",
   "metadata": {
    "id": "FywP5L3IDkGr"
   },
   "source": [
    "## Conclusion:\n",
    "\n",
    "The AutoML Gradient Boosting Regressor appears to be the best choice, providing a good balance of accuracy and efficiency.\n",
    "If interpretability or computational efficiency is crucial, Ridge or Lasso Regression could be considered.\n",
    "AdaBoost Regressor, both manual and AutoML, shows comparatively poorer performance in this context."
   ]
  },
  {
   "cell_type": "markdown",
   "metadata": {
    "id": "SOu_-NYMlopb"
   },
   "source": [
    "\n",
    "## Q3.2"
   ]
  },
  {
   "cell_type": "code",
   "execution_count": 40,
   "metadata": {
    "colab": {
     "base_uri": "https://localhost:8080/",
     "height": 982
    },
    "id": "qBALNX2ujeRP",
    "outputId": "35f1c602-e03d-4c57-8a0e-697cedbb6e26"
   },
   "outputs": [
    {
     "name": "stderr",
     "output_type": "stream",
     "text": [
      "Exception ignored on calling ctypes callback function: <function ThreadpoolController._find_libraries_with_dl_iterate_phdr.<locals>.match_library_callback at 0x7a232c7d00d0>\n",
      "Traceback (most recent call last):\n",
      "  File \"/usr/local/lib/python3.10/dist-packages/threadpoolctl.py\", line 847, in match_library_callback\n",
      "    self._make_controller_from_path(filepath)\n",
      "  File \"/usr/local/lib/python3.10/dist-packages/threadpoolctl.py\", line 984, in _make_controller_from_path\n",
      "    lib_controller = controller_class(filepath=filepath, prefix=prefix)\n",
      "  File \"/usr/local/lib/python3.10/dist-packages/threadpoolctl.py\", line 111, in __init__\n",
      "    self.dynlib = ctypes.CDLL(filepath, mode=_RTLD_NOLOAD)\n",
      "  File \"/usr/lib/python3.10/ctypes/__init__.py\", line 374, in __init__\n",
      "    self._handle = _dlopen(self._name, mode)\n",
      "OSError: /usr/local/lib/python3.10/dist-packages/scipy.libs/libopenblasp-r0-23e5df77.3.21.dev.so: cannot open shared object file: No such file or directory\n"
     ]
    },
    {
     "data": {
      "text/html": [
       "<style type=\"text/css\">\n",
       "#T_8896c_row8_col1, #T_8896c_row12_col1, #T_8896c_row14_col1 {\n",
       "  background-color: lightgreen;\n",
       "}\n",
       "</style>\n",
       "<table id=\"T_8896c\" class=\"dataframe\">\n",
       "  <thead>\n",
       "    <tr>\n",
       "      <th class=\"blank level0\" >&nbsp;</th>\n",
       "      <th id=\"T_8896c_level0_col0\" class=\"col_heading level0 col0\" >Description</th>\n",
       "      <th id=\"T_8896c_level0_col1\" class=\"col_heading level0 col1\" >Value</th>\n",
       "    </tr>\n",
       "  </thead>\n",
       "  <tbody>\n",
       "    <tr>\n",
       "      <th id=\"T_8896c_level0_row0\" class=\"row_heading level0 row0\" >0</th>\n",
       "      <td id=\"T_8896c_row0_col0\" class=\"data row0 col0\" >Session id</td>\n",
       "      <td id=\"T_8896c_row0_col1\" class=\"data row0 col1\" >123</td>\n",
       "    </tr>\n",
       "    <tr>\n",
       "      <th id=\"T_8896c_level0_row1\" class=\"row_heading level0 row1\" >1</th>\n",
       "      <td id=\"T_8896c_row1_col0\" class=\"data row1 col0\" >Target</td>\n",
       "      <td id=\"T_8896c_row1_col1\" class=\"data row1 col1\" >CCAO adjustment indicator</td>\n",
       "    </tr>\n",
       "    <tr>\n",
       "      <th id=\"T_8896c_level0_row2\" class=\"row_heading level0 row2\" >2</th>\n",
       "      <td id=\"T_8896c_row2_col0\" class=\"data row2 col0\" >Target type</td>\n",
       "      <td id=\"T_8896c_row2_col1\" class=\"data row2 col1\" >Binary</td>\n",
       "    </tr>\n",
       "    <tr>\n",
       "      <th id=\"T_8896c_level0_row3\" class=\"row_heading level0 row3\" >3</th>\n",
       "      <td id=\"T_8896c_row3_col0\" class=\"data row3 col0\" >Original data shape</td>\n",
       "      <td id=\"T_8896c_row3_col1\" class=\"data row3 col1\" >(201092, 128)</td>\n",
       "    </tr>\n",
       "    <tr>\n",
       "      <th id=\"T_8896c_level0_row4\" class=\"row_heading level0 row4\" >4</th>\n",
       "      <td id=\"T_8896c_row4_col0\" class=\"data row4 col0\" >Transformed data shape</td>\n",
       "      <td id=\"T_8896c_row4_col1\" class=\"data row4 col1\" >(339684, 128)</td>\n",
       "    </tr>\n",
       "    <tr>\n",
       "      <th id=\"T_8896c_level0_row5\" class=\"row_heading level0 row5\" >5</th>\n",
       "      <td id=\"T_8896c_row5_col0\" class=\"data row5 col0\" >Transformed train set shape</td>\n",
       "      <td id=\"T_8896c_row5_col1\" class=\"data row5 col1\" >(279356, 128)</td>\n",
       "    </tr>\n",
       "    <tr>\n",
       "      <th id=\"T_8896c_level0_row6\" class=\"row_heading level0 row6\" >6</th>\n",
       "      <td id=\"T_8896c_row6_col0\" class=\"data row6 col0\" >Transformed test set shape</td>\n",
       "      <td id=\"T_8896c_row6_col1\" class=\"data row6 col1\" >(60328, 128)</td>\n",
       "    </tr>\n",
       "    <tr>\n",
       "      <th id=\"T_8896c_level0_row7\" class=\"row_heading level0 row7\" >7</th>\n",
       "      <td id=\"T_8896c_row7_col0\" class=\"data row7 col0\" >Numeric features</td>\n",
       "      <td id=\"T_8896c_row7_col1\" class=\"data row7 col1\" >126</td>\n",
       "    </tr>\n",
       "    <tr>\n",
       "      <th id=\"T_8896c_level0_row8\" class=\"row_heading level0 row8\" >8</th>\n",
       "      <td id=\"T_8896c_row8_col0\" class=\"data row8 col0\" >Preprocess</td>\n",
       "      <td id=\"T_8896c_row8_col1\" class=\"data row8 col1\" >True</td>\n",
       "    </tr>\n",
       "    <tr>\n",
       "      <th id=\"T_8896c_level0_row9\" class=\"row_heading level0 row9\" >9</th>\n",
       "      <td id=\"T_8896c_row9_col0\" class=\"data row9 col0\" >Imputation type</td>\n",
       "      <td id=\"T_8896c_row9_col1\" class=\"data row9 col1\" >simple</td>\n",
       "    </tr>\n",
       "    <tr>\n",
       "      <th id=\"T_8896c_level0_row10\" class=\"row_heading level0 row10\" >10</th>\n",
       "      <td id=\"T_8896c_row10_col0\" class=\"data row10 col0\" >Numeric imputation</td>\n",
       "      <td id=\"T_8896c_row10_col1\" class=\"data row10 col1\" >mean</td>\n",
       "    </tr>\n",
       "    <tr>\n",
       "      <th id=\"T_8896c_level0_row11\" class=\"row_heading level0 row11\" >11</th>\n",
       "      <td id=\"T_8896c_row11_col0\" class=\"data row11 col0\" >Categorical imputation</td>\n",
       "      <td id=\"T_8896c_row11_col1\" class=\"data row11 col1\" >mode</td>\n",
       "    </tr>\n",
       "    <tr>\n",
       "      <th id=\"T_8896c_level0_row12\" class=\"row_heading level0 row12\" >12</th>\n",
       "      <td id=\"T_8896c_row12_col0\" class=\"data row12 col0\" >Fix imbalance</td>\n",
       "      <td id=\"T_8896c_row12_col1\" class=\"data row12 col1\" >True</td>\n",
       "    </tr>\n",
       "    <tr>\n",
       "      <th id=\"T_8896c_level0_row13\" class=\"row_heading level0 row13\" >13</th>\n",
       "      <td id=\"T_8896c_row13_col0\" class=\"data row13 col0\" >Fix imbalance method</td>\n",
       "      <td id=\"T_8896c_row13_col1\" class=\"data row13 col1\" >SMOTE</td>\n",
       "    </tr>\n",
       "    <tr>\n",
       "      <th id=\"T_8896c_level0_row14\" class=\"row_heading level0 row14\" >14</th>\n",
       "      <td id=\"T_8896c_row14_col0\" class=\"data row14 col0\" >Normalize</td>\n",
       "      <td id=\"T_8896c_row14_col1\" class=\"data row14 col1\" >True</td>\n",
       "    </tr>\n",
       "    <tr>\n",
       "      <th id=\"T_8896c_level0_row15\" class=\"row_heading level0 row15\" >15</th>\n",
       "      <td id=\"T_8896c_row15_col0\" class=\"data row15 col0\" >Normalize method</td>\n",
       "      <td id=\"T_8896c_row15_col1\" class=\"data row15 col1\" >zscore</td>\n",
       "    </tr>\n",
       "    <tr>\n",
       "      <th id=\"T_8896c_level0_row16\" class=\"row_heading level0 row16\" >16</th>\n",
       "      <td id=\"T_8896c_row16_col0\" class=\"data row16 col0\" >Fold Generator</td>\n",
       "      <td id=\"T_8896c_row16_col1\" class=\"data row16 col1\" >StratifiedKFold</td>\n",
       "    </tr>\n",
       "    <tr>\n",
       "      <th id=\"T_8896c_level0_row17\" class=\"row_heading level0 row17\" >17</th>\n",
       "      <td id=\"T_8896c_row17_col0\" class=\"data row17 col0\" >Fold Number</td>\n",
       "      <td id=\"T_8896c_row17_col1\" class=\"data row17 col1\" >10</td>\n",
       "    </tr>\n",
       "    <tr>\n",
       "      <th id=\"T_8896c_level0_row18\" class=\"row_heading level0 row18\" >18</th>\n",
       "      <td id=\"T_8896c_row18_col0\" class=\"data row18 col0\" >CPU Jobs</td>\n",
       "      <td id=\"T_8896c_row18_col1\" class=\"data row18 col1\" >-1</td>\n",
       "    </tr>\n",
       "    <tr>\n",
       "      <th id=\"T_8896c_level0_row19\" class=\"row_heading level0 row19\" >19</th>\n",
       "      <td id=\"T_8896c_row19_col0\" class=\"data row19 col0\" >Use GPU</td>\n",
       "      <td id=\"T_8896c_row19_col1\" class=\"data row19 col1\" >False</td>\n",
       "    </tr>\n",
       "    <tr>\n",
       "      <th id=\"T_8896c_level0_row20\" class=\"row_heading level0 row20\" >20</th>\n",
       "      <td id=\"T_8896c_row20_col0\" class=\"data row20 col0\" >Log Experiment</td>\n",
       "      <td id=\"T_8896c_row20_col1\" class=\"data row20 col1\" >False</td>\n",
       "    </tr>\n",
       "    <tr>\n",
       "      <th id=\"T_8896c_level0_row21\" class=\"row_heading level0 row21\" >21</th>\n",
       "      <td id=\"T_8896c_row21_col0\" class=\"data row21 col0\" >Experiment Name</td>\n",
       "      <td id=\"T_8896c_row21_col1\" class=\"data row21 col1\" >clf-default-name</td>\n",
       "    </tr>\n",
       "    <tr>\n",
       "      <th id=\"T_8896c_level0_row22\" class=\"row_heading level0 row22\" >22</th>\n",
       "      <td id=\"T_8896c_row22_col0\" class=\"data row22 col0\" >USI</td>\n",
       "      <td id=\"T_8896c_row22_col1\" class=\"data row22 col1\" >2120</td>\n",
       "    </tr>\n",
       "  </tbody>\n",
       "</table>\n"
      ],
      "text/plain": [
       "<pandas.io.formats.style.Styler at 0x7a23ac38c7f0>"
      ]
     },
     "metadata": {},
     "output_type": "display_data"
    }
   ],
   "source": [
    "from pycaret.classification import *\n",
    "\n",
    "# Combine features and target variable into a single DataFrame\n",
    "data = pd.concat([x, y], axis=1)\n",
    "\n",
    "# Set up PyCaret\n",
    "exp1 = setup(data, target='CCAO adjustment indicator', session_id=123, normalize=True, fix_imbalance=True)\n",
    "\n"
   ]
  },
  {
   "cell_type": "code",
   "execution_count": 52,
   "metadata": {
    "colab": {
     "base_uri": "https://localhost:8080/",
     "height": 393,
     "referenced_widgets": [
      "5505a442a0ee4ead84c8330607641449",
      "9ee7f88808054c81b9a28d43029405bc",
      "a0cca176098149b68bb8bdfd2193bb10",
      "1c9f9f3be6c74af9b290d36a1009f1ac",
      "56bf5b39547148088d78cba16c6274e1",
      "4996f87f7f58493c8e01310b37e8fb58",
      "fd543a06b213412987ae4605dfed9cbd",
      "e752fd84ab7c4f55810b253c29852333",
      "d5ebccc5e9e44943a44099d69018bba1",
      "d0061c519a3149a781fc7330f171cfe2",
      "3ba198e3f2e1409e8f877151f30665e8"
     ]
    },
    "id": "pH6KHbm22l16",
    "outputId": "d4aafe19-eaa9-4f51-a50e-8ed58d1e4493"
   },
   "outputs": [
    {
     "data": {
      "text/html": [
       "\n",
       "  <div id=\"df-281ffe95-6671-4174-84da-d836ffb67d8c\" class=\"colab-df-container\">\n",
       "    <div>\n",
       "<style scoped>\n",
       "    .dataframe tbody tr th:only-of-type {\n",
       "        vertical-align: middle;\n",
       "    }\n",
       "\n",
       "    .dataframe tbody tr th {\n",
       "        vertical-align: top;\n",
       "    }\n",
       "\n",
       "    .dataframe thead th {\n",
       "        text-align: right;\n",
       "    }\n",
       "</style>\n",
       "<table border=\"1\" class=\"dataframe\">\n",
       "  <thead>\n",
       "    <tr style=\"text-align: right;\">\n",
       "      <th></th>\n",
       "      <th></th>\n",
       "      <th></th>\n",
       "    </tr>\n",
       "    <tr>\n",
       "      <th></th>\n",
       "      <th></th>\n",
       "      <th></th>\n",
       "    </tr>\n",
       "  </thead>\n",
       "  <tbody>\n",
       "    <tr>\n",
       "      <th>Initiated</th>\n",
       "      <td>. . . . . . . . . . . . . . . . . .</td>\n",
       "      <td>07:36:26</td>\n",
       "    </tr>\n",
       "    <tr>\n",
       "      <th>Status</th>\n",
       "      <td>. . . . . . . . . . . . . . . . . .</td>\n",
       "      <td>Fitting 10 Folds</td>\n",
       "    </tr>\n",
       "    <tr>\n",
       "      <th>Estimator</th>\n",
       "      <td>. . . . . . . . . . . . . . . . . .</td>\n",
       "      <td>Random Forest Classifier</td>\n",
       "    </tr>\n",
       "  </tbody>\n",
       "</table>\n",
       "</div>\n",
       "    <div class=\"colab-df-buttons\">\n",
       "\n",
       "  <div class=\"colab-df-container\">\n",
       "    <button class=\"colab-df-convert\" onclick=\"convertToInteractive('df-281ffe95-6671-4174-84da-d836ffb67d8c')\"\n",
       "            title=\"Convert this dataframe to an interactive table.\"\n",
       "            style=\"display:none;\">\n",
       "\n",
       "  <svg xmlns=\"http://www.w3.org/2000/svg\" height=\"24px\" viewBox=\"0 -960 960 960\">\n",
       "    <path d=\"M120-120v-720h720v720H120Zm60-500h600v-160H180v160Zm220 220h160v-160H400v160Zm0 220h160v-160H400v160ZM180-400h160v-160H180v160Zm440 0h160v-160H620v160ZM180-180h160v-160H180v160Zm440 0h160v-160H620v160Z\"/>\n",
       "  </svg>\n",
       "    </button>\n",
       "\n",
       "  <style>\n",
       "    .colab-df-container {\n",
       "      display:flex;\n",
       "      gap: 12px;\n",
       "    }\n",
       "\n",
       "    .colab-df-convert {\n",
       "      background-color: #E8F0FE;\n",
       "      border: none;\n",
       "      border-radius: 50%;\n",
       "      cursor: pointer;\n",
       "      display: none;\n",
       "      fill: #1967D2;\n",
       "      height: 32px;\n",
       "      padding: 0 0 0 0;\n",
       "      width: 32px;\n",
       "    }\n",
       "\n",
       "    .colab-df-convert:hover {\n",
       "      background-color: #E2EBFA;\n",
       "      box-shadow: 0px 1px 2px rgba(60, 64, 67, 0.3), 0px 1px 3px 1px rgba(60, 64, 67, 0.15);\n",
       "      fill: #174EA6;\n",
       "    }\n",
       "\n",
       "    .colab-df-buttons div {\n",
       "      margin-bottom: 4px;\n",
       "    }\n",
       "\n",
       "    [theme=dark] .colab-df-convert {\n",
       "      background-color: #3B4455;\n",
       "      fill: #D2E3FC;\n",
       "    }\n",
       "\n",
       "    [theme=dark] .colab-df-convert:hover {\n",
       "      background-color: #434B5C;\n",
       "      box-shadow: 0px 1px 3px 1px rgba(0, 0, 0, 0.15);\n",
       "      filter: drop-shadow(0px 1px 2px rgba(0, 0, 0, 0.3));\n",
       "      fill: #FFFFFF;\n",
       "    }\n",
       "  </style>\n",
       "\n",
       "    <script>\n",
       "      const buttonEl =\n",
       "        document.querySelector('#df-281ffe95-6671-4174-84da-d836ffb67d8c button.colab-df-convert');\n",
       "      buttonEl.style.display =\n",
       "        google.colab.kernel.accessAllowed ? 'block' : 'none';\n",
       "\n",
       "      async function convertToInteractive(key) {\n",
       "        const element = document.querySelector('#df-281ffe95-6671-4174-84da-d836ffb67d8c');\n",
       "        const dataTable =\n",
       "          await google.colab.kernel.invokeFunction('convertToInteractive',\n",
       "                                                    [key], {});\n",
       "        if (!dataTable) return;\n",
       "\n",
       "        const docLinkHtml = 'Like what you see? Visit the ' +\n",
       "          '<a target=\"_blank\" href=https://colab.research.google.com/notebooks/data_table.ipynb>data table notebook</a>'\n",
       "          + ' to learn more about interactive tables.';\n",
       "        element.innerHTML = '';\n",
       "        dataTable['output_type'] = 'display_data';\n",
       "        await google.colab.output.renderOutput(dataTable, element);\n",
       "        const docLink = document.createElement('div');\n",
       "        docLink.innerHTML = docLinkHtml;\n",
       "        element.appendChild(docLink);\n",
       "      }\n",
       "    </script>\n",
       "  </div>\n",
       "\n",
       "\n",
       "<div id=\"df-f2e2c6e8-fef8-4225-8e27-abda2561edc6\">\n",
       "  <button class=\"colab-df-quickchart\" onclick=\"quickchart('df-f2e2c6e8-fef8-4225-8e27-abda2561edc6')\"\n",
       "            title=\"Suggest charts\"\n",
       "            style=\"display:none;\">\n",
       "\n",
       "<svg xmlns=\"http://www.w3.org/2000/svg\" height=\"24px\"viewBox=\"0 0 24 24\"\n",
       "     width=\"24px\">\n",
       "    <g>\n",
       "        <path d=\"M19 3H5c-1.1 0-2 .9-2 2v14c0 1.1.9 2 2 2h14c1.1 0 2-.9 2-2V5c0-1.1-.9-2-2-2zM9 17H7v-7h2v7zm4 0h-2V7h2v10zm4 0h-2v-4h2v4z\"/>\n",
       "    </g>\n",
       "</svg>\n",
       "  </button>\n",
       "\n",
       "<style>\n",
       "  .colab-df-quickchart {\n",
       "      --bg-color: #E8F0FE;\n",
       "      --fill-color: #1967D2;\n",
       "      --hover-bg-color: #E2EBFA;\n",
       "      --hover-fill-color: #174EA6;\n",
       "      --disabled-fill-color: #AAA;\n",
       "      --disabled-bg-color: #DDD;\n",
       "  }\n",
       "\n",
       "  [theme=dark] .colab-df-quickchart {\n",
       "      --bg-color: #3B4455;\n",
       "      --fill-color: #D2E3FC;\n",
       "      --hover-bg-color: #434B5C;\n",
       "      --hover-fill-color: #FFFFFF;\n",
       "      --disabled-bg-color: #3B4455;\n",
       "      --disabled-fill-color: #666;\n",
       "  }\n",
       "\n",
       "  .colab-df-quickchart {\n",
       "    background-color: var(--bg-color);\n",
       "    border: none;\n",
       "    border-radius: 50%;\n",
       "    cursor: pointer;\n",
       "    display: none;\n",
       "    fill: var(--fill-color);\n",
       "    height: 32px;\n",
       "    padding: 0;\n",
       "    width: 32px;\n",
       "  }\n",
       "\n",
       "  .colab-df-quickchart:hover {\n",
       "    background-color: var(--hover-bg-color);\n",
       "    box-shadow: 0 1px 2px rgba(60, 64, 67, 0.3), 0 1px 3px 1px rgba(60, 64, 67, 0.15);\n",
       "    fill: var(--button-hover-fill-color);\n",
       "  }\n",
       "\n",
       "  .colab-df-quickchart-complete:disabled,\n",
       "  .colab-df-quickchart-complete:disabled:hover {\n",
       "    background-color: var(--disabled-bg-color);\n",
       "    fill: var(--disabled-fill-color);\n",
       "    box-shadow: none;\n",
       "  }\n",
       "\n",
       "  .colab-df-spinner {\n",
       "    border: 2px solid var(--fill-color);\n",
       "    border-color: transparent;\n",
       "    border-bottom-color: var(--fill-color);\n",
       "    animation:\n",
       "      spin 1s steps(1) infinite;\n",
       "  }\n",
       "\n",
       "  @keyframes spin {\n",
       "    0% {\n",
       "      border-color: transparent;\n",
       "      border-bottom-color: var(--fill-color);\n",
       "      border-left-color: var(--fill-color);\n",
       "    }\n",
       "    20% {\n",
       "      border-color: transparent;\n",
       "      border-left-color: var(--fill-color);\n",
       "      border-top-color: var(--fill-color);\n",
       "    }\n",
       "    30% {\n",
       "      border-color: transparent;\n",
       "      border-left-color: var(--fill-color);\n",
       "      border-top-color: var(--fill-color);\n",
       "      border-right-color: var(--fill-color);\n",
       "    }\n",
       "    40% {\n",
       "      border-color: transparent;\n",
       "      border-right-color: var(--fill-color);\n",
       "      border-top-color: var(--fill-color);\n",
       "    }\n",
       "    60% {\n",
       "      border-color: transparent;\n",
       "      border-right-color: var(--fill-color);\n",
       "    }\n",
       "    80% {\n",
       "      border-color: transparent;\n",
       "      border-right-color: var(--fill-color);\n",
       "      border-bottom-color: var(--fill-color);\n",
       "    }\n",
       "    90% {\n",
       "      border-color: transparent;\n",
       "      border-bottom-color: var(--fill-color);\n",
       "    }\n",
       "  }\n",
       "</style>\n",
       "\n",
       "  <script>\n",
       "    async function quickchart(key) {\n",
       "      const quickchartButtonEl =\n",
       "        document.querySelector('#' + key + ' button');\n",
       "      quickchartButtonEl.disabled = true;  // To prevent multiple clicks.\n",
       "      quickchartButtonEl.classList.add('colab-df-spinner');\n",
       "      try {\n",
       "        const charts = await google.colab.kernel.invokeFunction(\n",
       "            'suggestCharts', [key], {});\n",
       "      } catch (error) {\n",
       "        console.error('Error during call to suggestCharts:', error);\n",
       "      }\n",
       "      quickchartButtonEl.classList.remove('colab-df-spinner');\n",
       "      quickchartButtonEl.classList.add('colab-df-quickchart-complete');\n",
       "    }\n",
       "    (() => {\n",
       "      let quickchartButtonEl =\n",
       "        document.querySelector('#df-f2e2c6e8-fef8-4225-8e27-abda2561edc6 button');\n",
       "      quickchartButtonEl.style.display =\n",
       "        google.colab.kernel.accessAllowed ? 'block' : 'none';\n",
       "    })();\n",
       "  </script>\n",
       "</div>\n",
       "\n",
       "    </div>\n",
       "  </div>\n"
      ],
      "text/plain": [
       "                                                                        \n",
       "                                                                        \n",
       "Initiated  . . . . . . . . . . . . . . . . . .                  07:36:26\n",
       "Status     . . . . . . . . . . . . . . . . . .          Fitting 10 Folds\n",
       "Estimator  . . . . . . . . . . . . . . . . . .  Random Forest Classifier"
      ]
     },
     "metadata": {},
     "output_type": "display_data"
    },
    {
     "data": {
      "text/html": [
       "<style type=\"text/css\">\n",
       "#T_17610 th {\n",
       "  text-align: left;\n",
       "}\n",
       "#T_17610_row0_col0, #T_17610_row0_col1, #T_17610_row0_col2, #T_17610_row0_col3, #T_17610_row0_col4, #T_17610_row0_col5, #T_17610_row0_col6, #T_17610_row0_col7, #T_17610_row0_col8, #T_17610_row1_col0, #T_17610_row1_col1, #T_17610_row1_col2, #T_17610_row1_col3, #T_17610_row1_col4, #T_17610_row1_col5, #T_17610_row1_col6, #T_17610_row1_col7, #T_17610_row1_col8 {\n",
       "  text-align: left;\n",
       "}\n",
       "</style>\n",
       "<table id=\"T_17610\" class=\"dataframe\">\n",
       "  <thead>\n",
       "    <tr>\n",
       "      <th class=\"blank level0\" >&nbsp;</th>\n",
       "      <th id=\"T_17610_level0_col0\" class=\"col_heading level0 col0\" >Model</th>\n",
       "      <th id=\"T_17610_level0_col1\" class=\"col_heading level0 col1\" >Accuracy</th>\n",
       "      <th id=\"T_17610_level0_col2\" class=\"col_heading level0 col2\" >AUC</th>\n",
       "      <th id=\"T_17610_level0_col3\" class=\"col_heading level0 col3\" >Recall</th>\n",
       "      <th id=\"T_17610_level0_col4\" class=\"col_heading level0 col4\" >Prec.</th>\n",
       "      <th id=\"T_17610_level0_col5\" class=\"col_heading level0 col5\" >F1</th>\n",
       "      <th id=\"T_17610_level0_col6\" class=\"col_heading level0 col6\" >Kappa</th>\n",
       "      <th id=\"T_17610_level0_col7\" class=\"col_heading level0 col7\" >MCC</th>\n",
       "      <th id=\"T_17610_level0_col8\" class=\"col_heading level0 col8\" >TT (Sec)</th>\n",
       "    </tr>\n",
       "  </thead>\n",
       "  <tbody>\n",
       "    <tr>\n",
       "      <th id=\"T_17610_level0_row0\" class=\"row_heading level0 row0\" >dt</th>\n",
       "      <td id=\"T_17610_row0_col0\" class=\"data row0 col0\" >Decision Tree Classifier</td>\n",
       "      <td id=\"T_17610_row0_col1\" class=\"data row0 col1\" >0.9955</td>\n",
       "      <td id=\"T_17610_row0_col2\" class=\"data row0 col2\" >0.9041</td>\n",
       "      <td id=\"T_17610_row0_col3\" class=\"data row0 col3\" >0.8113</td>\n",
       "      <td id=\"T_17610_row0_col4\" class=\"data row0 col4\" >0.6741</td>\n",
       "      <td id=\"T_17610_row0_col5\" class=\"data row0 col5\" >0.7359</td>\n",
       "      <td id=\"T_17610_row0_col6\" class=\"data row0 col6\" >0.7336</td>\n",
       "      <td id=\"T_17610_row0_col7\" class=\"data row0 col7\" >0.7371</td>\n",
       "      <td id=\"T_17610_row0_col8\" class=\"data row0 col8\" >18.8780</td>\n",
       "    </tr>\n",
       "    <tr>\n",
       "      <th id=\"T_17610_level0_row1\" class=\"row_heading level0 row1\" >lr</th>\n",
       "      <td id=\"T_17610_row1_col0\" class=\"data row1 col0\" >Logistic Regression</td>\n",
       "      <td id=\"T_17610_row1_col1\" class=\"data row1 col1\" >0.9825</td>\n",
       "      <td id=\"T_17610_row1_col2\" class=\"data row1 col2\" >0.9722</td>\n",
       "      <td id=\"T_17610_row1_col3\" class=\"data row1 col3\" >0.8932</td>\n",
       "      <td id=\"T_17610_row1_col4\" class=\"data row1 col4\" >0.2924</td>\n",
       "      <td id=\"T_17610_row1_col5\" class=\"data row1 col5\" >0.4404</td>\n",
       "      <td id=\"T_17610_row1_col6\" class=\"data row1 col6\" >0.4339</td>\n",
       "      <td id=\"T_17610_row1_col7\" class=\"data row1 col7\" >0.5054</td>\n",
       "      <td id=\"T_17610_row1_col8\" class=\"data row1 col8\" >49.6550</td>\n",
       "    </tr>\n",
       "  </tbody>\n",
       "</table>\n"
      ],
      "text/plain": [
       "<pandas.io.formats.style.Styler at 0x7a23ba5f92d0>"
      ]
     },
     "metadata": {},
     "output_type": "display_data"
    },
    {
     "data": {
      "application/vnd.jupyter.widget-view+json": {
       "model_id": "5505a442a0ee4ead84c8330607641449",
       "version_major": 2,
       "version_minor": 0
      },
      "text/plain": [
       "Processing:   0%|          | 0/21 [00:00<?, ?it/s]"
      ]
     },
     "metadata": {
      "application/vnd.jupyter.widget-view+json": {
       "colab": {
        "custom_widget_manager": {
         "url": "https://ssl.gstatic.com/colaboratory-static/widgets/colab-cdn-widget-manager/b3e629b1971e1542/manager.min.js"
        }
       }
      }
     },
     "output_type": "display_data"
    },
    {
     "data": {
      "text/html": [
       "<style type=\"text/css\">\n",
       "#T_7eb0b th {\n",
       "  text-align: left;\n",
       "}\n",
       "#T_7eb0b_row0_col0, #T_7eb0b_row0_col2, #T_7eb0b_row0_col3, #T_7eb0b_row0_col4, #T_7eb0b_row1_col0, #T_7eb0b_row1_col1, #T_7eb0b_row1_col3, #T_7eb0b_row1_col5, #T_7eb0b_row1_col6, #T_7eb0b_row1_col7, #T_7eb0b_row2_col0, #T_7eb0b_row2_col1, #T_7eb0b_row2_col2, #T_7eb0b_row2_col3, #T_7eb0b_row2_col4, #T_7eb0b_row2_col5, #T_7eb0b_row2_col6, #T_7eb0b_row2_col7, #T_7eb0b_row3_col0, #T_7eb0b_row3_col1, #T_7eb0b_row3_col2, #T_7eb0b_row3_col4, #T_7eb0b_row3_col5, #T_7eb0b_row3_col6, #T_7eb0b_row3_col7 {\n",
       "  text-align: left;\n",
       "}\n",
       "#T_7eb0b_row0_col1, #T_7eb0b_row0_col5, #T_7eb0b_row0_col6, #T_7eb0b_row0_col7, #T_7eb0b_row1_col2, #T_7eb0b_row1_col4, #T_7eb0b_row3_col3 {\n",
       "  text-align: left;\n",
       "  background-color: yellow;\n",
       "}\n",
       "#T_7eb0b_row0_col8, #T_7eb0b_row1_col8, #T_7eb0b_row2_col8 {\n",
       "  text-align: left;\n",
       "  background-color: lightgrey;\n",
       "}\n",
       "#T_7eb0b_row3_col8 {\n",
       "  text-align: left;\n",
       "  background-color: yellow;\n",
       "  background-color: lightgrey;\n",
       "}\n",
       "</style>\n",
       "<table id=\"T_7eb0b\" class=\"dataframe\">\n",
       "  <thead>\n",
       "    <tr>\n",
       "      <th class=\"blank level0\" >&nbsp;</th>\n",
       "      <th id=\"T_7eb0b_level0_col0\" class=\"col_heading level0 col0\" >Model</th>\n",
       "      <th id=\"T_7eb0b_level0_col1\" class=\"col_heading level0 col1\" >Accuracy</th>\n",
       "      <th id=\"T_7eb0b_level0_col2\" class=\"col_heading level0 col2\" >AUC</th>\n",
       "      <th id=\"T_7eb0b_level0_col3\" class=\"col_heading level0 col3\" >Recall</th>\n",
       "      <th id=\"T_7eb0b_level0_col4\" class=\"col_heading level0 col4\" >Prec.</th>\n",
       "      <th id=\"T_7eb0b_level0_col5\" class=\"col_heading level0 col5\" >F1</th>\n",
       "      <th id=\"T_7eb0b_level0_col6\" class=\"col_heading level0 col6\" >Kappa</th>\n",
       "      <th id=\"T_7eb0b_level0_col7\" class=\"col_heading level0 col7\" >MCC</th>\n",
       "      <th id=\"T_7eb0b_level0_col8\" class=\"col_heading level0 col8\" >TT (Sec)</th>\n",
       "    </tr>\n",
       "  </thead>\n",
       "  <tbody>\n",
       "    <tr>\n",
       "      <th id=\"T_7eb0b_level0_row0\" class=\"row_heading level0 row0\" >dt</th>\n",
       "      <td id=\"T_7eb0b_row0_col0\" class=\"data row0 col0\" >Decision Tree Classifier</td>\n",
       "      <td id=\"T_7eb0b_row0_col1\" class=\"data row0 col1\" >0.9955</td>\n",
       "      <td id=\"T_7eb0b_row0_col2\" class=\"data row0 col2\" >0.9041</td>\n",
       "      <td id=\"T_7eb0b_row0_col3\" class=\"data row0 col3\" >0.8113</td>\n",
       "      <td id=\"T_7eb0b_row0_col4\" class=\"data row0 col4\" >0.6741</td>\n",
       "      <td id=\"T_7eb0b_row0_col5\" class=\"data row0 col5\" >0.7359</td>\n",
       "      <td id=\"T_7eb0b_row0_col6\" class=\"data row0 col6\" >0.7336</td>\n",
       "      <td id=\"T_7eb0b_row0_col7\" class=\"data row0 col7\" >0.7371</td>\n",
       "      <td id=\"T_7eb0b_row0_col8\" class=\"data row0 col8\" >18.8780</td>\n",
       "    </tr>\n",
       "    <tr>\n",
       "      <th id=\"T_7eb0b_level0_row1\" class=\"row_heading level0 row1\" >rf</th>\n",
       "      <td id=\"T_7eb0b_row1_col0\" class=\"data row1 col0\" >Random Forest Classifier</td>\n",
       "      <td id=\"T_7eb0b_row1_col1\" class=\"data row1 col1\" >0.9947</td>\n",
       "      <td id=\"T_7eb0b_row1_col2\" class=\"data row1 col2\" >0.9807</td>\n",
       "      <td id=\"T_7eb0b_row1_col3\" class=\"data row1 col3\" >0.3325</td>\n",
       "      <td id=\"T_7eb0b_row1_col4\" class=\"data row1 col4\" >0.9605</td>\n",
       "      <td id=\"T_7eb0b_row1_col5\" class=\"data row1 col5\" >0.4932</td>\n",
       "      <td id=\"T_7eb0b_row1_col6\" class=\"data row1 col6\" >0.4912</td>\n",
       "      <td id=\"T_7eb0b_row1_col7\" class=\"data row1 col7\" >0.5629</td>\n",
       "      <td id=\"T_7eb0b_row1_col8\" class=\"data row1 col8\" >88.0740</td>\n",
       "    </tr>\n",
       "    <tr>\n",
       "      <th id=\"T_7eb0b_level0_row2\" class=\"row_heading level0 row2\" >lr</th>\n",
       "      <td id=\"T_7eb0b_row2_col0\" class=\"data row2 col0\" >Logistic Regression</td>\n",
       "      <td id=\"T_7eb0b_row2_col1\" class=\"data row2 col1\" >0.9825</td>\n",
       "      <td id=\"T_7eb0b_row2_col2\" class=\"data row2 col2\" >0.9722</td>\n",
       "      <td id=\"T_7eb0b_row2_col3\" class=\"data row2 col3\" >0.8932</td>\n",
       "      <td id=\"T_7eb0b_row2_col4\" class=\"data row2 col4\" >0.2924</td>\n",
       "      <td id=\"T_7eb0b_row2_col5\" class=\"data row2 col5\" >0.4404</td>\n",
       "      <td id=\"T_7eb0b_row2_col6\" class=\"data row2 col6\" >0.4339</td>\n",
       "      <td id=\"T_7eb0b_row2_col7\" class=\"data row2 col7\" >0.5054</td>\n",
       "      <td id=\"T_7eb0b_row2_col8\" class=\"data row2 col8\" >49.6550</td>\n",
       "    </tr>\n",
       "    <tr>\n",
       "      <th id=\"T_7eb0b_level0_row3\" class=\"row_heading level0 row3\" >nb</th>\n",
       "      <td id=\"T_7eb0b_row3_col0\" class=\"data row3 col0\" >Naive Bayes</td>\n",
       "      <td id=\"T_7eb0b_row3_col1\" class=\"data row3 col1\" >0.1641</td>\n",
       "      <td id=\"T_7eb0b_row3_col2\" class=\"data row3 col2\" >0.5647</td>\n",
       "      <td id=\"T_7eb0b_row3_col3\" class=\"data row3 col3\" >0.9531</td>\n",
       "      <td id=\"T_7eb0b_row3_col4\" class=\"data row3 col4\" >0.0087</td>\n",
       "      <td id=\"T_7eb0b_row3_col5\" class=\"data row3 col5\" >0.0173</td>\n",
       "      <td id=\"T_7eb0b_row3_col6\" class=\"data row3 col6\" >0.0020</td>\n",
       "      <td id=\"T_7eb0b_row3_col7\" class=\"data row3 col7\" >0.0267</td>\n",
       "      <td id=\"T_7eb0b_row3_col8\" class=\"data row3 col8\" >7.7460</td>\n",
       "    </tr>\n",
       "  </tbody>\n",
       "</table>\n"
      ],
      "text/plain": [
       "<pandas.io.formats.style.Styler at 0x7a23ac92cfd0>"
      ]
     },
     "metadata": {},
     "output_type": "display_data"
    },
    {
     "data": {
      "text/html": [],
      "text/plain": [
       "<IPython.core.display.HTML object>"
      ]
     },
     "metadata": {},
     "output_type": "display_data"
    },
    {
     "data": {
      "text/html": [],
      "text/plain": [
       "<IPython.core.display.HTML object>"
      ]
     },
     "metadata": {},
     "output_type": "display_data"
    }
   ],
   "source": [
    "from pycaret.classification import compare_models\n",
    "\n",
    "# Specify classification models to compare\n",
    "classification_models = ['lr', 'dt', 'rf', 'nb']  # 'nb' for Naive Bayes\n",
    "\n",
    "# Compare specified classification models\n",
    "automl_models = compare_models(include=classification_models)\n"
   ]
  },
  {
   "cell_type": "code",
   "execution_count": 55,
   "metadata": {
    "colab": {
     "base_uri": "https://localhost:8080/",
     "height": 609
    },
    "id": "bkNI_nC1FHhD",
    "outputId": "8ae25974-e0ee-4c73-961e-eec888d42c49"
   },
   "outputs": [
    {
     "data": {
      "image/png": "[encoded data removed]",
      "text/plain": [
       "<Figure size 1000x600 with 3 Axes>"
      ]
     },
     "metadata": {},
     "output_type": "display_data"
    }
   ],
   "source": [
    "import matplotlib.pyplot as plt\n",
    "import numpy as np\n",
    "\n",
    "# Manual model metrics\n",
    "manual_model_names = ['Decision Tree', 'Random Forest', 'Logistic Regression', 'Naive Bayes']\n",
    "manual_accuracy = [0.9955, 0.9947, 0.9825, 0.1641]\n",
    "manual_precision = [0.6741, 0.9605, 0.2924, 0.0087]\n",
    "manual_recall = [0.8113, 0.3325, 0.8932, 0.9531]\n",
    "\n",
    "# AutoML model metrics\n",
    "automl_model_names = ['Logistic Regression', 'Decision Tree', 'Random Forest', 'Bayesian Classifier']\n",
    "automl_accuracy = [0.9973, 0.9968, 0.9952, 0.1431]\n",
    "automl_precision = [0.94, 0.82, 1.00, 0.01]\n",
    "automl_recall = [0.71, 0.78, 0.40, 0.97]\n",
    "\n",
    "# Plotting\n",
    "fig, axes = plt.subplots(3, 1, figsize=(10, 6))\n",
    "\n",
    "# Accuracy\n",
    "axes[0].bar(np.arange(len(manual_model_names)), manual_accuracy, width=0.4, label='Manual Models', align='center')\n",
    "axes[0].bar(np.arange(len(automl_model_names)) + 0.4, automl_accuracy, width=0.4, label='AutoML Models', align='center')\n",
    "axes[0].set_xticks(np.arange(len(manual_model_names) + len(automl_model_names)) / 2)\n",
    "axes[0].set_xticklabels(manual_model_names + automl_model_names, rotation=45, ha=\"right\")\n",
    "axes[0].set_ylabel('Accuracy')\n",
    "axes[0].legend()\n",
    "\n",
    "# Precision\n",
    "axes[1].bar(np.arange(len(manual_model_names)), manual_precision, width=0.4, label='Manual Models', align='center')\n",
    "axes[1].bar(np.arange(len(automl_model_names)) + 0.4, automl_precision, width=0.4, label='AutoML Models', align='center')\n",
    "axes[1].set_xticks(np.arange(len(manual_model_names) + len(automl_model_names)) / 2)\n",
    "axes[1].set_xticklabels(manual_model_names + automl_model_names, rotation=45, ha=\"right\")\n",
    "axes[1].set_ylabel('Precision')\n",
    "axes[1].legend()\n",
    "\n",
    "# Recall\n",
    "axes[2].bar(np.arange(len(manual_model_names)), manual_recall, width=0.4, label='Manual Models', align='center')\n",
    "axes[2].bar(np.arange(len(automl_model_names)) + 0.4, automl_recall, width=0.4, label='AutoML Models', align='center')\n",
    "axes[2].set_xticks(np.arange(len(manual_model_names) + len(automl_model_names)) / 2)\n",
    "axes[2].set_xticklabels(manual_model_names + automl_model_names, rotation=45, ha=\"right\")\n",
    "axes[2].set_ylabel('Recall')\n",
    "axes[2].legend()\n",
    "\n",
    "plt.tight_layout()\n",
    "plt.show()\n"
   ]
  },
  {
   "cell_type": "markdown",
   "metadata": {
    "id": "35UukrHdF8Ag"
   },
   "source": [
    "# Conclusion:\n",
    "\n",
    "The AutoML models, especially Logistic Regression, seem to offer improved performance over the manual models.\n",
    "\n",
    "Logistic Regression is a strong candidate for its balanced performance, but Decision Tree and Random Forest may also be suitable, considering their interpretability and performance.\n"
   ]
  },
  {
   "cell_type": "markdown",
   "metadata": {
    "id": "_L3v848LiIPL"
   },
   "source": [
    "# Task 4\n",
    "Q4.Create a single deep learning model for question 1.  Compare the results to the results you created in question 1 and the results from AutoML in question 4.  Which results were the best?  Which results can you fully explain?  "
   ]
  },
  {
   "cell_type": "code",
   "execution_count": 41,
   "metadata": {
    "colab": {
     "base_uri": "https://localhost:8080/"
    },
    "id": "y8qtue1fnmv_",
    "outputId": "13f482cb-b3b7-4ee2-a79d-5f13a8fe6de7"
   },
   "outputs": [
    {
     "name": "stdout",
     "output_type": "stream",
     "text": [
      "Requirement already satisfied: tensorflow in /usr/local/lib/python3.10/dist-packages (2.14.0)\n",
      "Requirement already satisfied: absl-py>=1.0.0 in /usr/local/lib/python3.10/dist-packages (from tensorflow) (1.4.0)\n",
      "Requirement already satisfied: astunparse>=1.6.0 in /usr/local/lib/python3.10/dist-packages (from tensorflow) (1.6.3)\n",
      "Requirement already satisfied: flatbuffers>=23.5.26 in /usr/local/lib/python3.10/dist-packages (from tensorflow) (23.5.26)\n",
      "Requirement already satisfied: gast!=0.5.0,!=0.5.1,!=0.5.2,>=0.2.1 in /usr/local/lib/python3.10/dist-packages (from tensorflow) (0.5.4)\n",
      "Requirement already satisfied: google-pasta>=0.1.1 in /usr/local/lib/python3.10/dist-packages (from tensorflow) (0.2.0)\n",
      "Requirement already satisfied: h5py>=2.9.0 in /usr/local/lib/python3.10/dist-packages (from tensorflow) (3.9.0)\n",
      "Requirement already satisfied: libclang>=13.0.0 in /usr/local/lib/python3.10/dist-packages (from tensorflow) (16.0.6)\n",
      "Requirement already satisfied: ml-dtypes==0.2.0 in /usr/local/lib/python3.10/dist-packages (from tensorflow) (0.2.0)\n",
      "Requirement already satisfied: numpy>=1.23.5 in /usr/local/lib/python3.10/dist-packages (from tensorflow) (1.23.5)\n",
      "Requirement already satisfied: opt-einsum>=2.3.2 in /usr/local/lib/python3.10/dist-packages (from tensorflow) (3.3.0)\n",
      "Requirement already satisfied: packaging in /usr/local/lib/python3.10/dist-packages (from tensorflow) (23.2)\n",
      "Requirement already satisfied: protobuf!=4.21.0,!=4.21.1,!=4.21.2,!=4.21.3,!=4.21.4,!=4.21.5,<5.0.0dev,>=3.20.3 in /usr/local/lib/python3.10/dist-packages (from tensorflow) (3.20.3)\n",
      "Requirement already satisfied: setuptools in /usr/local/lib/python3.10/dist-packages (from tensorflow) (67.7.2)\n",
      "Requirement already satisfied: six>=1.12.0 in /usr/local/lib/python3.10/dist-packages (from tensorflow) (1.16.0)\n",
      "Requirement already satisfied: termcolor>=1.1.0 in /usr/local/lib/python3.10/dist-packages (from tensorflow) (2.4.0)\n",
      "Requirement already satisfied: typing-extensions>=3.6.6 in /usr/local/lib/python3.10/dist-packages (from tensorflow) (4.5.0)\n",
      "Requirement already satisfied: wrapt<1.15,>=1.11.0 in /usr/local/lib/python3.10/dist-packages (from tensorflow) (1.14.1)\n",
      "Requirement already satisfied: tensorflow-io-gcs-filesystem>=0.23.1 in /usr/local/lib/python3.10/dist-packages (from tensorflow) (0.34.0)\n",
      "Requirement already satisfied: grpcio<2.0,>=1.24.3 in /usr/local/lib/python3.10/dist-packages (from tensorflow) (1.59.3)\n",
      "Requirement already satisfied: tensorboard<2.15,>=2.14 in /usr/local/lib/python3.10/dist-packages (from tensorflow) (2.14.1)\n",
      "Requirement already satisfied: tensorflow-estimator<2.15,>=2.14.0 in /usr/local/lib/python3.10/dist-packages (from tensorflow) (2.14.0)\n",
      "Requirement already satisfied: keras<2.15,>=2.14.0 in /usr/local/lib/python3.10/dist-packages (from tensorflow) (2.14.0)\n",
      "Requirement already satisfied: wheel<1.0,>=0.23.0 in /usr/local/lib/python3.10/dist-packages (from astunparse>=1.6.0->tensorflow) (0.42.0)\n",
      "Requirement already satisfied: google-auth<3,>=1.6.3 in /usr/local/lib/python3.10/dist-packages (from tensorboard<2.15,>=2.14->tensorflow) (2.17.3)\n",
      "Requirement already satisfied: google-auth-oauthlib<1.1,>=0.5 in /usr/local/lib/python3.10/dist-packages (from tensorboard<2.15,>=2.14->tensorflow) (1.0.0)\n",
      "Requirement already satisfied: markdown>=2.6.8 in /usr/local/lib/python3.10/dist-packages (from tensorboard<2.15,>=2.14->tensorflow) (3.5.1)\n",
      "Requirement already satisfied: requests<3,>=2.21.0 in /usr/local/lib/python3.10/dist-packages (from tensorboard<2.15,>=2.14->tensorflow) (2.31.0)\n",
      "Requirement already satisfied: tensorboard-data-server<0.8.0,>=0.7.0 in /usr/local/lib/python3.10/dist-packages (from tensorboard<2.15,>=2.14->tensorflow) (0.7.2)\n",
      "Requirement already satisfied: werkzeug>=1.0.1 in /usr/local/lib/python3.10/dist-packages (from tensorboard<2.15,>=2.14->tensorflow) (3.0.1)\n",
      "Requirement already satisfied: cachetools<6.0,>=2.0.0 in /usr/local/lib/python3.10/dist-packages (from google-auth<3,>=1.6.3->tensorboard<2.15,>=2.14->tensorflow) (5.3.2)\n",
      "Requirement already satisfied: pyasn1-modules>=0.2.1 in /usr/local/lib/python3.10/dist-packages (from google-auth<3,>=1.6.3->tensorboard<2.15,>=2.14->tensorflow) (0.3.0)\n",
      "Requirement already satisfied: rsa<5,>=3.1.4 in /usr/local/lib/python3.10/dist-packages (from google-auth<3,>=1.6.3->tensorboard<2.15,>=2.14->tensorflow) (4.9)\n",
      "Requirement already satisfied: requests-oauthlib>=0.7.0 in /usr/local/lib/python3.10/dist-packages (from google-auth-oauthlib<1.1,>=0.5->tensorboard<2.15,>=2.14->tensorflow) (1.3.1)\n",
      "Requirement already satisfied: charset-normalizer<4,>=2 in /usr/local/lib/python3.10/dist-packages (from requests<3,>=2.21.0->tensorboard<2.15,>=2.14->tensorflow) (3.3.2)\n",
      "Requirement already satisfied: idna<4,>=2.5 in /usr/local/lib/python3.10/dist-packages (from requests<3,>=2.21.0->tensorboard<2.15,>=2.14->tensorflow) (3.6)\n",
      "Requirement already satisfied: urllib3<3,>=1.21.1 in /usr/local/lib/python3.10/dist-packages (from requests<3,>=2.21.0->tensorboard<2.15,>=2.14->tensorflow) (2.0.7)\n",
      "Requirement already satisfied: certifi>=2017.4.17 in /usr/local/lib/python3.10/dist-packages (from requests<3,>=2.21.0->tensorboard<2.15,>=2.14->tensorflow) (2023.11.17)\n",
      "Requirement already satisfied: MarkupSafe>=2.1.1 in /usr/local/lib/python3.10/dist-packages (from werkzeug>=1.0.1->tensorboard<2.15,>=2.14->tensorflow) (2.1.3)\n",
      "Requirement already satisfied: pyasn1<0.6.0,>=0.4.6 in /usr/local/lib/python3.10/dist-packages (from pyasn1-modules>=0.2.1->google-auth<3,>=1.6.3->tensorboard<2.15,>=2.14->tensorflow) (0.5.1)\n",
      "Requirement already satisfied: oauthlib>=3.0.0 in /usr/local/lib/python3.10/dist-packages (from requests-oauthlib>=0.7.0->google-auth-oauthlib<1.1,>=0.5->tensorboard<2.15,>=2.14->tensorflow) (3.2.2)\n"
     ]
    }
   ],
   "source": [
    "pip install tensorflow"
   ]
  },
  {
   "cell_type": "code",
   "execution_count": 42,
   "metadata": {
    "colab": {
     "base_uri": "https://localhost:8080/"
    },
    "id": "DgoBTD7OneMZ",
    "outputId": "8872c051-fee4-4bc1-8d67-0590f1ac7815"
   },
   "outputs": [
    {
     "name": "stdout",
     "output_type": "stream",
     "text": [
      "Epoch 1/50\n",
      "4022/4022 - 22s - loss: 0.0341 - val_loss: 0.2493 - 22s/epoch - 5ms/step\n",
      "Epoch 2/50\n",
      "4022/4022 - 19s - loss: 0.0371 - val_loss: 0.0088 - 19s/epoch - 5ms/step\n",
      "Epoch 3/50\n",
      "4022/4022 - 11s - loss: 0.0172 - val_loss: 0.0245 - 11s/epoch - 3ms/step\n",
      "Epoch 4/50\n",
      "4022/4022 - 9s - loss: 0.0057 - val_loss: 0.0084 - 9s/epoch - 2ms/step\n",
      "Epoch 5/50\n",
      "4022/4022 - 9s - loss: 0.0053 - val_loss: 0.0372 - 9s/epoch - 2ms/step\n",
      "Epoch 6/50\n",
      "4022/4022 - 11s - loss: 0.0076 - val_loss: 0.0253 - 11s/epoch - 3ms/step\n",
      "Epoch 7/50\n",
      "4022/4022 - 9s - loss: 0.0040 - val_loss: 0.0034 - 9s/epoch - 2ms/step\n",
      "Epoch 8/50\n",
      "4022/4022 - 10s - loss: 0.0018 - val_loss: 0.0026 - 10s/epoch - 2ms/step\n",
      "Epoch 9/50\n",
      "4022/4022 - 9s - loss: 0.0016 - val_loss: 0.0020 - 9s/epoch - 2ms/step\n",
      "Epoch 10/50\n",
      "4022/4022 - 9s - loss: 0.0016 - val_loss: 0.0020 - 9s/epoch - 2ms/step\n",
      "Epoch 11/50\n",
      "4022/4022 - 11s - loss: 0.0015 - val_loss: 0.0019 - 11s/epoch - 3ms/step\n",
      "Epoch 12/50\n",
      "4022/4022 - 8s - loss: 0.0014 - val_loss: 0.0021 - 8s/epoch - 2ms/step\n",
      "Epoch 13/50\n",
      "4022/4022 - 10s - loss: 0.0014 - val_loss: 0.0019 - 10s/epoch - 2ms/step\n",
      "Epoch 14/50\n",
      "4022/4022 - 10s - loss: 0.0013 - val_loss: 0.0021 - 10s/epoch - 2ms/step\n",
      "Epoch 15/50\n",
      "4022/4022 - 10s - loss: 0.0013 - val_loss: 0.0019 - 10s/epoch - 2ms/step\n",
      "Epoch 16/50\n",
      "4022/4022 - 10s - loss: 0.0015 - val_loss: 0.0020 - 10s/epoch - 2ms/step\n",
      "Epoch 17/50\n",
      "4022/4022 - 9s - loss: 0.0012 - val_loss: 0.0025 - 9s/epoch - 2ms/step\n",
      "Epoch 18/50\n",
      "4022/4022 - 10s - loss: 0.0012 - val_loss: 0.0020 - 10s/epoch - 3ms/step\n",
      "Epoch 19/50\n",
      "4022/4022 - 14s - loss: 0.0012 - val_loss: 0.0019 - 14s/epoch - 4ms/step\n",
      "Epoch 20/50\n",
      "4022/4022 - 10s - loss: 0.0012 - val_loss: 0.0027 - 10s/epoch - 3ms/step\n",
      "Epoch 21/50\n",
      "4022/4022 - 10s - loss: 0.0012 - val_loss: 0.0021 - 10s/epoch - 2ms/step\n",
      "Epoch 22/50\n",
      "4022/4022 - 10s - loss: 0.0011 - val_loss: 0.0028 - 10s/epoch - 2ms/step\n",
      "Epoch 23/50\n",
      "4022/4022 - 10s - loss: 0.0011 - val_loss: 0.0020 - 10s/epoch - 2ms/step\n",
      "Epoch 24/50\n",
      "4022/4022 - 10s - loss: 0.0011 - val_loss: 0.0022 - 10s/epoch - 2ms/step\n",
      "Epoch 25/50\n",
      "4022/4022 - 11s - loss: 0.0011 - val_loss: 0.0023 - 11s/epoch - 3ms/step\n",
      "Epoch 26/50\n",
      "4022/4022 - 9s - loss: 0.0011 - val_loss: 0.0029 - 9s/epoch - 2ms/step\n",
      "Epoch 27/50\n",
      "4022/4022 - 9s - loss: 0.0011 - val_loss: 0.0024 - 9s/epoch - 2ms/step\n",
      "Epoch 28/50\n",
      "4022/4022 - 10s - loss: 0.0010 - val_loss: 0.0024 - 10s/epoch - 3ms/step\n",
      "Epoch 29/50\n",
      "4022/4022 - 9s - loss: 0.0014 - val_loss: 0.0031 - 9s/epoch - 2ms/step\n",
      "Epoch 30/50\n",
      "4022/4022 - 11s - loss: 0.0010 - val_loss: 0.0025 - 11s/epoch - 3ms/step\n",
      "Epoch 31/50\n",
      "4022/4022 - 12s - loss: 0.0010 - val_loss: 0.0024 - 12s/epoch - 3ms/step\n",
      "Epoch 32/50\n",
      "4022/4022 - 8s - loss: 9.9893e-04 - val_loss: 0.0023 - 8s/epoch - 2ms/step\n",
      "Epoch 33/50\n",
      "4022/4022 - 11s - loss: 9.8200e-04 - val_loss: 0.0032 - 11s/epoch - 3ms/step\n",
      "Epoch 34/50\n",
      "4022/4022 - 9s - loss: 0.0010 - val_loss: 0.0042 - 9s/epoch - 2ms/step\n",
      "Epoch 35/50\n",
      "4022/4022 - 8s - loss: 0.0010 - val_loss: 0.0029 - 8s/epoch - 2ms/step\n",
      "Epoch 36/50\n",
      "4022/4022 - 10s - loss: 9.5014e-04 - val_loss: 0.0031 - 10s/epoch - 2ms/step\n",
      "Epoch 37/50\n",
      "4022/4022 - 9s - loss: 9.5621e-04 - val_loss: 0.0035 - 9s/epoch - 2ms/step\n",
      "Epoch 38/50\n",
      "4022/4022 - 11s - loss: 9.9653e-04 - val_loss: 0.0036 - 11s/epoch - 3ms/step\n",
      "Epoch 39/50\n",
      "4022/4022 - 10s - loss: 9.4180e-04 - val_loss: 0.0043 - 10s/epoch - 2ms/step\n",
      "Epoch 40/50\n",
      "4022/4022 - 8s - loss: 8.9671e-04 - val_loss: 0.0029 - 8s/epoch - 2ms/step\n",
      "Epoch 41/50\n",
      "4022/4022 - 10s - loss: 9.1229e-04 - val_loss: 0.0034 - 10s/epoch - 2ms/step\n",
      "Epoch 42/50\n",
      "4022/4022 - 9s - loss: 8.8323e-04 - val_loss: 0.0033 - 9s/epoch - 2ms/step\n",
      "Epoch 43/50\n",
      "4022/4022 - 9s - loss: 9.0245e-04 - val_loss: 0.0033 - 9s/epoch - 2ms/step\n",
      "Epoch 44/50\n",
      "4022/4022 - 11s - loss: 9.1530e-04 - val_loss: 0.0036 - 11s/epoch - 3ms/step\n",
      "Epoch 45/50\n",
      "4022/4022 - 8s - loss: 9.5761e-04 - val_loss: 0.0024 - 8s/epoch - 2ms/step\n",
      "Epoch 46/50\n",
      "4022/4022 - 11s - loss: 0.0012 - val_loss: 0.0094 - 11s/epoch - 3ms/step\n",
      "Epoch 47/50\n",
      "4022/4022 - 10s - loss: 8.9796e-04 - val_loss: 0.0040 - 10s/epoch - 2ms/step\n",
      "Epoch 48/50\n",
      "4022/4022 - 10s - loss: 8.6018e-04 - val_loss: 0.0090 - 10s/epoch - 2ms/step\n",
      "Epoch 49/50\n",
      "4022/4022 - 11s - loss: 9.0738e-04 - val_loss: 0.0039 - 11s/epoch - 3ms/step\n",
      "Epoch 50/50\n",
      "4022/4022 - 10s - loss: 8.2260e-04 - val_loss: 0.0047 - 10s/epoch - 2ms/step\n",
      "1257/1257 [==============================] - 2s 2ms/step\n",
      "Mean Squared Error: 0.002417664\n",
      "R2 Score: 0.6946468341302667\n"
     ]
    }
   ],
   "source": [
    "import tensorflow as tf\n",
    "from tensorflow import keras\n",
    "from sklearn.model_selection import train_test_split\n",
    "from sklearn.preprocessing import StandardScaler\n",
    "from sklearn.metrics import mean_squared_error, r2_score\n",
    "import pandas as pd\n",
    "\n",
    "# Assuming x and y are your features and target variable\n",
    "x_train, x_test, y_train, y_test = train_test_split(x, y, test_size=0.2, random_state=42)\n",
    "\n",
    "# Assuming you want to scale your features\n",
    "scaler = StandardScaler()\n",
    "x_train_scaled = scaler.fit_transform(x_train)\n",
    "x_test_scaled = scaler.transform(x_test)\n",
    "\n",
    "# Build a simple neural network model\n",
    "model = keras.Sequential([\n",
    "    keras.layers.Dense(64, activation='relu', input_shape=(x_train_scaled.shape[1],)),\n",
    "    keras.layers.Dense(32, activation='relu'),\n",
    "    keras.layers.Dense(1)  # Output layer for regression\n",
    "])\n",
    "\n",
    "# Compile the model\n",
    "model.compile(optimizer='adam', loss='mean_squared_error')\n",
    "\n",
    "# Train the model\n",
    "model.fit(x_train_scaled, y_train, epochs=50, batch_size=32, validation_split=0.2, verbose=2)\n",
    "\n",
    "# Make predictions on the test set\n",
    "y_pred = model.predict(x_test_scaled)\n",
    "\n",
    "# Evaluate the model\n",
    "mse = mean_squared_error(y_test, y_pred)\n",
    "r2 = r2_score(y_test, y_pred)\n",
    "\n",
    "print(\"Mean Squared Error:\", mse)\n",
    "print(\"R2 Score:\", r2)\n"
   ]
  },
  {
   "cell_type": "markdown",
   "metadata": {
    "id": "NUZg4PcdAofm"
   },
   "source": [
    "# Comparison:\n",
    "\n",
    "Gradient Boosting Regressor (gbr) has the lowest MAE, MSE, and RMSE, indicating better accuracy and precision. It also has the highest R2, suggesting a better fit to the data.\n",
    "\n",
    "**Fastest Training Time:** Ridge Regression (ridge) has the shortest training time, followed by Lasso Regression (lasso).\n",
    "\n",
    "Deep Learning Model: The Deep Learning model has competitive performance, especially in terms of R2, but it is essential to consider its training time and computational complexity.\n",
    "\n",
    "# Conclusion:\n",
    "\n",
    "If accuracy and precision are the primary concerns, Gradient Boosting Regressor (gbr) seems to be the best choice.\n",
    "If computational efficiency is crucial, Ridge Regression (ridge) might be a suitable option.\n",
    "The choice between AutoML models and the Deep Learning model, The Deep Learning model might be preferable if the dataset is large and complex."
   ]
  },
  {
   "cell_type": "code",
   "execution_count": null,
   "metadata": {
    "id": "qJxRVgF6AuJb"
   },
   "outputs": [],
   "source": []
  }
 ],
 "metadata": {
  "colab": {
   "provenance": []
  },
  "kernelspec": {
   "display_name": "Python 3 (ipykernel)",
   "language": "python",
   "name": "python3"
  },
  "language_info": {
   "codemirror_mode": {
    "name": "ipython",
    "version": 3
   },
   "file_extension": ".py",
   "mimetype": "text/x-python",
   "name": "python",
   "nbconvert_exporter": "python",
   "pygments_lexer": "ipython3",
   "version": "3.11.4"
  },
  "widgets": {
   "application/vnd.jupyter.widget-state+json": {
    "16a16d36a00048739a7bd92a29f75138": {
     "model_module": "@jupyter-widgets/controls",
     "model_module_version": "1.5.0",
     "model_name": "HBoxModel",
     "state": {
      "_dom_classes": [],
      "_model_module": "@jupyter-widgets/controls",
      "_model_module_version": "1.5.0",
      "_model_name": "HBoxModel",
      "_view_count": null,
      "_view_module": "@jupyter-widgets/controls",
      "_view_module_version": "1.5.0",
      "_view_name": "HBoxView",
      "box_style": "",
      "children": [
       "IPY_MODEL_e534fa3f9ee04ad9b7950518fa6138d3",
       "IPY_MODEL_7b19451f010c47f2905ff28fba9cc694",
       "IPY_MODEL_75bb777bc9404c75adab1a126db6e842"
      ],
      "layout": "IPY_MODEL_a21f463855b242a9b9008dba664c0343"
     }
    },
    "19066966f02d4c51a46b0280c9a9d32a": {
     "model_module": "@jupyter-widgets/base",
     "model_module_version": "1.2.0",
     "model_name": "LayoutModel",
     "state": {
      "_model_module": "@jupyter-widgets/base",
      "_model_module_version": "1.2.0",
      "_model_name": "LayoutModel",
      "_view_count": null,
      "_view_module": "@jupyter-widgets/base",
      "_view_module_version": "1.2.0",
      "_view_name": "LayoutView",
      "align_content": null,
      "align_items": null,
      "align_self": null,
      "border": null,
      "bottom": null,
      "display": null,
      "flex": null,
      "flex_flow": null,
      "grid_area": null,
      "grid_auto_columns": null,
      "grid_auto_flow": null,
      "grid_auto_rows": null,
      "grid_column": null,
      "grid_gap": null,
      "grid_row": null,
      "grid_template_areas": null,
      "grid_template_columns": null,
      "grid_template_rows": null,
      "height": null,
      "justify_content": null,
      "justify_items": null,
      "left": null,
      "margin": null,
      "max_height": null,
      "max_width": null,
      "min_height": null,
      "min_width": null,
      "object_fit": null,
      "object_position": null,
      "order": null,
      "overflow": null,
      "overflow_x": null,
      "overflow_y": null,
      "padding": null,
      "right": null,
      "top": null,
      "visibility": null,
      "width": null
     }
    },
    "1c9f9f3be6c74af9b290d36a1009f1ac": {
     "model_module": "@jupyter-widgets/controls",
     "model_module_version": "1.5.0",
     "model_name": "HTMLModel",
     "state": {
      "_dom_classes": [],
      "_model_module": "@jupyter-widgets/controls",
      "_model_module_version": "1.5.0",
      "_model_name": "HTMLModel",
      "_view_count": null,
      "_view_module": "@jupyter-widgets/controls",
      "_view_module_version": "1.5.0",
      "_view_name": "HTMLView",
      "description": "",
      "description_tooltip": null,
      "layout": "IPY_MODEL_d0061c519a3149a781fc7330f171cfe2",
      "placeholder": "​",
      "style": "IPY_MODEL_3ba198e3f2e1409e8f877151f30665e8",
      "value": " 21/21 [27:54&lt;00:00, 49.72s/it]"
     }
    },
    "3ba198e3f2e1409e8f877151f30665e8": {
     "model_module": "@jupyter-widgets/controls",
     "model_module_version": "1.5.0",
     "model_name": "DescriptionStyleModel",
     "state": {
      "_model_module": "@jupyter-widgets/controls",
      "_model_module_version": "1.5.0",
      "_model_name": "DescriptionStyleModel",
      "_view_count": null,
      "_view_module": "@jupyter-widgets/base",
      "_view_module_version": "1.2.0",
      "_view_name": "StyleView",
      "description_width": ""
     }
    },
    "4996f87f7f58493c8e01310b37e8fb58": {
     "model_module": "@jupyter-widgets/base",
     "model_module_version": "1.2.0",
     "model_name": "LayoutModel",
     "state": {
      "_model_module": "@jupyter-widgets/base",
      "_model_module_version": "1.2.0",
      "_model_name": "LayoutModel",
      "_view_count": null,
      "_view_module": "@jupyter-widgets/base",
      "_view_module_version": "1.2.0",
      "_view_name": "LayoutView",
      "align_content": null,
      "align_items": null,
      "align_self": null,
      "border": null,
      "bottom": null,
      "display": null,
      "flex": null,
      "flex_flow": null,
      "grid_area": null,
      "grid_auto_columns": null,
      "grid_auto_flow": null,
      "grid_auto_rows": null,
      "grid_column": null,
      "grid_gap": null,
      "grid_row": null,
      "grid_template_areas": null,
      "grid_template_columns": null,
      "grid_template_rows": null,
      "height": null,
      "justify_content": null,
      "justify_items": null,
      "left": null,
      "margin": null,
      "max_height": null,
      "max_width": null,
      "min_height": null,
      "min_width": null,
      "object_fit": null,
      "object_position": null,
      "order": null,
      "overflow": null,
      "overflow_x": null,
      "overflow_y": null,
      "padding": null,
      "right": null,
      "top": null,
      "visibility": null,
      "width": null
     }
    },
    "49e48e474f744bc68be5d45fe4349a8a": {
     "model_module": "@jupyter-widgets/controls",
     "model_module_version": "1.5.0",
     "model_name": "DescriptionStyleModel",
     "state": {
      "_model_module": "@jupyter-widgets/controls",
      "_model_module_version": "1.5.0",
      "_model_name": "DescriptionStyleModel",
      "_view_count": null,
      "_view_module": "@jupyter-widgets/base",
      "_view_module_version": "1.2.0",
      "_view_name": "StyleView",
      "description_width": ""
     }
    },
    "533b00991aa947a9834f8dc0f1f9490f": {
     "model_module": "@jupyter-widgets/controls",
     "model_module_version": "1.5.0",
     "model_name": "ProgressStyleModel",
     "state": {
      "_model_module": "@jupyter-widgets/controls",
      "_model_module_version": "1.5.0",
      "_model_name": "ProgressStyleModel",
      "_view_count": null,
      "_view_module": "@jupyter-widgets/base",
      "_view_module_version": "1.2.0",
      "_view_name": "StyleView",
      "bar_color": null,
      "description_width": ""
     }
    },
    "5505a442a0ee4ead84c8330607641449": {
     "model_module": "@jupyter-widgets/controls",
     "model_module_version": "1.5.0",
     "model_name": "HBoxModel",
     "state": {
      "_dom_classes": [],
      "_model_module": "@jupyter-widgets/controls",
      "_model_module_version": "1.5.0",
      "_model_name": "HBoxModel",
      "_view_count": null,
      "_view_module": "@jupyter-widgets/controls",
      "_view_module_version": "1.5.0",
      "_view_name": "HBoxView",
      "box_style": "",
      "children": [
       "IPY_MODEL_9ee7f88808054c81b9a28d43029405bc",
       "IPY_MODEL_a0cca176098149b68bb8bdfd2193bb10",
       "IPY_MODEL_1c9f9f3be6c74af9b290d36a1009f1ac"
      ],
      "layout": "IPY_MODEL_56bf5b39547148088d78cba16c6274e1"
     }
    },
    "56bf5b39547148088d78cba16c6274e1": {
     "model_module": "@jupyter-widgets/base",
     "model_module_version": "1.2.0",
     "model_name": "LayoutModel",
     "state": {
      "_model_module": "@jupyter-widgets/base",
      "_model_module_version": "1.2.0",
      "_model_name": "LayoutModel",
      "_view_count": null,
      "_view_module": "@jupyter-widgets/base",
      "_view_module_version": "1.2.0",
      "_view_name": "LayoutView",
      "align_content": null,
      "align_items": null,
      "align_self": null,
      "border": null,
      "bottom": null,
      "display": null,
      "flex": null,
      "flex_flow": null,
      "grid_area": null,
      "grid_auto_columns": null,
      "grid_auto_flow": null,
      "grid_auto_rows": null,
      "grid_column": null,
      "grid_gap": null,
      "grid_row": null,
      "grid_template_areas": null,
      "grid_template_columns": null,
      "grid_template_rows": null,
      "height": null,
      "justify_content": null,
      "justify_items": null,
      "left": null,
      "margin": null,
      "max_height": null,
      "max_width": null,
      "min_height": null,
      "min_width": null,
      "object_fit": null,
      "object_position": null,
      "order": null,
      "overflow": null,
      "overflow_x": null,
      "overflow_y": null,
      "padding": null,
      "right": null,
      "top": null,
      "visibility": "hidden",
      "width": null
     }
    },
    "75bb777bc9404c75adab1a126db6e842": {
     "model_module": "@jupyter-widgets/controls",
     "model_module_version": "1.5.0",
     "model_name": "HTMLModel",
     "state": {
      "_dom_classes": [],
      "_model_module": "@jupyter-widgets/controls",
      "_model_module_version": "1.5.0",
      "_model_name": "HTMLModel",
      "_view_count": null,
      "_view_module": "@jupyter-widgets/controls",
      "_view_module_version": "1.5.0",
      "_view_name": "HTMLView",
      "description": "",
      "description_tooltip": null,
      "layout": "IPY_MODEL_d1a28978c0754beca1a75716630f5751",
      "placeholder": "​",
      "style": "IPY_MODEL_d00a186d5d8d4e6782304e66afd4236b",
      "value": " 21/21 [31:09&lt;00:00, 97.93s/it]"
     }
    },
    "7b19451f010c47f2905ff28fba9cc694": {
     "model_module": "@jupyter-widgets/controls",
     "model_module_version": "1.5.0",
     "model_name": "FloatProgressModel",
     "state": {
      "_dom_classes": [],
      "_model_module": "@jupyter-widgets/controls",
      "_model_module_version": "1.5.0",
      "_model_name": "FloatProgressModel",
      "_view_count": null,
      "_view_module": "@jupyter-widgets/controls",
      "_view_module_version": "1.5.0",
      "_view_name": "ProgressView",
      "bar_style": "",
      "description": "",
      "description_tooltip": null,
      "layout": "IPY_MODEL_e47a7e637244478dab019c766eddca70",
      "max": 21,
      "min": 0,
      "orientation": "horizontal",
      "style": "IPY_MODEL_533b00991aa947a9834f8dc0f1f9490f",
      "value": 21
     }
    },
    "9ee7f88808054c81b9a28d43029405bc": {
     "model_module": "@jupyter-widgets/controls",
     "model_module_version": "1.5.0",
     "model_name": "HTMLModel",
     "state": {
      "_dom_classes": [],
      "_model_module": "@jupyter-widgets/controls",
      "_model_module_version": "1.5.0",
      "_model_name": "HTMLModel",
      "_view_count": null,
      "_view_module": "@jupyter-widgets/controls",
      "_view_module_version": "1.5.0",
      "_view_name": "HTMLView",
      "description": "",
      "description_tooltip": null,
      "layout": "IPY_MODEL_4996f87f7f58493c8e01310b37e8fb58",
      "placeholder": "​",
      "style": "IPY_MODEL_fd543a06b213412987ae4605dfed9cbd",
      "value": "Processing: 100%"
     }
    },
    "a0cca176098149b68bb8bdfd2193bb10": {
     "model_module": "@jupyter-widgets/controls",
     "model_module_version": "1.5.0",
     "model_name": "FloatProgressModel",
     "state": {
      "_dom_classes": [],
      "_model_module": "@jupyter-widgets/controls",
      "_model_module_version": "1.5.0",
      "_model_name": "FloatProgressModel",
      "_view_count": null,
      "_view_module": "@jupyter-widgets/controls",
      "_view_module_version": "1.5.0",
      "_view_name": "ProgressView",
      "bar_style": "",
      "description": "",
      "description_tooltip": null,
      "layout": "IPY_MODEL_e752fd84ab7c4f55810b253c29852333",
      "max": 21,
      "min": 0,
      "orientation": "horizontal",
      "style": "IPY_MODEL_d5ebccc5e9e44943a44099d69018bba1",
      "value": 21
     }
    },
    "a21f463855b242a9b9008dba664c0343": {
     "model_module": "@jupyter-widgets/base",
     "model_module_version": "1.2.0",
     "model_name": "LayoutModel",
     "state": {
      "_model_module": "@jupyter-widgets/base",
      "_model_module_version": "1.2.0",
      "_model_name": "LayoutModel",
      "_view_count": null,
      "_view_module": "@jupyter-widgets/base",
      "_view_module_version": "1.2.0",
      "_view_name": "LayoutView",
      "align_content": null,
      "align_items": null,
      "align_self": null,
      "border": null,
      "bottom": null,
      "display": null,
      "flex": null,
      "flex_flow": null,
      "grid_area": null,
      "grid_auto_columns": null,
      "grid_auto_flow": null,
      "grid_auto_rows": null,
      "grid_column": null,
      "grid_gap": null,
      "grid_row": null,
      "grid_template_areas": null,
      "grid_template_columns": null,
      "grid_template_rows": null,
      "height": null,
      "justify_content": null,
      "justify_items": null,
      "left": null,
      "margin": null,
      "max_height": null,
      "max_width": null,
      "min_height": null,
      "min_width": null,
      "object_fit": null,
      "object_position": null,
      "order": null,
      "overflow": null,
      "overflow_x": null,
      "overflow_y": null,
      "padding": null,
      "right": null,
      "top": null,
      "visibility": "hidden",
      "width": null
     }
    },
    "d0061c519a3149a781fc7330f171cfe2": {
     "model_module": "@jupyter-widgets/base",
     "model_module_version": "1.2.0",
     "model_name": "LayoutModel",
     "state": {
      "_model_module": "@jupyter-widgets/base",
      "_model_module_version": "1.2.0",
      "_model_name": "LayoutModel",
      "_view_count": null,
      "_view_module": "@jupyter-widgets/base",
      "_view_module_version": "1.2.0",
      "_view_name": "LayoutView",
      "align_content": null,
      "align_items": null,
      "align_self": null,
      "border": null,
      "bottom": null,
      "display": null,
      "flex": null,
      "flex_flow": null,
      "grid_area": null,
      "grid_auto_columns": null,
      "grid_auto_flow": null,
      "grid_auto_rows": null,
      "grid_column": null,
      "grid_gap": null,
      "grid_row": null,
      "grid_template_areas": null,
      "grid_template_columns": null,
      "grid_template_rows": null,
      "height": null,
      "justify_content": null,
      "justify_items": null,
      "left": null,
      "margin": null,
      "max_height": null,
      "max_width": null,
      "min_height": null,
      "min_width": null,
      "object_fit": null,
      "object_position": null,
      "order": null,
      "overflow": null,
      "overflow_x": null,
      "overflow_y": null,
      "padding": null,
      "right": null,
      "top": null,
      "visibility": null,
      "width": null
     }
    },
    "d00a186d5d8d4e6782304e66afd4236b": {
     "model_module": "@jupyter-widgets/controls",
     "model_module_version": "1.5.0",
     "model_name": "DescriptionStyleModel",
     "state": {
      "_model_module": "@jupyter-widgets/controls",
      "_model_module_version": "1.5.0",
      "_model_name": "DescriptionStyleModel",
      "_view_count": null,
      "_view_module": "@jupyter-widgets/base",
      "_view_module_version": "1.2.0",
      "_view_name": "StyleView",
      "description_width": ""
     }
    },
    "d1a28978c0754beca1a75716630f5751": {
     "model_module": "@jupyter-widgets/base",
     "model_module_version": "1.2.0",
     "model_name": "LayoutModel",
     "state": {
      "_model_module": "@jupyter-widgets/base",
      "_model_module_version": "1.2.0",
      "_model_name": "LayoutModel",
      "_view_count": null,
      "_view_module": "@jupyter-widgets/base",
      "_view_module_version": "1.2.0",
      "_view_name": "LayoutView",
      "align_content": null,
      "align_items": null,
      "align_self": null,
      "border": null,
      "bottom": null,
      "display": null,
      "flex": null,
      "flex_flow": null,
      "grid_area": null,
      "grid_auto_columns": null,
      "grid_auto_flow": null,
      "grid_auto_rows": null,
      "grid_column": null,
      "grid_gap": null,
      "grid_row": null,
      "grid_template_areas": null,
      "grid_template_columns": null,
      "grid_template_rows": null,
      "height": null,
      "justify_content": null,
      "justify_items": null,
      "left": null,
      "margin": null,
      "max_height": null,
      "max_width": null,
      "min_height": null,
      "min_width": null,
      "object_fit": null,
      "object_position": null,
      "order": null,
      "overflow": null,
      "overflow_x": null,
      "overflow_y": null,
      "padding": null,
      "right": null,
      "top": null,
      "visibility": null,
      "width": null
     }
    },
    "d5ebccc5e9e44943a44099d69018bba1": {
     "model_module": "@jupyter-widgets/controls",
     "model_module_version": "1.5.0",
     "model_name": "ProgressStyleModel",
     "state": {
      "_model_module": "@jupyter-widgets/controls",
      "_model_module_version": "1.5.0",
      "_model_name": "ProgressStyleModel",
      "_view_count": null,
      "_view_module": "@jupyter-widgets/base",
      "_view_module_version": "1.2.0",
      "_view_name": "StyleView",
      "bar_color": null,
      "description_width": ""
     }
    },
    "e47a7e637244478dab019c766eddca70": {
     "model_module": "@jupyter-widgets/base",
     "model_module_version": "1.2.0",
     "model_name": "LayoutModel",
     "state": {
      "_model_module": "@jupyter-widgets/base",
      "_model_module_version": "1.2.0",
      "_model_name": "LayoutModel",
      "_view_count": null,
      "_view_module": "@jupyter-widgets/base",
      "_view_module_version": "1.2.0",
      "_view_name": "LayoutView",
      "align_content": null,
      "align_items": null,
      "align_self": null,
      "border": null,
      "bottom": null,
      "display": null,
      "flex": null,
      "flex_flow": null,
      "grid_area": null,
      "grid_auto_columns": null,
      "grid_auto_flow": null,
      "grid_auto_rows": null,
      "grid_column": null,
      "grid_gap": null,
      "grid_row": null,
      "grid_template_areas": null,
      "grid_template_columns": null,
      "grid_template_rows": null,
      "height": null,
      "justify_content": null,
      "justify_items": null,
      "left": null,
      "margin": null,
      "max_height": null,
      "max_width": null,
      "min_height": null,
      "min_width": null,
      "object_fit": null,
      "object_position": null,
      "order": null,
      "overflow": null,
      "overflow_x": null,
      "overflow_y": null,
      "padding": null,
      "right": null,
      "top": null,
      "visibility": null,
      "width": null
     }
    },
    "e534fa3f9ee04ad9b7950518fa6138d3": {
     "model_module": "@jupyter-widgets/controls",
     "model_module_version": "1.5.0",
     "model_name": "HTMLModel",
     "state": {
      "_dom_classes": [],
      "_model_module": "@jupyter-widgets/controls",
      "_model_module_version": "1.5.0",
      "_model_name": "HTMLModel",
      "_view_count": null,
      "_view_module": "@jupyter-widgets/controls",
      "_view_module_version": "1.5.0",
      "_view_name": "HTMLView",
      "description": "",
      "description_tooltip": null,
      "layout": "IPY_MODEL_19066966f02d4c51a46b0280c9a9d32a",
      "placeholder": "​",
      "style": "IPY_MODEL_49e48e474f744bc68be5d45fe4349a8a",
      "value": "Processing: 100%"
     }
    },
    "e752fd84ab7c4f55810b253c29852333": {
     "model_module": "@jupyter-widgets/base",
     "model_module_version": "1.2.0",
     "model_name": "LayoutModel",
     "state": {
      "_model_module": "@jupyter-widgets/base",
      "_model_module_version": "1.2.0",
      "_model_name": "LayoutModel",
      "_view_count": null,
      "_view_module": "@jupyter-widgets/base",
      "_view_module_version": "1.2.0",
      "_view_name": "LayoutView",
      "align_content": null,
      "align_items": null,
      "align_self": null,
      "border": null,
      "bottom": null,
      "display": null,
      "flex": null,
      "flex_flow": null,
      "grid_area": null,
      "grid_auto_columns": null,
      "grid_auto_flow": null,
      "grid_auto_rows": null,
      "grid_column": null,
      "grid_gap": null,
      "grid_row": null,
      "grid_template_areas": null,
      "grid_template_columns": null,
      "grid_template_rows": null,
      "height": null,
      "justify_content": null,
      "justify_items": null,
      "left": null,
      "margin": null,
      "max_height": null,
      "max_width": null,
      "min_height": null,
      "min_width": null,
      "object_fit": null,
      "object_position": null,
      "order": null,
      "overflow": null,
      "overflow_x": null,
      "overflow_y": null,
      "padding": null,
      "right": null,
      "top": null,
      "visibility": null,
      "width": null
     }
    },
    "fd543a06b213412987ae4605dfed9cbd": {
     "model_module": "@jupyter-widgets/controls",
     "model_module_version": "1.5.0",
     "model_name": "DescriptionStyleModel",
     "state": {
      "_model_module": "@jupyter-widgets/controls",
      "_model_module_version": "1.5.0",
      "_model_name": "DescriptionStyleModel",
      "_view_count": null,
      "_view_module": "@jupyter-widgets/base",
      "_view_module_version": "1.2.0",
      "_view_name": "StyleView",
      "description_width": ""
     }
    }
   }
  }
 },
 "nbformat": 4,
 "nbformat_minor": 1
}
